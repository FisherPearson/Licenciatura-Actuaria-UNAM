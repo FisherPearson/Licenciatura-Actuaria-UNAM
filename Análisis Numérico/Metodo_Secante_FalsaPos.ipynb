{
 "cells": [
  {
   "cell_type": "markdown",
   "metadata": {},
   "source": [
    "<h1><center> METODOS PARA ECUACIONES NO LINEALES : METODO DE LA FALSA POSICIÓN Y METODO DE LA SECANTE </center></h1>"
   ]
  },
  {
   "cell_type": "markdown",
   "metadata": {},
   "source": [
    "Autores\n",
    "---\n",
    "1. David Montaño Castro\n",
    "2. Sergio Israel Durán García"
   ]
  },
  {
   "cell_type": "markdown",
   "metadata": {},
   "source": [
    "Comentarios\n",
    "---\n",
    "Modulo el cual contiene 2 metodos para la encontrar raices para ecuaciones no lineales. Por favor, si alguna función especial distinta a las pre-cargadas por nosotros no está disponible, descargala tú agregandola en el bloque de paqueterías. Para más información, da click [aquí :D](https://docs.sympy.org/latest/modules/functions/index.html) y dirígete a la parte de hasta abajo. <br><br>\n",
    "Si deseas conocer la paquetería __Sympy__, te dejo la siguiente [página](https://docs.sympy.org/latest/modules/calculus/index.html#sympy.calculus.util.continuous_domain). Resulta muy útil para este tipo de programas. "
   ]
  },
  {
   "cell_type": "code",
   "execution_count": 1,
   "metadata": {},
   "outputs": [],
   "source": [
    "import sympy as sp\n",
    "from sympy import Symbol, Interval, S, tan, log,ln, pi, sqrt, sin, cos,csc, exp, Abs, Min, Max  #<----- Aquí puedes agregar la función que desees.\n",
    "from sympy.calculus.util import continuous_domain\n",
    "from sympy.sets import Interval\n",
    "x = sp.Symbol(\"x\")"
   ]
  },
  {
   "cell_type": "markdown",
   "metadata": {},
   "source": [
    "Funciones auxiliares\n",
    "---"
   ]
  },
  {
   "cell_type": "markdown",
   "metadata": {},
   "source": [
    "### Función para corroborar si una función es continua."
   ]
  },
  {
   "cell_type": "code",
   "execution_count": 2,
   "metadata": {},
   "outputs": [],
   "source": [
    "def continua(funcion,cota_inf,cota_sup):\n",
    "    \"\"\"\n",
    "    Corrobora que una función es continua en un intervalo cerrado dado.\n",
    "    \n",
    "    La función solo retornará True si se cumple la condición.\n",
    "    \n",
    "    Parámetros:\n",
    "    \n",
    "    función : La función de interes a verificar si es continua.\n",
    "    cota_inf : La cota inferior del intervalo.\n",
    "    cota_sup : La cota superior del intervalo.\n",
    "    \"\"\"\n",
    "    dominio = continuous_domain(funcion,x, S.Reals)\n",
    "    return Interval(cota_inf,cota_sup).is_subset(dominio)"
   ]
  },
  {
   "cell_type": "markdown",
   "metadata": {},
   "source": [
    "### Función para ver si un número pertenece a un intervalo."
   ]
  },
  {
   "cell_type": "code",
   "execution_count": 3,
   "metadata": {},
   "outputs": [],
   "source": [
    "def pertenece(numero, cot_inf,cot_sup):\n",
    "    \"\"\"\n",
    "    Corrobora si un punto pertenece a el intervalo dado.\n",
    "    \n",
    "    La función retornará True si se cumple la condición.\n",
    "    \n",
    "    Parámetros:\n",
    "    \n",
    "    numero : El número cuya pertenencia se quiere verificar.\n",
    "    cota_inf : La cota inferior del intervalo.\n",
    "    cota_sup : La cota superior del intervalo.\n",
    "    \"\"\"\n",
    "    return Interval(cot_inf,cot_sup).contains(numero)"
   ]
  },
  {
   "cell_type": "markdown",
   "metadata": {},
   "source": [
    "### Función para Error absoluto."
   ]
  },
  {
   "cell_type": "code",
   "execution_count": 4,
   "metadata": {},
   "outputs": [],
   "source": [
    "def error_absoluto(numero1,numero2):\n",
    "    \"\"\"\n",
    "    Devuelve el error absoluto entre dos numeros.\n",
    "    \n",
    "    Parámetros:\n",
    "    \n",
    "    numero1 : primer numero.\n",
    "    numero2 : segundo numero.\n",
    "    \"\"\"\n",
    "    return print(\"Error absoluto: \", float(Abs(numero1-numero2)))"
   ]
  },
  {
   "cell_type": "markdown",
   "metadata": {},
   "source": [
    "### Función para Error relativo.\n",
    "En un principio había usado funciones máximo y mínimo para no exigirle un orden al usuario al introducir los parámetros pero esto elevó la complejidad de mi algoritmo; por lo tanto, tendrá que tener un orden."
   ]
  },
  {
   "cell_type": "code",
   "execution_count": 16,
   "metadata": {},
   "outputs": [],
   "source": [
    "def error_relativo(numero1,numero2):\n",
    "    \"\"\"\n",
    "    Devuelve el error relativo entre dos numeros.\n",
    "    \n",
    "    Parámetros:\n",
    "    \n",
    "    numero1 : número menor o Xn-1\n",
    "    numero2 : numero mayor o Xn\n",
    "    \"\"\"\n",
    "    return print(\"Error relativo:\", float((numero2-numero1)/numero2))"
   ]
  },
  {
   "cell_type": "markdown",
   "metadata": {},
   "source": [
    "---"
   ]
  },
  {
   "cell_type": "markdown",
   "metadata": {},
   "source": [
    "<h1><center> METODO : FALSA POSICIÓN </center></h1>\n",
    "El algorítmo consta de 5 pasos:\n",
    "\n",
    "1. Ver si $f$ es continua en el intervalo $[a,b]\\in\\mathbb{R}$\n",
    "2. $f(a) * f(b) < 0$ o que $f(a)$ y  $f(b)$ sean de signos contrarios.\n",
    "3. $y = \\left( \\displaystyle\\frac{f(b) - f(a)}{b-a} \\right) (x-a) + f(a).$ Si x' tal que y = 0  $\\longrightarrow x' = a - f(a) \\left( \\displaystyle\\frac{b-a}{f(b) - f(a)} \\right) $ \n",
    "4. Cálculo $f(x')$\n",
    "    1. $f(x') = 0 \\longrightarrow$ terminé.\n",
    "    2. $f(x')$ comparte signo con $f(a)$ $\\longrightarrow a = x'$\n",
    "    3. $f(x')$ comparte signo con $f(b)$ $\\longrightarrow b = x'$\n",
    "5. Repetir el proceso del 2. al 4. hasta el número de iteraciones establecido y/o hasta la tolerancia establecida."
   ]
  },
  {
   "cell_type": "code",
   "execution_count": 6,
   "metadata": {},
   "outputs": [],
   "source": [
    "def Metodo_FalsaPos(funcion,a,b,iteraciones):\n",
    "    \"\"\"\n",
    "    Metodo iterativo que calcula la raiz de una función que está entre el intervalo [a,b] por medio del metodo de la falsa posición..\n",
    "    \n",
    "    Parámetros:\n",
    "    \n",
    "    funcion : función cuya raiz deseamos encontrar.\n",
    "    a : cota inferior del intervalo.\n",
    "    b : cota superior del intervalo.\n",
    "    iteraciones : número de iteraciones.\n",
    "    \"\"\"\n",
    "    \n",
    "    x = sp.Symbol(\"x\")\n",
    "    if continua(funcion,a,b): # DIME SI LA FUNCIÓN ES CONTINUA.\n",
    "        function = funcion\n",
    "        \n",
    "        f_a = function.subs(x,a) #ASIGNAR ANTES LOS VALORES PARA VERIFICAR CONDICIÓN DE NEGATIVIDAD\n",
    "        f_b = function.subs(x,b)\n",
    "        \n",
    "        if float(f_a) * float(f_b) < 0: #CONDICIÓN DE NEGATIVIDAD\n",
    "            for i in range(1,iteraciones + 1):\n",
    "                print(f\"ITERACION {i}\")\n",
    "                f_a = function.subs(x,a)\n",
    "                print(\"El valor de f_a es:\", float(f_a))\n",
    "                f_b = function.subs(x,b)\n",
    "                print(\"El valor de f_b es:\", float(f_b))\n",
    "                \n",
    "                nuevo_valor = a-(f_a*(b-a)/(f_b-f_a)) #SUSTITUCIÓN\n",
    "                print(\"El nuevo valor es:\",float(nuevo_valor))\n",
    "                f_nuevo_valor = function.subs(x,nuevo_valor)\n",
    "                print(\"La imagen del nuevo valor es:\", float(f_nuevo_valor))\n",
    "                \n",
    "                if float(f_nuevo_valor) < 0: #CONDICIÓN SIGNO\n",
    "                    error_absoluto(f_nuevo_valor,f_a)\n",
    "                    error_relativo(f_nuevo_valor,f_a)\n",
    "                    a = nuevo_valor\n",
    "                elif float(f_nuevo_valor) > 0:\n",
    "                    error_absoluto(f_nuevo_valor,f_b)\n",
    "                    error_relativo(f_nuevo_valor,f_b)\n",
    "                    \n",
    "                    b = nuevo_valor\n",
    "                else:\n",
    "                    print(\"La raiz es 0\")\n",
    "                    break\n",
    "                print(2*\"\\n\")\n",
    "            \n",
    "            print(\"La raiz es aproximadamente:\", float(nuevo_valor)) #RESULTADO\n",
    "            if float(f_nuevo_valor) < 0:\n",
    "                error_absoluto(f_nuevo_valor,f_a)\n",
    "                error_relativo(f_nuevo_valor,f_a)\n",
    "            else:\n",
    "                error_absoluto(f_nuevo_valor,f_b)\n",
    "                error_relativo(f_nuevo_valor,f_b)\n",
    "                               \n",
    "            \n",
    "                \n",
    "        else:\n",
    "            print(\"El producto de las imágenes de los extremos de tu intervalo no es negativo.\")\n",
    "            \n",
    "    else:\n",
    "        print(\"Tu función no es continua en el intervalo que das.\")\n",
    "    \n",
    "                    \n",
    "                    \n",
    "                "
   ]
  },
  {
   "cell_type": "markdown",
   "metadata": {},
   "source": [
    "Ejemplos\n",
    "---"
   ]
  },
  {
   "cell_type": "markdown",
   "metadata": {},
   "source": [
    "### Ejemplo visto en clase."
   ]
  },
  {
   "cell_type": "code",
   "execution_count": 17,
   "metadata": {},
   "outputs": [
    {
     "name": "stdout",
     "output_type": "stream",
     "text": [
      "ITERACION 1\n",
      "El valor de f_a es: -35.0\n",
      "El valor de f_b es: 14.0\n",
      "El nuevo valor es: 0.0\n",
      "La imagen del nuevo valor es: -10.0\n",
      "Error absoluto:  25.0\n",
      "Error relativo: 0.7142857142857143\n",
      "\n",
      "\n",
      "\n",
      "ITERACION 2\n",
      "El valor de f_a es: -10.0\n",
      "El valor de f_b es: 14.0\n",
      "El nuevo valor es: 0.8333333333333334\n",
      "La imagen del nuevo valor es: -6.643518518518518\n",
      "Error absoluto:  3.3564814814814814\n",
      "Error relativo: 0.33564814814814814\n",
      "\n",
      "\n",
      "\n",
      "ITERACION 3\n",
      "El valor de f_a es: -6.643518518518518\n",
      "El valor de f_b es: 14.0\n",
      "El nuevo valor es: 1.2087912087912087\n",
      "La imagen del nuevo valor es: -2.3890383255194267\n",
      "Error absoluto:  4.254480192999091\n",
      "Error relativo: 0.6403956248695497\n",
      "\n",
      "\n",
      "\n",
      "La raiz es aproximadamente: 1.2087912087912087\n",
      "Error absoluto:  4.254480192999091\n",
      "Error relativo: 0.6403956248695497\n"
     ]
    }
   ],
   "source": [
    "Metodo_FalsaPos(x**3+4*x**2-10,-5,2,3)"
   ]
  },
  {
   "cell_type": "markdown",
   "metadata": {},
   "source": [
    "Aunque converge aproximadamente a la sexta iteración."
   ]
  },
  {
   "cell_type": "code",
   "execution_count": 18,
   "metadata": {},
   "outputs": [
    {
     "name": "stdout",
     "output_type": "stream",
     "text": [
      "ITERACION 1\n",
      "El valor de f_a es: -35.0\n",
      "El valor de f_b es: 14.0\n",
      "El nuevo valor es: 0.0\n",
      "La imagen del nuevo valor es: -10.0\n",
      "Error absoluto:  25.0\n",
      "Error relativo: 0.7142857142857143\n",
      "\n",
      "\n",
      "\n",
      "ITERACION 2\n",
      "El valor de f_a es: -10.0\n",
      "El valor de f_b es: 14.0\n",
      "El nuevo valor es: 0.8333333333333334\n",
      "La imagen del nuevo valor es: -6.643518518518518\n",
      "Error absoluto:  3.3564814814814814\n",
      "Error relativo: 0.33564814814814814\n",
      "\n",
      "\n",
      "\n",
      "ITERACION 3\n",
      "El valor de f_a es: -6.643518518518518\n",
      "El valor de f_b es: 14.0\n",
      "El nuevo valor es: 1.2087912087912087\n",
      "La imagen del nuevo valor es: -2.3890383255194267\n",
      "Error absoluto:  4.254480192999091\n",
      "Error relativo: 0.6403956248695497\n",
      "\n",
      "\n",
      "\n",
      "ITERACION 4\n",
      "El valor de f_a es: -2.3890383255194267\n",
      "El valor de f_b es: 14.0\n",
      "El nuevo valor es: 1.32412611057995\n",
      "La imagen del nuevo valor es: -0.6651566794894487\n",
      "Error absoluto:  1.7238816460299782\n",
      "Error relativo: 0.7215797367567012\n",
      "\n",
      "\n",
      "\n",
      "ITERACION 5\n",
      "El valor de f_a es: -0.6651566794894487\n",
      "El valor de f_b es: 14.0\n",
      "El nuevo valor es: 1.3547812233663694\n",
      "La imagen del nuevo valor es: -0.17166231580847977\n",
      "Error absoluto:  0.49349436368096894\n",
      "Error relativo: 0.7419219845461947\n",
      "\n",
      "\n",
      "\n",
      "ITERACION 6\n",
      "El valor de f_a es: -0.17166231580847977\n",
      "El valor de f_b es: 14.0\n",
      "El nuevo valor es: 1.3625968025787312\n",
      "La imagen del nuevo valor es: -0.04342714574355188\n",
      "Error absoluto:  0.1282351700649279\n",
      "Error relativo: 0.7470199237437605\n",
      "\n",
      "\n",
      "\n",
      "La raiz es aproximadamente: 1.3625968025787312\n",
      "Error absoluto:  0.1282351700649279\n",
      "Error relativo: 0.7470199237437605\n"
     ]
    }
   ],
   "source": [
    "Metodo_FalsaPos(x**3+4*x**2-10,-5,2,6)"
   ]
  },
  {
   "cell_type": "markdown",
   "metadata": {},
   "source": [
    "### [Ejemplo video](https://youtu.be/2ZQfkJBb6MI?t=993)"
   ]
  },
  {
   "cell_type": "code",
   "execution_count": 19,
   "metadata": {},
   "outputs": [
    {
     "name": "stdout",
     "output_type": "stream",
     "text": [
      "ITERACION 1\n",
      "El valor de f_a es: 1.5\n",
      "El valor de f_b es: -2.5\n",
      "El nuevo valor es: 6.375\n",
      "La imagen del nuevo valor es: 0.1171875\n",
      "Error absoluto:  2.6171875\n",
      "Error relativo: 1.046875\n",
      "\n",
      "\n",
      "\n",
      "ITERACION 2\n",
      "El valor de f_a es: 1.5\n",
      "El valor de f_b es: 0.1171875\n",
      "El nuevo valor es: 6.406779661016949\n",
      "La imagen del nuevo valor es: -0.006463659867851135\n",
      "Error absoluto:  1.5064636598678511\n",
      "Error relativo: 1.0043091065785674\n",
      "\n",
      "\n",
      "\n",
      "ITERACION 3\n",
      "El valor de f_a es: -0.006463659867851135\n",
      "El valor de f_b es: 0.1171875\n",
      "El nuevo valor es: 6.405118431799619\n",
      "La imagen del nuevo valor es: 2.5016809441780197e-05\n",
      "Error absoluto:  0.11716248319055822\n",
      "Error relativo: 0.9997865232260968\n",
      "\n",
      "\n",
      "\n",
      "ITERACION 4\n",
      "El valor de f_a es: -0.006463659867851135\n",
      "El valor de f_b es: 2.5016809441780197e-05\n",
      "El nuevo valor es: 6.405124836596288\n",
      "La imagen del nuevo valor es: 5.299405358982767e-09\n",
      "Error absoluto:  2.5011510036421214e-05\n",
      "Error relativo: 0.9997881662179458\n",
      "\n",
      "\n",
      "\n",
      "ITERACION 5\n",
      "El valor de f_a es: -0.006463659867851135\n",
      "El valor de f_b es: 5.299405358982767e-09\n",
      "El nuevo valor es: 6.405124837953039\n",
      "La imagen del nuevo valor es: 1.1262102361797588e-12\n",
      "Error absoluto:  5.2982791487465875e-09\n",
      "Error relativo: 0.9997874836590352\n",
      "\n",
      "\n",
      "\n",
      "La raiz es aproximadamente: 6.405124837953039\n",
      "Error absoluto:  5.2982791487465875e-09\n",
      "Error relativo: 0.9997874836590352\n"
     ]
    }
   ],
   "source": [
    "Metodo_FalsaPos(-.5*x**2+2.5*x+4.5,6,7,5)"
   ]
  },
  {
   "cell_type": "markdown",
   "metadata": {},
   "source": [
    "### Ejemplo con una función no continua en el intervalo."
   ]
  },
  {
   "cell_type": "code",
   "execution_count": 10,
   "metadata": {},
   "outputs": [
    {
     "name": "stdout",
     "output_type": "stream",
     "text": [
      "Tu función no es continua en el intervalo que das.\n"
     ]
    }
   ],
   "source": [
    "Metodo_FalsaPos((x**2-1)/(x-1),-1,1,3)"
   ]
  },
  {
   "cell_type": "markdown",
   "metadata": {},
   "source": [
    "<h1><center> METODO : SECANTE </center></h1>\n",
    "El algorítmo consta de 5 pasos:\n",
    "\n",
    "1. $f(x)$ tiene que ser una función continua en $[a,b]\\in\\mathbb{R}$\n",
    "2. $(x_0,f(x_0))$ , $(x_1,f(x_1))$ con $x_0,x_1\\in[a,b]$\n"
   ]
  },
  {
   "cell_type": "code",
   "execution_count": 11,
   "metadata": {},
   "outputs": [],
   "source": [
    "def Metodo_Secante(funcion,x0,x1,iteraciones):\n",
    "    \"\"\"\n",
    "    Metodo iterativo que calcula la raiz de una función que está entre el intervalo [x0,x1] por medio del metodo de la secante.\n",
    "    \n",
    "    Parámetros:\n",
    "    \n",
    "    funcion : función cuya raiz deseamos encontrar.\n",
    "    x0 : cota inferior del intervalo.\n",
    "    x1 : cota superior del intervalo.\n",
    "    iteraciones : número de iteraciones.\n",
    "    \"\"\"\n",
    "    x = sp.Symbol(\"x\")\n",
    "    if continua(funcion,x0,x1): # DIME SI LA FUNCIÓN ES CONTINUA. \n",
    "        function = funcion\n",
    "\n",
    "        for i in range(1,iteraciones+1): # PROCEDIMIENTO/ALGORITMO\n",
    "            print(f\"ITERACIÓN {i}\")\n",
    "            print(\"El valor de x0 es: \",float(x0))\n",
    "            print(\"El valor de x1 es: \",float(x1))\n",
    "            f_x0 = function.subs(x,x0)\n",
    "            print(\"El valor de f(x0) es:\", float(f_x0))\n",
    "            f_x1 = function.subs(x,x1)\n",
    "            print(\"El valor de f(x1) es:\", float(f_x1))\n",
    "\n",
    "            x_nueva = x0 - ((f_x0*(x1 - x0))/(f_x1 - f_x0)) #SUSTITUCIÓN\n",
    "            x0 = x1\n",
    "            print(\"El valor de x0 ahora es:\", float(x1))\n",
    "            x1 = x_nueva\n",
    "            print(\"El valor de x1 ahora es:\", float(x_nueva))\n",
    "            \n",
    "            error_absoluto(x0,x1) #CÁLCULO DE ERRORES\n",
    "            error_relativo(x0,x1)\n",
    "            print(2*\"\\n\")\n",
    "        \n",
    "\n",
    "        print(\"La raiz es aproximadamente:\",float(x1)) #RESULTADO\n",
    "        error_absoluto(x0,x1)\n",
    "        error_relativo(x0,x1)\n",
    "\n",
    "        \n",
    "    else:\n",
    "        print(\"Tu función no es continua en el intervalo que das.\")"
   ]
  },
  {
   "cell_type": "markdown",
   "metadata": {},
   "source": [
    "Ejemplos\n",
    "---"
   ]
  },
  {
   "cell_type": "markdown",
   "metadata": {},
   "source": [
    "### Ejemplo visto en clase."
   ]
  },
  {
   "cell_type": "code",
   "execution_count": 20,
   "metadata": {},
   "outputs": [
    {
     "name": "stdout",
     "output_type": "stream",
     "text": [
      "ITERACIÓN 1\n",
      "El valor de x0 es:  0.0\n",
      "El valor de x1 es:  1.0\n",
      "El valor de f(x0) es: -1.0\n",
      "El valor de f(x1) es: 0.5\n",
      "El valor de x0 ahora es: 1.0\n",
      "El valor de x1 ahora es: 0.6666666666666666\n",
      "Error absoluto:  0.3333333333333333\n",
      "Error relativo: -0.5\n",
      "\n",
      "\n",
      "\n",
      "ITERACIÓN 2\n",
      "El valor de x0 es:  1.0\n",
      "El valor de x1 es:  0.6666666666666666\n",
      "El valor de f(x0) es: 0.5\n",
      "El valor de f(x1) es: 0.03670614171923008\n",
      "El valor de x0 ahora es: 0.6666666666666666\n",
      "El valor de x1 ahora es: 0.640257120426445\n",
      "Error absoluto:  0.02640954624022166\n",
      "Error relativo: -0.04124834445047876\n",
      "\n",
      "\n",
      "\n",
      "ITERACIÓN 3\n",
      "El valor de x0 es:  0.6666666666666666\n",
      "El valor de x1 es:  0.640257120426445\n",
      "El valor de f(x0) es: 0.03670614171923008\n",
      "El valor de f(x1) es: -0.0013414709890177757\n",
      "El valor de x0 ahora es: 0.640257120426445\n",
      "El valor de x1 ahora es: 0.6411882600589377\n",
      "Error absoluto:  0.0009311396324926563\n",
      "Error relativo: 0.001452209421936494\n",
      "\n",
      "\n",
      "\n",
      "La raiz es aproximadamente: 0.6411882600589377\n",
      "Error absoluto:  0.0009311396324926563\n",
      "Error relativo: 0.001452209421936494\n"
     ]
    }
   ],
   "source": [
    "Metodo_Secante(x-2**-x,0,1,3)"
   ]
  },
  {
   "cell_type": "markdown",
   "metadata": {},
   "source": [
    "### [Ejemplo Número 4, pag. 9](https://mat1105.files.wordpress.com/2010/04/ejercicios-resueltos-1.pdf)."
   ]
  },
  {
   "cell_type": "code",
   "execution_count": 21,
   "metadata": {},
   "outputs": [
    {
     "name": "stdout",
     "output_type": "stream",
     "text": [
      "ITERACIÓN 1\n",
      "El valor de x0 es:  8.0\n",
      "El valor de x1 es:  9.0\n",
      "El valor de f(x0) es: -2.7752801040644512\n",
      "El valor de f(x1) es: -1.411817415046076\n",
      "El valor de x0 ahora es: 9.0\n",
      "El valor de x1 ahora es: 10.035464649247215\n",
      "Error absoluto:  1.0354646492472148\n",
      "Error relativo: 0.10318053876308433\n",
      "\n",
      "\n",
      "\n",
      "ITERACIÓN 2\n",
      "El valor de x0 es:  9.0\n",
      "El valor de x1 es:  10.035464649247215\n",
      "El valor de f(x0) es: -1.411817415046076\n",
      "El valor de f(x1) es: 0.05089402999492763\n",
      "El valor de x0 ahora es: 10.035464649247215\n",
      "El valor de x1 ahora es: 9.99943637511554\n",
      "Error absoluto:  0.036028274131674455\n",
      "Error relativo: -0.0036030304889317485\n",
      "\n",
      "\n",
      "\n",
      "ITERACIÓN 3\n",
      "El valor de x0 es:  10.035464649247215\n",
      "El valor de x1 es:  9.99943637511554\n",
      "El valor de f(x0) es: 0.05089402999492763\n",
      "El valor de f(x1) es: -0.0008083971633325145\n",
      "El valor de x0 ahora es: 9.99943637511554\n",
      "El valor de x1 ahora es: 9.999999697887963\n",
      "Error absoluto:  0.0005633227724234358\n",
      "Error relativo: 5.633227894420953e-05\n",
      "\n",
      "\n",
      "\n",
      "La raiz es aproximadamente: 9.999999697887963\n",
      "Error absoluto:  0.0005633227724234358\n",
      "Error relativo: 5.633227894420953e-05\n"
     ]
    }
   ],
   "source": [
    "Metodo_Secante(x * log(x,10) - 10,8,9,3)"
   ]
  },
  {
   "cell_type": "markdown",
   "metadata": {},
   "source": [
    "### Ejemplo con una función no continua en el intervalo."
   ]
  },
  {
   "cell_type": "code",
   "execution_count": 14,
   "metadata": {},
   "outputs": [
    {
     "name": "stdout",
     "output_type": "stream",
     "text": [
      "Tu función no es continua en el intervalo que das.\n"
     ]
    }
   ],
   "source": [
    "Metodo_Secante((x**2-1)/(x-1),0,2,3)"
   ]
  },
  {
   "cell_type": "code",
   "execution_count": 22,
   "metadata": {},
   "outputs": [
    {
     "name": "stdout",
     "output_type": "stream",
     "text": [
      "ITERACIÓN 1\n",
      "El valor de x0 es:  -2.0\n",
      "El valor de x1 es:  0.0\n",
      "El valor de f(x0) es: -11.729329433526775\n",
      "El valor de f(x1) es: 2.0\n",
      "El valor de x0 ahora es: 0.0\n",
      "El valor de x1 ahora es: -0.2913470770270886\n",
      "Error absoluto:  0.2913470770270886\n",
      "Error relativo: 1.0\n",
      "\n",
      "\n",
      "\n",
      "ITERACIÓN 2\n",
      "El valor de x0 es:  0.0\n",
      "El valor de x1 es:  -0.2913470770270886\n",
      "El valor de f(x0) es: 2.0\n",
      "El valor de f(x1) es: 1.2398631971582024\n",
      "El valor de x0 ahora es: -0.2913470770270886\n",
      "El valor de x1 ahora es: -0.7665648497425136\n",
      "Error absoluto:  0.475217772715425\n",
      "Error relativo: 0.6199315985791012\n",
      "\n",
      "\n",
      "\n",
      "ITERACIÓN 3\n",
      "El valor de x0 es:  -0.2913470770270886\n",
      "El valor de x1 es:  -0.7665648497425136\n",
      "El valor de f(x0) es: 1.2398631971582024\n",
      "El valor de f(x1) es: -0.8336523611032818\n",
      "El valor de x0 ahora es: -0.7665648497425136\n",
      "El valor de x1 ahora es: -0.5755045913885237\n",
      "Error absoluto:  0.1910602583539899\n",
      "Error relativo: -0.3319873745803097\n",
      "\n",
      "\n",
      "\n",
      "ITERACIÓN 4\n",
      "El valor de x0 es:  -0.7665648497425136\n",
      "El valor de x1 es:  -0.5755045913885237\n",
      "El valor de f(x0) es: -0.8336523611032818\n",
      "El valor de f(x1) es: 0.13122540467151725\n",
      "El valor de x0 ahora es: -0.5755045913885237\n",
      "El valor de x1 ahora es: -0.6014891882032447\n",
      "Error absoluto:  0.025984596814720998\n",
      "Error relativo: 0.043200438718344406\n",
      "\n",
      "\n",
      "\n",
      "La raiz es aproximadamente: -0.6014891882032447\n",
      "Error absoluto:  0.025984596814720998\n",
      "Error relativo: 0.043200438718344406\n"
     ]
    }
   ],
   "source": [
    "Metodo_Secante(2*exp(x)-3*x**2,-2,0,4)"
   ]
  }
 ],
 "metadata": {
  "kernelspec": {
   "display_name": "Python 3",
   "language": "python",
   "name": "python3"
  },
  "language_info": {
   "codemirror_mode": {
    "name": "ipython",
    "version": 3
   },
   "file_extension": ".py",
   "mimetype": "text/x-python",
   "name": "python",
   "nbconvert_exporter": "python",
   "pygments_lexer": "ipython3",
   "version": "3.8.3"
  },
  "toc-autonumbering": false,
  "toc-showmarkdowntxt": false
 },
 "nbformat": 4,
 "nbformat_minor": 4
}
