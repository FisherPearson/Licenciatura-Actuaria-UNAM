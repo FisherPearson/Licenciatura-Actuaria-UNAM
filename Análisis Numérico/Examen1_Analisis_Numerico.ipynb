{
 "cells": [
  {
   "cell_type": "markdown",
   "metadata": {},
   "source": [
    "Autores:\n",
    "---\n",
    "- David Montaño Castro\n",
    "- Sergio Israel Durán García"
   ]
  },
  {
   "cell_type": "code",
   "execution_count": 1,
   "metadata": {},
   "outputs": [],
   "source": [
    "import sympy as sp\n",
    "from sympy import Symbol, is_decreasing, is_increasing, Interval, S, tan, log,ln, pi, sqrt, sin, cos,csc, exp, Abs, Min, Max, oo  #<----- Aquí puedes agregar la función que desees.\n",
    "from sympy.calculus.util import continuous_domain\n",
    "from sympy.sets import Interval\n",
    "import numpy as np\n",
    "from numpy import linalg as LA\n",
    "import pandas as pd\n",
    "x = sp.Symbol(\"x\")"
   ]
  },
  {
   "cell_type": "markdown",
   "metadata": {},
   "source": [
    "<h1><center>EXAMEN 1 : ANÁLISIS NUMÉRICO</center></h1>"
   ]
  },
  {
   "cell_type": "markdown",
   "metadata": {},
   "source": [
    "<h1><center>MÉTODOS PARA RAICES</center></h1>"
   ]
  },
  {
   "cell_type": "markdown",
   "metadata": {},
   "source": [
    "Realiza los códigos en el lenguaje de programación R de los siguientes métodos para encontrar raíces de una función, considerando los criterios de paro visto en clase y mostrando la tabla comparativa de errores absolutos y relativos (2 puntos) :\n",
    "- Método de Bisección.\n",
    "- Método de Punto Fijo.\n",
    "- Método de Newton Modificado."
   ]
  },
  {
   "cell_type": "markdown",
   "metadata": {},
   "source": [
    "Auxiliares\n",
    "---"
   ]
  },
  {
   "cell_type": "code",
   "execution_count": 2,
   "metadata": {},
   "outputs": [],
   "source": [
    "def continua(funcion,cota_inf,cota_sup):\n",
    "    \"\"\"\n",
    "    Corrobora que una función es continua en un intervalo cerrado dado.\n",
    "    \n",
    "    La función solo retornará True si se cumple la condición.\n",
    "    \n",
    "    Parámetros:\n",
    "    \n",
    "    función : La función de interes a verificar si es continua.\n",
    "    cota_inf : La cota inferior del intervalo.\n",
    "    cota_sup : La cota superior del intervalo.\n",
    "    \"\"\"\n",
    "    dominio = continuous_domain(funcion,x, S.Reals)\n",
    "    return Interval(cota_inf,cota_sup).is_subset(dominio)"
   ]
  },
  {
   "cell_type": "code",
   "execution_count": 3,
   "metadata": {},
   "outputs": [],
   "source": [
    "def derivable(funcion,cota_inf,cota_sup):\n",
    "    \"\"\"\n",
    "    Corrobora que una función es derivable en un intervalo cerrado dado.\n",
    "    \n",
    "    La función solo retornará True si se cumple la condición.\n",
    "    \n",
    "    Parámetros:\n",
    "    \n",
    "    función : La función de interes a verificar si es derivable en el intervalo.\n",
    "    cota_inf : La cota inferior del intervalo.\n",
    "    cota_sup : La cota superior del intervalo. \n",
    "    \"\"\"\n",
    "    return continua(sp.diff(funcion,x),cota_inf,cota_sup)"
   ]
  },
  {
   "cell_type": "code",
   "execution_count": 4,
   "metadata": {},
   "outputs": [],
   "source": [
    "def de_creciente(funcion,cota_inf,cota_sup):\n",
    "    \"\"\"\n",
    "    Corrobora si la función DERIVADA de g(x) es creciente o decreciente en un intervalo cerrado dado.\n",
    "    \n",
    "    La función solo retornará True si se cumple la condición.\n",
    "    \n",
    "    Parámetros:\n",
    "    \n",
    "    función : La función de interes de la cual su derivada se quiere verificar si es creciente o decreciente en el intervalo.\n",
    "    cota_inf : La cota inferior del intervalo.\n",
    "    cota_sup : La cota superior del intervalo\n",
    "    \"\"\"\n",
    "    return is_increasing(sp.diff(funcion,x),Interval(cota_inf,cota_sup).closure) or is_decreasing(sp.diff(funcion,x),Interval(cota_inf,cota_sup).closure)\n",
    "    "
   ]
  },
  {
   "cell_type": "code",
   "execution_count": 5,
   "metadata": {},
   "outputs": [],
   "source": [
    "def unicidad_k(funcion,cota_inf,cota_sup):\n",
    "    \"\"\"\n",
    "    Corrobora que se cumpla la condición de unicidad para el algorítmo de punto fijo (|g'(x)|<k<1)\n",
    "    \n",
    "    Parámetros:\n",
    "    \n",
    "    función : La función de interes a verificar si cumple con la condición de unicidad en el intervalo.\n",
    "    cota_inf : La cota inferior del intervalo.\n",
    "    cota_sup : La cota superior del intervalo\n",
    "    \"\"\"\n",
    "    if de_creciente(funcion, cota_inf,cota_sup):\n",
    "        \n",
    "        funcion = sp.diff(funcion,x)\n",
    "        \n",
    "        f_a = abs(funcion.subs(x,cota_inf))\n",
    "        f_b = abs(funcion.subs(x,cota_sup))\n",
    "    \n",
    "        return max(f_a,f_b) < 1\n",
    "        \n",
    "    "
   ]
  },
  {
   "cell_type": "code",
   "execution_count": 6,
   "metadata": {},
   "outputs": [],
   "source": [
    "def error_absoluto(ultimo,anterior):\n",
    "    \"\"\"\n",
    "    Devuelve el error absoluto entre dos numeros.\n",
    "    \n",
    "    Parámetros:\n",
    "    \n",
    "    ultimo : primer numero.\n",
    "    anterior : segundo numero.\n",
    "    \"\"\"\n",
    "    return float(Abs(ultimo-anterior))"
   ]
  },
  {
   "cell_type": "code",
   "execution_count": 7,
   "metadata": {},
   "outputs": [],
   "source": [
    "def error_relativo(ultimo,anterior):\n",
    "    \"\"\"\n",
    "    Devuelve el error relativo entre dos numeros.\n",
    "    \n",
    "    Parámetros:\n",
    "    \n",
    "    numero1 : número menor o Xn-1\n",
    "    numero2 : numero mayor o Xn\n",
    "    \"\"\"\n",
    "    return float((ultimo-anterior)/ultimo)"
   ]
  },
  {
   "cell_type": "markdown",
   "metadata": {},
   "source": [
    "Método de Bisección\n",
    "---"
   ]
  },
  {
   "cell_type": "markdown",
   "metadata": {},
   "source": [
    "1. Validad que $f(x)$ es continua en $[a,b] \\in{R}$.\n",
    "2. $f(a) * f(b) < 0$.\n",
    "3. c = $\\left( \\displaystyle\\frac{a+b}{2} \\right) \\longrightarrow$ punto medio y calculo $f(c)$.\n",
    "4. $f(c) = 0 \\longrightarrow$ Terminé\n",
    "    - $> 0 \\longrightarrow f(c) y f(b)$ son de signos iguales y $[a,c]$ porque $b = c$\n",
    "    - $< 0 \\longrightarrow f(c) y f(a)$ son de signos iguales y $[c,b]$ porque $a = c$\n",
    "5. Repetir el proceso del 1 al 4 hasta el criterio de paro (# iteraciones y/o tolerancia)"
   ]
  },
  {
   "cell_type": "code",
   "execution_count": 8,
   "metadata": {},
   "outputs": [],
   "source": [
    "#SIN_REP\n",
    "def MET_BIS(funcion,a,b,itera):\n",
    "    \"\"\"\n",
    "    Algorítmo Método de Bisección para encontrar raices de funciones no lineales.\n",
    "    \n",
    "    Parámetros:\n",
    "    \n",
    "    funcion: función a encontrar raíces.\n",
    "    a = cota inferior del intervalo.\n",
    "    b = cota superior del intervalo.\n",
    "    itera = número de iteraciones.\n",
    "    \"\"\"\n",
    "    \n",
    "    x = sp.Symbol(\"x\")\n",
    "    errores_absolutos = []\n",
    "    errores_relativos = []\n",
    "    raices = []\n",
    "    \n",
    "    if continua(funcion,a,b):\n",
    "        \n",
    "        for i in range(1,itera + 1):\n",
    "            \n",
    "            f_a = funcion.subs(x,a)\n",
    "            f_b = funcion.subs(x,b)\n",
    "            \n",
    "            if f_a * f_b < 0:\n",
    "            \n",
    "                c = (a+b)/2\n",
    "                f_c = funcion.subs(x,c)\n",
    "            \n",
    "                if f_c == 0:\n",
    "                    errores_absolutos.append(np.nan)\n",
    "                    errores_relativos.append(np.nan)\n",
    "                    raices.append(c)\n",
    "                    print(\"La raiz que buscas es: \", c)\n",
    "                    break\n",
    "                    \n",
    "                elif f_c > 0:\n",
    "                    errores_absolutos.append(error_absoluto(c,b))\n",
    "                    errores_relativos.append(error_relativo(c,b))\n",
    "                    raices.append(c)\n",
    "                    \n",
    "                    b = c\n",
    "                    \n",
    "                elif f_c < 0:\n",
    "                    errores_absolutos.append(error_absoluto(c,a))\n",
    "                    errores_relativos.append(error_relativo(c,a))\n",
    "                    raices.append(c)\n",
    "                    \n",
    "                    a = c\n",
    "        \n",
    "        \n",
    "            else:\n",
    "                print(\"El producto de tu invervalo no es menor de cero.\")\n",
    "    \n",
    "            respuestas = pd.DataFrame({\"Raices\": raices,\"errores absolutos\": errores_absolutos,\"errores relativos\": errores_relativos})\n",
    "    else:\n",
    "        print(\"Tu funcion no es continua.\")\n",
    "    \n",
    "    \n",
    "    return respuestas"
   ]
  },
  {
   "cell_type": "markdown",
   "metadata": {},
   "source": [
    "### Ejercicio de clase"
   ]
  },
  {
   "cell_type": "code",
   "execution_count": 9,
   "metadata": {},
   "outputs": [
    {
     "data": {
      "text/html": [
       "<div>\n",
       "<style scoped>\n",
       "    .dataframe tbody tr th:only-of-type {\n",
       "        vertical-align: middle;\n",
       "    }\n",
       "\n",
       "    .dataframe tbody tr th {\n",
       "        vertical-align: top;\n",
       "    }\n",
       "\n",
       "    .dataframe thead th {\n",
       "        text-align: right;\n",
       "    }\n",
       "</style>\n",
       "<table border=\"1\" class=\"dataframe\">\n",
       "  <thead>\n",
       "    <tr style=\"text-align: right;\">\n",
       "      <th></th>\n",
       "      <th>Raices</th>\n",
       "      <th>errores absolutos</th>\n",
       "      <th>errores relativos</th>\n",
       "    </tr>\n",
       "  </thead>\n",
       "  <tbody>\n",
       "    <tr>\n",
       "      <th>0</th>\n",
       "      <td>-1.50000</td>\n",
       "      <td>3.50000</td>\n",
       "      <td>-2.333333</td>\n",
       "    </tr>\n",
       "    <tr>\n",
       "      <th>1</th>\n",
       "      <td>0.25000</td>\n",
       "      <td>1.75000</td>\n",
       "      <td>7.000000</td>\n",
       "    </tr>\n",
       "    <tr>\n",
       "      <th>2</th>\n",
       "      <td>1.12500</td>\n",
       "      <td>0.87500</td>\n",
       "      <td>0.777778</td>\n",
       "    </tr>\n",
       "    <tr>\n",
       "      <th>3</th>\n",
       "      <td>1.56250</td>\n",
       "      <td>0.43750</td>\n",
       "      <td>-0.280000</td>\n",
       "    </tr>\n",
       "    <tr>\n",
       "      <th>4</th>\n",
       "      <td>1.34375</td>\n",
       "      <td>0.21875</td>\n",
       "      <td>0.162791</td>\n",
       "    </tr>\n",
       "    <tr>\n",
       "      <th>...</th>\n",
       "      <td>...</td>\n",
       "      <td>...</td>\n",
       "      <td>...</td>\n",
       "    </tr>\n",
       "    <tr>\n",
       "      <th>95</th>\n",
       "      <td>1.36523</td>\n",
       "      <td>0.00000</td>\n",
       "      <td>0.000000</td>\n",
       "    </tr>\n",
       "    <tr>\n",
       "      <th>96</th>\n",
       "      <td>1.36523</td>\n",
       "      <td>0.00000</td>\n",
       "      <td>0.000000</td>\n",
       "    </tr>\n",
       "    <tr>\n",
       "      <th>97</th>\n",
       "      <td>1.36523</td>\n",
       "      <td>0.00000</td>\n",
       "      <td>0.000000</td>\n",
       "    </tr>\n",
       "    <tr>\n",
       "      <th>98</th>\n",
       "      <td>1.36523</td>\n",
       "      <td>0.00000</td>\n",
       "      <td>0.000000</td>\n",
       "    </tr>\n",
       "    <tr>\n",
       "      <th>99</th>\n",
       "      <td>1.36523</td>\n",
       "      <td>0.00000</td>\n",
       "      <td>0.000000</td>\n",
       "    </tr>\n",
       "  </tbody>\n",
       "</table>\n",
       "<p>100 rows × 3 columns</p>\n",
       "</div>"
      ],
      "text/plain": [
       "     Raices  errores absolutos  errores relativos\n",
       "0  -1.50000            3.50000          -2.333333\n",
       "1   0.25000            1.75000           7.000000\n",
       "2   1.12500            0.87500           0.777778\n",
       "3   1.56250            0.43750          -0.280000\n",
       "4   1.34375            0.21875           0.162791\n",
       "..      ...                ...                ...\n",
       "95  1.36523            0.00000           0.000000\n",
       "96  1.36523            0.00000           0.000000\n",
       "97  1.36523            0.00000           0.000000\n",
       "98  1.36523            0.00000           0.000000\n",
       "99  1.36523            0.00000           0.000000\n",
       "\n",
       "[100 rows x 3 columns]"
      ]
     },
     "execution_count": 9,
     "metadata": {},
     "output_type": "execute_result"
    }
   ],
   "source": [
    "MET_BIS(x**3 + 4*x**2-10,-5,2,100)"
   ]
  },
  {
   "cell_type": "markdown",
   "metadata": {},
   "source": [
    "A lo mejor y el número de iteraciones que pasaste como parámetros fueron más de los suficientes. Por lo tanto, el siguiente decorador puede ayudarte a borrar las iteraciones repetidas; de esa manera recortarás la tabla y sabras la iteración exacta en la que converge tu función. Si deseas que sea así, solo descomenta al inicio de la función SIN_REP. Este se implementará para los dos siguientes algorítmos. <br>\n",
    "__NOTA__: Si no te borra ningun reglón es porque los valores son diferentes a pesar de que parezcan iguales. "
   ]
  },
  {
   "cell_type": "code",
   "execution_count": 10,
   "metadata": {},
   "outputs": [],
   "source": [
    "def SIN_REP(f):\n",
    "    def wrapper(funcion,a,b,itera):\n",
    "        return f(funcion,a,b,itera).drop_duplicates(subset = \"Raices\")\n",
    "    return wrapper"
   ]
  },
  {
   "cell_type": "markdown",
   "metadata": {},
   "source": [
    "Método de punto fijo\n",
    "---"
   ]
  },
  {
   "cell_type": "markdown",
   "metadata": {},
   "source": [
    "El algorítmo consta de probar 2 elementos:\n",
    "- EXISTENCIA:\n",
    "    1. $x \\in[a,b]$ y $g(x) \\in C^1[a,b] $;\n",
    "    2. $g(x) \\in[a,b] $ $\\forall x\\in[a,b]$ \n",
    "    \n",
    "- UNICIDAD:\n",
    "    1. Si $g(x)$ está bien definida en $[a,b]$ y $\\exists k \\in R$ con $k<1$ tal que $|g'(x)|\\leq k \\hspace{.2cm}\\forall  x \\in [a,b]$. Para esto puede probarse que la función es decreciente o \n",
    "        creciente; podría agregarse que sean extrictamente decrecientes o crecientes, pero la finalidad de está condición es que no exista un punto intermedio entre las cotas del intervalo que \n",
    "        más grande que ellos en valor absoluto, lo cual puede verificarse solamente con la primera exigencia.\n",
    "        \n",
    "\n"
   ]
  },
  {
   "cell_type": "code",
   "execution_count": 11,
   "metadata": {},
   "outputs": [],
   "source": [
    "#SIN_REP\n",
    "def MET_PF(funcion,a,b,itera):\n",
    "    \"\"\"\n",
    "    Algorítmo Método de punto fijo para encontrar raices de funciones no lineales. El algorítmo tiene una deficiencia : el despeje de la función para que x = g(x) tiene que ser previo a\n",
    "    que el usuario introduzca la función f(x) (la original).\n",
    "    \n",
    "    Parámetros:\n",
    "    \n",
    "    funcion : función cuya raiz se desea encontrar tal que x = g(x).\n",
    "    a : cota inferior del intervalo.\n",
    "    b : cota superior del intervalo.\n",
    "    itera : número de iteraciones.\n",
    "    \"\"\"\n",
    "    \n",
    "    x = sp.Symbol(\"x\")\n",
    "    errores_absolutos = []\n",
    "    errores_relativos = []\n",
    "    raices = []\n",
    "    \n",
    "    if continua(funcion,a,b) and derivable(funcion,a,b): #CONDICIONES DE EXISTENCIA\n",
    "        if unicidad_k(funcion,a,b): #CONDICION DE UNICIDAD\n",
    "            \n",
    "            x_0 = (a+b)/2\n",
    "            \n",
    "            for i in range(1,itera+1):\n",
    "\n",
    "                y = funcion.subs(x,x_0)\n",
    "                errores_absolutos.append(error_absoluto(y,x_0))\n",
    "                errores_relativos.append(error_relativo(y,x_0))\n",
    "                raices.append(y)\n",
    "                x_0 = y     \n",
    "        \n",
    "        else:\n",
    "            raise Exception(\"La función g(x) no cumple con la condición de unicidad.\")\n",
    "        \n",
    "        respuestas = pd.DataFrame({\"Raices\": raices,\"errores absolutos\": errores_absolutos,\"errores relativos\": errores_relativos})\n",
    "    \n",
    "    else:\n",
    "        raise Exception(\"La función g(x) no cumple con las condiciones de existencia.\")\n",
    "        \n",
    "    return respuestas\n"
   ]
  },
  {
   "cell_type": "markdown",
   "metadata": {},
   "source": [
    "### Ejercicio de clase"
   ]
  },
  {
   "cell_type": "code",
   "execution_count": 12,
   "metadata": {},
   "outputs": [
    {
     "data": {
      "text/html": [
       "<div>\n",
       "<style scoped>\n",
       "    .dataframe tbody tr th:only-of-type {\n",
       "        vertical-align: middle;\n",
       "    }\n",
       "\n",
       "    .dataframe tbody tr th {\n",
       "        vertical-align: top;\n",
       "    }\n",
       "\n",
       "    .dataframe thead th {\n",
       "        text-align: right;\n",
       "    }\n",
       "</style>\n",
       "<table border=\"1\" class=\"dataframe\">\n",
       "  <thead>\n",
       "    <tr style=\"text-align: right;\">\n",
       "      <th></th>\n",
       "      <th>Raices</th>\n",
       "      <th>errores absolutos</th>\n",
       "      <th>errores relativos</th>\n",
       "    </tr>\n",
       "  </thead>\n",
       "  <tbody>\n",
       "    <tr>\n",
       "      <th>0</th>\n",
       "      <td>-0.666666666666667</td>\n",
       "      <td>0.166667</td>\n",
       "      <td>0.250000</td>\n",
       "    </tr>\n",
       "    <tr>\n",
       "      <th>1</th>\n",
       "      <td>-0.642857142857143</td>\n",
       "      <td>0.023810</td>\n",
       "      <td>-0.037037</td>\n",
       "    </tr>\n",
       "    <tr>\n",
       "      <th>2</th>\n",
       "      <td>-0.646153846153846</td>\n",
       "      <td>0.003297</td>\n",
       "      <td>0.005102</td>\n",
       "    </tr>\n",
       "    <tr>\n",
       "      <th>3</th>\n",
       "      <td>-0.645695364238411</td>\n",
       "      <td>0.000458</td>\n",
       "      <td>-0.000710</td>\n",
       "    </tr>\n",
       "    <tr>\n",
       "      <th>4</th>\n",
       "      <td>-0.645759087669280</td>\n",
       "      <td>0.000064</td>\n",
       "      <td>0.000099</td>\n",
       "    </tr>\n",
       "  </tbody>\n",
       "</table>\n",
       "</div>"
      ],
      "text/plain": [
       "               Raices  errores absolutos  errores relativos\n",
       "0  -0.666666666666667           0.166667           0.250000\n",
       "1  -0.642857142857143           0.023810          -0.037037\n",
       "2  -0.646153846153846           0.003297           0.005102\n",
       "3  -0.645695364238411           0.000458          -0.000710\n",
       "4  -0.645759087669280           0.000064           0.000099"
      ]
     },
     "execution_count": 12,
     "metadata": {},
     "output_type": "execute_result"
    }
   ],
   "source": [
    "MET_PF(3/(x-4),-1,0,5)"
   ]
  },
  {
   "cell_type": "markdown",
   "metadata": {},
   "source": [
    "### [Ejercicio Extra eje. 3](http://esfm.egormaximenko.com/numerical_methods/fixed_point_examples_es.pdf)"
   ]
  },
  {
   "cell_type": "code",
   "execution_count": 13,
   "metadata": {},
   "outputs": [
    {
     "data": {
      "text/html": [
       "<div>\n",
       "<style scoped>\n",
       "    .dataframe tbody tr th:only-of-type {\n",
       "        vertical-align: middle;\n",
       "    }\n",
       "\n",
       "    .dataframe tbody tr th {\n",
       "        vertical-align: top;\n",
       "    }\n",
       "\n",
       "    .dataframe thead th {\n",
       "        text-align: right;\n",
       "    }\n",
       "</style>\n",
       "<table border=\"1\" class=\"dataframe\">\n",
       "  <thead>\n",
       "    <tr style=\"text-align: right;\">\n",
       "      <th></th>\n",
       "      <th>Raices</th>\n",
       "      <th>errores absolutos</th>\n",
       "      <th>errores relativos</th>\n",
       "    </tr>\n",
       "  </thead>\n",
       "  <tbody>\n",
       "    <tr>\n",
       "      <th>0</th>\n",
       "      <td>2.01388888888889</td>\n",
       "      <td>2.361111e-01</td>\n",
       "      <td>-1.172414e-01</td>\n",
       "    </tr>\n",
       "    <tr>\n",
       "      <th>1</th>\n",
       "      <td>2.00004789272031</td>\n",
       "      <td>1.384100e-02</td>\n",
       "      <td>-6.920332e-03</td>\n",
       "    </tr>\n",
       "    <tr>\n",
       "      <th>2</th>\n",
       "      <td>2.00000000057341</td>\n",
       "      <td>4.789215e-05</td>\n",
       "      <td>-2.394607e-05</td>\n",
       "    </tr>\n",
       "    <tr>\n",
       "      <th>3</th>\n",
       "      <td>2.00000000000000</td>\n",
       "      <td>5.734142e-10</td>\n",
       "      <td>-2.867071e-10</td>\n",
       "    </tr>\n",
       "    <tr>\n",
       "      <th>4</th>\n",
       "      <td>2.00000000000000</td>\n",
       "      <td>0.000000e+00</td>\n",
       "      <td>0.000000e+00</td>\n",
       "    </tr>\n",
       "  </tbody>\n",
       "</table>\n",
       "</div>"
      ],
      "text/plain": [
       "             Raices  errores absolutos  errores relativos\n",
       "0  2.01388888888889       2.361111e-01      -1.172414e-01\n",
       "1  2.00004789272031       1.384100e-02      -6.920332e-03\n",
       "2  2.00000000057341       4.789215e-05      -2.394607e-05\n",
       "3  2.00000000000000       5.734142e-10      -2.867071e-10\n",
       "4  2.00000000000000       0.000000e+00       0.000000e+00"
      ]
     },
     "execution_count": 13,
     "metadata": {},
     "output_type": "execute_result"
    }
   ],
   "source": [
    "MET_PF((1/2)*(x+(4/x)),1.5,3,5)"
   ]
  },
  {
   "cell_type": "markdown",
   "metadata": {},
   "source": [
    "Método de Newton Modificado\n",
    "---"
   ]
  },
  {
   "cell_type": "markdown",
   "metadata": {},
   "source": [
    "El método funciona de una manera muy similar al Método de Newton pero ahora se le pide que la función f(x) admita una segunda derivada y está sea continua en el intervalo propuesto."
   ]
  },
  {
   "cell_type": "code",
   "execution_count": 14,
   "metadata": {},
   "outputs": [],
   "source": [
    "#SIN_REP\n",
    "def MET_NEW_MOD(funcion,x_0,itera,a = -oo,b = oo):\n",
    "    \"\"\"\n",
    "    Algorítmo Método de punto fijo para encontrar raices de funciones no lineales. Con el fin de no ocupar tanto tiempo, se piden dos limites en los que posible mente podría estar la raiz.\n",
    "    Por default, el algorítmo asume continuidad en R, entonces [a,b] es un subconjunto de R. Si es continua en R entonces es continua en ese intervalo. \n",
    "    \n",
    "    Parámetros:\n",
    "    \n",
    "    funcion : función cuya raiz se desea encontrar.\n",
    "    x : punto inicial.\n",
    "    a (opcional): cota inferior del intervalo. Por default es -oo\n",
    "    b (opcional) : cota superior del intervalo. Por default es oo\n",
    "    itera : número de iteraciones.\n",
    "    \"\"\"\n",
    "    \n",
    "    x = sp.Symbol(\"x\")\n",
    "    errores_absolutos = []\n",
    "    errores_relativos = []\n",
    "    raices = []\n",
    "    \n",
    "    if continua(funcion,a,b) and derivable(funcion,a,b): \n",
    "        if derivable(sp.diff(funcion,x),a,b): #CONDICION DE DOBLE DERIVABILIDAD\n",
    "            \n",
    "            primera = sp.diff(funcion,x)\n",
    "            segunda = sp.diff(primera,x)\n",
    "            \n",
    "            for i in range(1,itera+1):\n",
    "                \n",
    "                y = x_0 - (funcion.subs(x,x_0) * primera.subs(x,x_0))/((primera.subs(x,x_0))**2 - funcion.subs(x,x_0) * segunda.subs(x,x_0))\n",
    "                errores_absolutos.append(error_absoluto(y,x_0))\n",
    "                errores_relativos.append(error_relativo(y,x_0))\n",
    "                raices.append(y)\n",
    "                x_0 = float(y)\n",
    "\n",
    "                     \n",
    "        \n",
    "        else:\n",
    "            raise Exception(\"La función f(x) no cumple con ser dos veces derivable.\")\n",
    "        \n",
    "        respuestas = pd.DataFrame({\"Raices\": raices,\"errores absolutos\": errores_absolutos,\"errores relativos\": errores_relativos})\n",
    "    \n",
    "    else:\n",
    "        raise Exception(\"La función f(x) no cumple con ser continua o derivable.\")\n",
    "        \n",
    "    return respuestas\n"
   ]
  },
  {
   "cell_type": "markdown",
   "metadata": {},
   "source": [
    "### Ejercicio de clase (Método Newton)"
   ]
  },
  {
   "cell_type": "code",
   "execution_count": 15,
   "metadata": {},
   "outputs": [
    {
     "data": {
      "text/html": [
       "<div>\n",
       "<style scoped>\n",
       "    .dataframe tbody tr th:only-of-type {\n",
       "        vertical-align: middle;\n",
       "    }\n",
       "\n",
       "    .dataframe tbody tr th {\n",
       "        vertical-align: top;\n",
       "    }\n",
       "\n",
       "    .dataframe thead th {\n",
       "        text-align: right;\n",
       "    }\n",
       "</style>\n",
       "<table border=\"1\" class=\"dataframe\">\n",
       "  <thead>\n",
       "    <tr style=\"text-align: right;\">\n",
       "      <th></th>\n",
       "      <th>Raices</th>\n",
       "      <th>errores absolutos</th>\n",
       "      <th>errores relativos</th>\n",
       "    </tr>\n",
       "  </thead>\n",
       "  <tbody>\n",
       "    <tr>\n",
       "      <th>0</th>\n",
       "      <td>-2</td>\n",
       "      <td>1.000000</td>\n",
       "      <td>0.500000</td>\n",
       "    </tr>\n",
       "    <tr>\n",
       "      <th>1</th>\n",
       "      <td>-0.0882123341139736</td>\n",
       "      <td>1.911788</td>\n",
       "      <td>-21.672566</td>\n",
       "    </tr>\n",
       "    <tr>\n",
       "      <th>2</th>\n",
       "      <td>-1.01185002000671</td>\n",
       "      <td>0.923638</td>\n",
       "      <td>0.912821</td>\n",
       "    </tr>\n",
       "  </tbody>\n",
       "</table>\n",
       "</div>"
      ],
      "text/plain": [
       "                Raices  errores absolutos  errores relativos\n",
       "0                   -2           1.000000           0.500000\n",
       "1  -0.0882123341139736           1.911788         -21.672566\n",
       "2    -1.01185002000671           0.923638           0.912821"
      ]
     },
     "execution_count": 15,
     "metadata": {},
     "output_type": "execute_result"
    }
   ],
   "source": [
    "MET_NEW_MOD(x**5-x-1,-1,3)"
   ]
  },
  {
   "cell_type": "markdown",
   "metadata": {},
   "source": [
    "### [Ejercicio Extra](https://almedinablog.wordpress.com/metodo-newton-raphson/)"
   ]
  },
  {
   "cell_type": "code",
   "execution_count": 16,
   "metadata": {},
   "outputs": [
    {
     "data": {
      "text/html": [
       "<div>\n",
       "<style scoped>\n",
       "    .dataframe tbody tr th:only-of-type {\n",
       "        vertical-align: middle;\n",
       "    }\n",
       "\n",
       "    .dataframe tbody tr th {\n",
       "        vertical-align: top;\n",
       "    }\n",
       "\n",
       "    .dataframe thead th {\n",
       "        text-align: right;\n",
       "    }\n",
       "</style>\n",
       "<table border=\"1\" class=\"dataframe\">\n",
       "  <thead>\n",
       "    <tr style=\"text-align: right;\">\n",
       "      <th></th>\n",
       "      <th>Raices</th>\n",
       "      <th>errores absolutos</th>\n",
       "      <th>errores relativos</th>\n",
       "    </tr>\n",
       "  </thead>\n",
       "  <tbody>\n",
       "    <tr>\n",
       "      <th>0</th>\n",
       "      <td>0.817941952506596</td>\n",
       "      <td>0.182058</td>\n",
       "      <td>-0.222581</td>\n",
       "    </tr>\n",
       "    <tr>\n",
       "      <th>1</th>\n",
       "      <td>0.825604687177730</td>\n",
       "      <td>0.007663</td>\n",
       "      <td>0.009281</td>\n",
       "    </tr>\n",
       "  </tbody>\n",
       "</table>\n",
       "</div>"
      ],
      "text/plain": [
       "              Raices  errores absolutos  errores relativos\n",
       "0  0.817941952506596           0.182058          -0.222581\n",
       "1  0.825604687177730           0.007663           0.009281"
      ]
     },
     "execution_count": 16,
     "metadata": {},
     "output_type": "execute_result"
    }
   ],
   "source": [
    "MET_NEW_MOD(3.5*x**2+6.8*x-8,1,2)"
   ]
  },
  {
   "cell_type": "markdown",
   "metadata": {},
   "source": [
    "<h1><center>MÉTODOS PARA RESOLUCIÓN DE SISTEMAS DE ECUACIONES LINEALES</center></h1>"
   ]
  },
  {
   "cell_type": "markdown",
   "metadata": {},
   "source": [
    "Realiza los códigos en el lenguaje de programación R de los siguientes métodos para solucionar sistemas de ecuaciones lineales (3 puntos):\n",
    "- Método LU para Matrices Tridiagonales.\n",
    "- Método de Jacobi.\n",
    "- Método de Cholesky."
   ]
  },
  {
   "cell_type": "markdown",
   "metadata": {},
   "source": [
    "Auxiliares\n",
    "---"
   ]
  },
  {
   "cell_type": "code",
   "execution_count": 17,
   "metadata": {},
   "outputs": [],
   "source": [
    "def is_cuadrada(A):\n",
    "    \"\"\"\n",
    "    Verifica si una matriz es cuadrada. Devuelve valor boolenano.\n",
    "    \n",
    "    Parámetros:\n",
    "    \n",
    "    A : Matriz a probar si es cuadrada.\n",
    "    \"\"\"\n",
    "    return A.shape[0] == A.shape[1]"
   ]
  },
  {
   "cell_type": "code",
   "execution_count": 18,
   "metadata": {},
   "outputs": [],
   "source": [
    "def is_nosingular(A):\n",
    "    \"\"\"\n",
    "    Verifica si una matriz es no signular por medio de su determinante. Devuelve un valor boolenano.\n",
    "    \n",
    "    Parámetros:\n",
    "    \n",
    "    A: Matriz a probar si es no singular.\n",
    "    \"\"\"\n",
    "    return np.linalg.det(A) != 0"
   ]
  },
  {
   "cell_type": "code",
   "execution_count": 19,
   "metadata": {},
   "outputs": [],
   "source": [
    "def is_symmetric(A):\n",
    "    \"\"\"\n",
    "    Verifica si la matriz es simétrica.\n",
    "    \n",
    "    Parámetros:\n",
    "    \n",
    "    A : Matriz a probar que es simétrica. \n",
    "    \"\"\"\n",
    "    return (A == A.T).all()"
   ]
  },
  {
   "cell_type": "code",
   "execution_count": 20,
   "metadata": {},
   "outputs": [],
   "source": [
    "def is_def_pos(A):\n",
    "    \"\"\"\n",
    "    Verifica que todos los valores propios de la matriz sean mayores a cero.\n",
    "    \n",
    "    A : Matriz a probar que sus valores propios son positivos.\n",
    "    \"\"\"\n",
    "    v,w = LA.eig(A)\n",
    "    return (v > 0).all()"
   ]
  },
  {
   "cell_type": "markdown",
   "metadata": {},
   "source": [
    "Método LU para Matrices Tridiagonales\n",
    "---"
   ]
  },
  {
   "cell_type": "markdown",
   "metadata": {},
   "source": [
    "1. A tiene que ser cuadrada.\n",
    "2. A no singular $<=>$ det(A) distinto de 0\n",
    "3. A bien condicionada"
   ]
  },
  {
   "cell_type": "markdown",
   "metadata": {},
   "source": [
    "### Método general (creado por confusión :()"
   ]
  },
  {
   "cell_type": "code",
   "execution_count": 21,
   "metadata": {},
   "outputs": [],
   "source": [
    "def Matrix_LU(A,b, resultados = \"los 3\"):\n",
    "    \"\"\"\n",
    "    Función para calcular la descomposición LU de una matriz cuadrada. \n",
    "    \n",
    "    Parámetros:\n",
    "    \n",
    "    A : Matriz que se quiere descomoponer.\n",
    "    b : Vector adjunto a la matriz A\n",
    "    resultado (opcional) : por default se pasa el parámetro \"los 3\"\n",
    "     - \"los 3\" : Devuelve L, U y la el vector solución al sistema.\n",
    "     - \"LyU\" : Devuelve L y U.\n",
    "     - \"solucion\" : Devuelve solo la solución al sistema.\n",
    "     \n",
    "     Ejemplos:\n",
    "     \n",
    "     Matrix_LU(\"4 -2 1 ; 20 -7 12 ; -8 13 17\", \"11;70;17\", \"solucion\")\n",
    "     \n",
    "     Matrix_LU(\"2 -3 1;-4 9 2;6 -12 -2\",\"3; 4; -2\")\n",
    "    \"\"\"\n",
    "    \n",
    "    #Transformar parametros a objetos matriciales de Numpy\n",
    "    \n",
    "    A = np.matrix(A)\n",
    "    b = np.matrix(b)\n",
    "    \n",
    "    if is_cuadrada(A) and is_nosingular(A):\n",
    "        \n",
    "        #Crear arreglos dummies para matrices L y U \n",
    "        \n",
    "        L = np.zeros(A.shape) \n",
    "        U = np.zeros(A.shape)\n",
    "        \n",
    "        # U\n",
    "        ## U1i con i = 1,...n\n",
    "        for i in range(0,A.shape[0]):\n",
    "            U[0,i] = A[0,i]\n",
    "            \n",
    "        # L\n",
    "        ## Lii con i = 1,...n\n",
    "        for i in range(0,A.shape[0]):\n",
    "            L[i,i] = 1\n",
    "        \n",
    "        # L\n",
    "        ## Lii con i = 1,...,n\n",
    "        if A[0,0] == 0:\n",
    "            raise Exception(\"Asegurate de que el primer elemento de tu matriz sea distinto de cero.\")\n",
    "        else:\n",
    "            for i in range(1,A.shape[0]):\n",
    "                L[i,0] = A[i,0]/A[0,0]    \n",
    "            \n",
    "        # U\n",
    "        ## Uii con i = 2,...,n\n",
    "        ## Uij con i = 2,...,n i<j\n",
    "        # L\n",
    "        ## Lji con j = 2,...,n\n",
    "        for i in range(1,A.shape[0]):\n",
    "    \n",
    "\n",
    "            suma_Uii = 0\n",
    "            for n in range(0,i):\n",
    "                suma_Uii = suma_Uii + L[i,n] * U[n,i]\n",
    "            U[i,i] = A[i,i] - suma_Uii\n",
    "    \n",
    "\n",
    "            for j in range(i,A.shape[0]):\n",
    "                if i == j:\n",
    "                    pass\n",
    "            \n",
    "                else:\n",
    "                    suma_Uij = 0\n",
    "                    for k in range(0,i):\n",
    "                        suma_Uij = suma_Uij + L[i,k] * U[k,j]\n",
    "                    U[i,j] = A[i,j] - suma_Uij\n",
    "    \n",
    "\n",
    "            for j in range(i,A.shape[0]):\n",
    "                suma_Lij = 0\n",
    "                for k in range(0,i):\n",
    "                    suma_Lij = suma_Lij + L[j,k] * U[k,i]\n",
    "                L[j,i] = (A[j,i]-suma_Lij)/U[i,i]\n",
    "    \n",
    "    \n",
    "    else:\n",
    "        print(\"Tu matriz no es cuadrada o es singular.\")\n",
    "    \n",
    "    if resultados == \"los 3\":\n",
    "        return np.linalg.inv(A) * b, L, U\n",
    "    elif resultados == \"LyU\":\n",
    "        return L,U\n",
    "    elif resultados == \"solucion\":\n",
    "        return np.linalg.inv(A) * b"
   ]
  },
  {
   "cell_type": "markdown",
   "metadata": {},
   "source": [
    "### Ejercicio de clase"
   ]
  },
  {
   "cell_type": "code",
   "execution_count": 22,
   "metadata": {},
   "outputs": [
    {
     "data": {
      "text/plain": [
       "matrix([[ 1.],\n",
       "        [-2.],\n",
       "        [ 3.]])"
      ]
     },
     "execution_count": 22,
     "metadata": {},
     "output_type": "execute_result"
    }
   ],
   "source": [
    "Matrix_LU(\"4 -2 1 ; 20 -7 12 ; -8 13 17\", \"11;70;17\", \"solucion\" )"
   ]
  },
  {
   "cell_type": "markdown",
   "metadata": {},
   "source": [
    "### Ejercicios Extra "
   ]
  },
  {
   "cell_type": "code",
   "execution_count": 23,
   "metadata": {},
   "outputs": [
    {
     "data": {
      "text/plain": [
       "(matrix([[4.],\n",
       "         [2.],\n",
       "         [1.]]),\n",
       " array([[ 1.,  0.,  0.],\n",
       "        [-2.,  1.,  0.],\n",
       "        [ 3., -1.,  1.]]),\n",
       " array([[ 2., -3.,  1.],\n",
       "        [ 0.,  3.,  4.],\n",
       "        [ 0.,  0., -1.]]))"
      ]
     },
     "execution_count": 23,
     "metadata": {},
     "output_type": "execute_result"
    }
   ],
   "source": [
    "Matrix_LU(\"2 -3 1;-4 9 2;6 -12 -2\",\"3; 4; -2\")"
   ]
  },
  {
   "cell_type": "code",
   "execution_count": 24,
   "metadata": {},
   "outputs": [
    {
     "data": {
      "text/plain": [
       "(matrix([[0.75],\n",
       "         [1.25],\n",
       "         [1.75]]),\n",
       " array([[1., 0., 0.],\n",
       "        [2., 1., 0.],\n",
       "        [1., 1., 1.]]),\n",
       " array([[ 1., -1.,  2.],\n",
       "        [ 0.,  3., -5.],\n",
       "        [ 0.,  0.,  4.]]))"
      ]
     },
     "execution_count": 24,
     "metadata": {},
     "output_type": "execute_result"
    }
   ],
   "source": [
    "Matrix_LU(\"1 -1 2; 2 1 -1; 1 2 1\",\"3;1;5\")"
   ]
  },
  {
   "cell_type": "markdown",
   "metadata": {},
   "source": [
    "### Método para matrices tridiagonales"
   ]
  },
  {
   "cell_type": "code",
   "execution_count": 257,
   "metadata": {},
   "outputs": [],
   "source": [
    "def Matrix_LU_TRI(A,b,resultados = \"los 3\"):\n",
    "    \"\"\"\n",
    "    Función que devuleve la descomposición L y U de una matriz tridiagonal, incluyendo la respuesta al sistema.\n",
    "    \n",
    "    ESTE MÉTODO SUPONE LA DIAGONAL DE UNOS EN LA MATRIZ U.\n",
    "    \n",
    "    Parámetros:\n",
    "    \n",
    "    A : Matriz que se quiere descomoponer.\n",
    "    b : Vector adjunto a la matriz A\n",
    "    resultado (opcional) : por default se pasa el parámetro \"los 3\"\n",
    "     - \"los 3\" : Devuelve L, U y la el vector solución al sistema.\n",
    "     - \"LyU\" : Devuelve L y U.\n",
    "     - \"solucion\" : Devuelve solo la solución al sistema.\n",
    "     \n",
    "     Ejemplos:\n",
    "     \n",
    "     Matrix_LU(\"4 -2 1 ; 20 -7 12 ; -8 13 17\", \"11;70;17\", \"solucion\")\n",
    "     \n",
    "     Matrix_LU(\"2 -3 1;-4 9 2;6 -12 -2\",\"3; 4; -2\")\n",
    "    \"\"\"\n",
    "    \n",
    "    #Transformar parametros a objetos matriciales de Numpy\n",
    "    \n",
    "    A = np.matrix(A)\n",
    "    b = np.matrix(b)\n",
    "    \n",
    "    if is_cuadrada(A) and is_nosingular(A):\n",
    "        \n",
    "        #Crear arreglos dummies para matrices L y U \n",
    "        \n",
    "        L = np.zeros(A.shape) \n",
    "        U = np.zeros(A.shape)\n",
    "        \n",
    "        #1\n",
    "        L[0,0] = A[0,0]\n",
    "\n",
    "        for i in range(A.shape[0]):\n",
    "            U[i,i] = 1\n",
    "\n",
    "        #2\n",
    "        for i in range(1,A.shape[0]):\n",
    "            L[i,i-1] = A[i,i-1]\n",
    "\n",
    "        #3\n",
    "        for i in range(1,A.shape[0]):\n",
    "            L[i,i] = A[i,i] - (L[i,i-1] * A[i-1,i])/(L[i-1,i-1])\n",
    "        \n",
    "\n",
    "        #4\n",
    "        for i in range(1,A.shape[0]):\n",
    "            U[i-1,i] = (A[i,i]-L[i,i])/(L[i,i-1])\n",
    "   \n",
    "        L_inv = np.linalg.inv(L)\n",
    "        U_inv = np.linalg.inv(U)\n",
    "\n",
    "        Y = L_inv * b\n",
    "        X = U_inv * Y\n",
    "\n",
    "    else:\n",
    "        print(\"Tu matriz no es cuadrada o es singular.\")\n",
    "    \n",
    "    if resultados == \"los 3\":\n",
    "        return X, L, U\n",
    "    elif resultados == \"LyU\":\n",
    "        return L,U\n",
    "    elif resultados == \"solucion\":\n",
    "        return X\n",
    "    "
   ]
  },
  {
   "cell_type": "markdown",
   "metadata": {},
   "source": [
    "### Ejercicio 6 Tarea"
   ]
  },
  {
   "cell_type": "code",
   "execution_count": 258,
   "metadata": {},
   "outputs": [
    {
     "data": {
      "text/plain": [
       "(matrix([[ 1.],\n",
       "         [-1.],\n",
       "         [ 0.]]),\n",
       " array([[ 2.        ,  0.        ,  0.        ],\n",
       "        [-1.        ,  1.5       ,  0.        ],\n",
       "        [ 0.        , -1.        ,  1.33333333]]),\n",
       " array([[ 1.        , -0.5       ,  0.        ],\n",
       "        [ 0.        ,  1.        , -0.66666667],\n",
       "        [ 0.        ,  0.        ,  1.        ]]))"
      ]
     },
     "execution_count": 258,
     "metadata": {},
     "output_type": "execute_result"
    }
   ],
   "source": [
    "Matrix_LU_TRI(\"2 -1 0;-1 2 -1; 0 -1 2\",\"3;-3;1\")"
   ]
  },
  {
   "cell_type": "markdown",
   "metadata": {},
   "source": [
    "Método de Jacobi\n",
    "---"
   ]
  },
  {
   "cell_type": "markdown",
   "metadata": {},
   "source": [
    "Método que requiere tener una matriz con diagonal dominane. Para más información haz click [AQUI](https://es.wikipedia.org/wiki/Matriz_de_diagonal_estrictamente_dominante#:~:text=En%20matem%C3%A1ticas%2C%20y%20concretamente%20en,de%20elementos%20de%20esa%20fila.). \n",
    "1. Despejar cada reglón de la matriz de tal manera que $x_i = \\left( \\displaystyle\\frac{b_i -  \\sum_{j=1,i \\neq j }^{n} a_{ij}x_j  }{a_{ii}} \\right) $ \n",
    "2. Vector inicial $\\bar{X_0}$ = (0,...,0)"
   ]
  },
  {
   "cell_type": "code",
   "execution_count": 290,
   "metadata": {},
   "outputs": [],
   "source": [
    "def Matrix_Jacobi(A,b,itera):\n",
    "    \"\"\"\n",
    "    Función para calcular la solución de un sistema de ecuaciones por medio del método de Jacobi.\n",
    "    \n",
    "    EL USUARIO TIENE QUE ASEGURARSE DE QUE LA MATRIZ QUE SEA PASADA COMO PÁRAMETRO TENGA DIAGONAL DOMINANTE, YA QUE LA FUNCIÓN NO TIENE IMPLEMENTADA ESA OPCIÓN.\n",
    "    \n",
    "    Parámetros:\n",
    "    \n",
    "    A : Matriz a la cual se quiere aplicar el método de Jacobi.\n",
    "    b : vector adjunto a la matriz A.\n",
    "    \"\"\"\n",
    "    \n",
    "    # Transformar los parámetros a matrices de numpy\n",
    "    \n",
    "    A = np.matrix(A)\n",
    "    b = np.matrix(b)\n",
    "    x_0 = np.zeros((A.shape[0],1))\n",
    "    \n",
    "    if is_cuadrada(A):\n",
    "        \n",
    "        D = np.zeros(A.shape)\n",
    "        for i in range(A.shape[0]):\n",
    "            D[i,i] =A[i,i]\n",
    "    \n",
    "        for h in range(1,itera+1):\n",
    "            \n",
    "            D_inv = np.linalg.inv(D)\n",
    "            Q = A-D\n",
    "\n",
    "            X = D_inv * (b - Q * (x_0))\n",
    "            x_0 = X\n",
    "    \n",
    "    else: \n",
    "        print(\"Tu matriz no es cuadrada\")\n",
    "        \n",
    "    return x_0\n",
    "        "
   ]
  },
  {
   "cell_type": "markdown",
   "metadata": {},
   "source": [
    "### Ejercicio de clase"
   ]
  },
  {
   "cell_type": "code",
   "execution_count": 294,
   "metadata": {},
   "outputs": [
    {
     "data": {
      "text/plain": [
       "matrix([[ 0.03508772],\n",
       "        [-0.2368421 ],\n",
       "        [ 0.65789474]])"
      ]
     },
     "execution_count": 294,
     "metadata": {},
     "output_type": "execute_result"
    }
   ],
   "source": [
    "Matrix_Jacobi(\"3 -1 1; 3 6 2; 3 3 7\",\"1;0;4\",23)"
   ]
  },
  {
   "cell_type": "markdown",
   "metadata": {},
   "source": [
    "### [Ejercicio extra Pregunta 3](http://www.lcc.uma.es/~villa/tn/tema05res.pdf)"
   ]
  },
  {
   "cell_type": "code",
   "execution_count": 295,
   "metadata": {},
   "outputs": [
    {
     "data": {
      "text/plain": [
       "matrix([[1.000251],\n",
       "        [1.005795],\n",
       "        [1.000251]])"
      ]
     },
     "execution_count": 295,
     "metadata": {},
     "output_type": "execute_result"
    }
   ],
   "source": [
    "Matrix_Jacobi(\"10 3 1; 2 -10 3; 1 3 10\",\"14; -5; 14\",6)"
   ]
  },
  {
   "cell_type": "markdown",
   "metadata": {},
   "source": [
    "Factorización de Cholesky\n",
    "---"
   ]
  },
  {
   "cell_type": "markdown",
   "metadata": {},
   "source": [
    "1. A es cuadrada.\n",
    "2. A es no singular.\n",
    "3. A es simétrica.\n",
    "4. A es definida positiva."
   ]
  },
  {
   "cell_type": "code",
   "execution_count": 357,
   "metadata": {},
   "outputs": [],
   "source": [
    "def Matrix_Cholesky(A,b, resultados = \"los 3\"):\n",
    "    \"\"\"\n",
    "    Función para calcular la factorización de Cholesky de una matriz cuadrada.\n",
    "    \n",
    "    Parámetros : \n",
    "    \n",
    "    A : Matriz que se quiere descomoponer.\n",
    "    b : Vector adjunto a la matriz A\n",
    "    resultado (opcional) : por default se pasa el parámetro \"los 3\"\n",
    "     - \"los 3\" : Devuelve L, L transpuesta y el vector solución al sistema.\n",
    "     - \"LyL_trans\" : Devuelve L y L transpuesta\n",
    "     - \"solucion\" : Devuelve solo la solución al sistema.\n",
    "     \n",
    "     Ejemplos:\n",
    "     \n",
    "     Matrix_Cholesk(\"4 -2 1 ; 20 -7 12 ; -8 13 17\", \"11;70;17\", \"solucion\")\n",
    "     \n",
    "     Matrix_Cholesky(\"2 -3 1;-4 9 2;6 -12 -2\",\"3; 4; -2\") \n",
    "    \"\"\"\n",
    "    \n",
    "    # Transformar los parámetros a matrices de numpy\n",
    "    \n",
    "    A = np.matrix(A)\n",
    "    b = np.matrix(b)\n",
    "    \n",
    "    \n",
    "    if is_cuadrada(A) and is_nosingular(A) and is_symmetric(A) and is_def_pos(A):\n",
    "        \n",
    "        #Crear matriz L para guardar los datos\n",
    "        L = np.zeros(A.shape) \n",
    "        \n",
    "        for i in range(A.shape[0]):\n",
    "            for j in range(A.shape[0]):\n",
    "                suma = 0\n",
    "                for k in range(j):\n",
    "                    suma = suma + L[i,k] * L[j,k]\n",
    "        \n",
    "                if i == j:\n",
    "                    L[i,j] = sqrt(A[i,i] - suma)\n",
    "                else:\n",
    "                    with np.errstate(divide = \"raise\",invalid = \"raise\"):\n",
    "                        try:\n",
    "                            L[i,j] = (A[i,j]- suma) / L[j,j]\n",
    "                        except FloatingPointError:\n",
    "                            L[i,j] = 0\n",
    "        \n",
    "        #Soluciones\n",
    "        \n",
    "        L_trans = np.transpose(L)\n",
    "        Y = np.linalg.inv(L) * b\n",
    "        X = np.linalg.inv(L_trans) * Y\n",
    "        \n",
    "    \n",
    "    \n",
    "\n",
    "    else:\n",
    "        raise Exception(\"Tu matriz no cumple alguno(s) de las condiciones para aplicar este método.\")\n",
    "        \n",
    "    if resultados == \"los 3\":\n",
    "        return X, L, L_trans\n",
    "    elif resultados == \"LyL_trans\":\n",
    "        return L,L_trans\n",
    "    elif resultados == \"solucion\":\n",
    "        return X"
   ]
  },
  {
   "cell_type": "markdown",
   "metadata": {},
   "source": [
    "### Ejercicio de clase"
   ]
  },
  {
   "cell_type": "code",
   "execution_count": 358,
   "metadata": {},
   "outputs": [
    {
     "data": {
      "text/plain": [
       "(matrix([[1.],\n",
       "         [2.],\n",
       "         [3.]]),\n",
       " array([[ 1.41421356,  0.        ,  0.        ],\n",
       "        [ 0.        ,  1.41421356,  0.        ],\n",
       "        [-0.70710678,  0.70710678,  1.        ]]),\n",
       " array([[ 1.41421356,  0.        , -0.70710678],\n",
       "        [ 0.        ,  1.41421356,  0.70710678],\n",
       "        [ 0.        ,  0.        ,  1.        ]]))"
      ]
     },
     "execution_count": 358,
     "metadata": {},
     "output_type": "execute_result"
    }
   ],
   "source": [
    "Matrix_Cholesky(\"2 0 -1; 0 2 1; -1 1 2\",\"-1;7;7\")"
   ]
  },
  {
   "cell_type": "markdown",
   "metadata": {},
   "source": [
    "### [Ejercicio Extra Pag. 6](http://www.ugr.es/~prodelas/ftp/Ciencias/Geologia/Tema2.pdf)"
   ]
  },
  {
   "cell_type": "code",
   "execution_count": 362,
   "metadata": {},
   "outputs": [
    {
     "data": {
      "text/plain": [
       "(matrix([[0.92307692],\n",
       "         [1.23076923],\n",
       "         [0.38461538]]),\n",
       " array([[ 1.41421356,  0.        ,  0.        ],\n",
       "        [-0.70710678,  1.58113883,  0.        ],\n",
       "        [ 0.70710678, -0.9486833 ,  1.61245155]]),\n",
       " array([[ 1.41421356, -0.70710678,  0.70710678],\n",
       "        [ 0.        ,  1.58113883, -0.9486833 ],\n",
       "        [ 0.        ,  0.        ,  1.61245155]]))"
      ]
     },
     "execution_count": 362,
     "metadata": {},
     "output_type": "execute_result"
    }
   ],
   "source": [
    "Matrix_Cholesky(\"2 -1 1; -1 3 -2; 1 -2 4\",\"1;2;0\")"
   ]
  }
 ],
 "metadata": {
  "kernelspec": {
   "display_name": "Python 3",
   "language": "python",
   "name": "python3"
  },
  "language_info": {
   "codemirror_mode": {
    "name": "ipython",
    "version": 3
   },
   "file_extension": ".py",
   "mimetype": "text/x-python",
   "name": "python",
   "nbconvert_exporter": "python",
   "pygments_lexer": "ipython3",
   "version": "3.8.3"
  }
 },
 "nbformat": 4,
 "nbformat_minor": 4
}
