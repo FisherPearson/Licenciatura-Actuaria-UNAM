{
 "cells": [
  {
   "cell_type": "markdown",
   "metadata": {},
   "source": [
    "<h1><center>DE DECIMAL A BINARIO Y DE BINARIO A DECIMAL</center><h1>\n",
    "Autores:\n",
    "    <br>- David Montaño Castro\n",
    "    <br>- Sergio Isreal Durán García"
   ]
  },
  {
   "cell_type": "code",
   "execution_count": 1,
   "metadata": {},
   "outputs": [],
   "source": [
    "import numpy as np"
   ]
  },
  {
   "cell_type": "code",
   "execution_count": 2,
   "metadata": {},
   "outputs": [],
   "source": [
    "class Conversion:\n",
    "    \"\"\"\n",
    "    Class to convert decimal to binari number representation (and viceversa)\n",
    "    \n",
    "    Parameters:\n",
    "    \n",
    "    izquierda : decimal (integer) part.\n",
    "    derecha : decimal (decimal) part. You must provide a decimal point right before introducing decimals. \n",
    "    \n",
    "    Example:\n",
    "    conv = Conversion(10,.875)\n",
    "    \"\"\"\n",
    "    \n",
    "    def __init__(self,izquierda,derecha):\n",
    "        self.izquierda = izquierda\n",
    "        self.derecha = derecha\n",
    "       \n",
    "      # DECIMAL A BINARIO\n",
    "    def DECIaBIN(self):\n",
    "        \n",
    "        # Left part\n",
    "        \n",
    "        Decimal = self.izquierda\n",
    "        i = 1\n",
    "        lista = []\n",
    "          \n",
    "        while Decimal//2 != 0: # While used to iterate. \n",
    "            cociente = Decimal//2\n",
    "            residuo = Decimal%2\n",
    "            print(f\"La {i}° iteracion es:  \")\n",
    "            print(\"El cociente es: \", cociente)\n",
    "            print(\"El residuo es: \", residuo)\n",
    "            lista.append(residuo)\n",
    "            Decimal = cociente\n",
    "            i = i + 1\n",
    "             \n",
    "        print(f\"La {i}° iteracion es: \") # There will always miss 0 and 1 values at the end.\n",
    "        print(\"El cociente es: \", 0)\n",
    "        print(\"El residuo es: \", 1)\n",
    "        print(\"\\n\")\n",
    "        #print(lista)\n",
    "        if Decimal != 0:\n",
    "            lista.append(1)\n",
    "        #print(lista)\n",
    "        correctaderecha = []\n",
    "        for i in range(0,len(lista)):\n",
    "            correctaderecha.append(lista[-1-i]) #Sort upside down original list. \n",
    "    \n",
    "        # Right part\n",
    "        Decimal2 = [\".\"]\n",
    "        derecha = self.derecha\n",
    "        i = 1\n",
    "        while derecha != 0.0:\n",
    "            print(f\"En la {i}° iteracion el valor de los decimales es: {derecha} \")\n",
    "            derecha2 = derecha*2\n",
    "            print(\"Al multiplicarlo por dos es:\", derecha2)\n",
    "            Decimal2.append(int(derecha2))\n",
    "            print(\"Y se obtiene el entero:\", int(derecha2))\n",
    "            derecha = abs(derecha2 - int(derecha2))\n",
    "            i = i + 1\n",
    "        \n",
    "        return float(\"\".join([str(x) for x in correctaderecha + Decimal2]))\n",
    "    \n",
    "    \n",
    "        #BINARIO A DECIMAL\n",
    "    def BINaDECI(self):\n",
    "        \n",
    "        #Left part\n",
    "        \n",
    "        izquierda = str(self.izquierda)\n",
    "        lista1 = []\n",
    "        for i in range(0,len(izquierda)):\n",
    "            lista1.append(izquierda[-1-i])\n",
    "        lista1 = np.array(lista1,dtype = \"int64\")\n",
    "        exponentes = np.array(lista1)\n",
    "        \n",
    "        for exp in range(0,len(lista1)):\n",
    "            exponentes[exp] = 2**exp \n",
    "        \n",
    "        primer = sum(lista1*exponentes)\n",
    "        \n",
    "        \n",
    "        #Right part\n",
    "        \n",
    "        derecha = str(self.derecha).replace(\".\",\"\")\n",
    "        derecha = np.array([x for x in derecha], dtype = \"int\")\n",
    "        derecha = np.delete(derecha,0)\n",
    "        \n",
    "        exponentes1 = np.array(list(derecha),dtype = float)\n",
    "        for exp in range(0,len(derecha)):\n",
    "            exponentes1[exp] = 2**-(1+exp)\n",
    "        \n",
    "        segundo = sum(derecha * exponentes1)\n",
    "        \n",
    "        \n",
    "        \n",
    "        return primer + segundo\n",
    " \n",
    "    \n"
   ]
  },
  {
   "cell_type": "markdown",
   "metadata": {},
   "source": [
    "DE BINARIO A DECIMAL\n",
    "---"
   ]
  },
  {
   "cell_type": "markdown",
   "metadata": {},
   "source": [
    "### Ejemplo visto en clase\n"
   ]
  },
  {
   "cell_type": "code",
   "execution_count": 3,
   "metadata": {},
   "outputs": [
    {
     "data": {
      "text/plain": [
       "9.375"
      ]
     },
     "execution_count": 3,
     "metadata": {},
     "output_type": "execute_result"
    }
   ],
   "source": [
    "conv1 = Conversion(1001,.011)\n",
    "conv1.BINaDECI()"
   ]
  },
  {
   "cell_type": "markdown",
   "metadata": {},
   "source": [
    "### [Ejemplo video](https://youtu.be/gPX5ItTccK0?t=353)"
   ]
  },
  {
   "cell_type": "code",
   "execution_count": 4,
   "metadata": {},
   "outputs": [
    {
     "data": {
      "text/plain": [
       "5.1875"
      ]
     },
     "execution_count": 4,
     "metadata": {},
     "output_type": "execute_result"
    }
   ],
   "source": [
    "conv2 = Conversion(101,.0011)\n",
    "conv2.BINaDECI()"
   ]
  },
  {
   "cell_type": "markdown",
   "metadata": {
    "tags": []
   },
   "source": [
    "DE DECIMAL A BINARIO\n",
    "---"
   ]
  },
  {
   "cell_type": "markdown",
   "metadata": {},
   "source": [
    "### Ejemplo visto en clase"
   ]
  },
  {
   "cell_type": "code",
   "execution_count": 5,
   "metadata": {},
   "outputs": [
    {
     "name": "stdout",
     "output_type": "stream",
     "text": [
      "La 1° iteracion es:  \n",
      "El cociente es:  5\n",
      "El residuo es:  0\n",
      "La 2° iteracion es:  \n",
      "El cociente es:  2\n",
      "El residuo es:  1\n",
      "La 3° iteracion es:  \n",
      "El cociente es:  1\n",
      "El residuo es:  0\n",
      "La 4° iteracion es: \n",
      "El cociente es:  0\n",
      "El residuo es:  1\n",
      "\n",
      "\n",
      "En la 1° iteracion el valor de los decimales es: 0.875 \n",
      "Al multiplicarlo por dos es: 1.75\n",
      "Y se obtiene el entero: 1\n",
      "En la 2° iteracion el valor de los decimales es: 0.75 \n",
      "Al multiplicarlo por dos es: 1.5\n",
      "Y se obtiene el entero: 1\n",
      "En la 3° iteracion el valor de los decimales es: 0.5 \n",
      "Al multiplicarlo por dos es: 1.0\n",
      "Y se obtiene el entero: 1\n"
     ]
    },
    {
     "data": {
      "text/plain": [
       "1010.111"
      ]
     },
     "execution_count": 5,
     "metadata": {},
     "output_type": "execute_result"
    }
   ],
   "source": [
    "conv3 = Conversion(10,.875)\n",
    "conv3.DECIaBIN()"
   ]
  },
  {
   "cell_type": "markdown",
   "metadata": {},
   "source": [
    "### [Ejemplo video](https://youtu.be/w1K1InJYZh4?t=488). En el video ella lo acota por la cantidad de iteraciones necesarias para resolver exactamente el problema."
   ]
  },
  {
   "cell_type": "code",
   "execution_count": 6,
   "metadata": {},
   "outputs": [
    {
     "name": "stdout",
     "output_type": "stream",
     "text": [
      "La 1° iteracion es:  \n",
      "El cociente es:  7\n",
      "El residuo es:  1\n",
      "La 2° iteracion es:  \n",
      "El cociente es:  3\n",
      "El residuo es:  1\n",
      "La 3° iteracion es:  \n",
      "El cociente es:  1\n",
      "El residuo es:  1\n",
      "La 4° iteracion es: \n",
      "El cociente es:  0\n",
      "El residuo es:  1\n",
      "\n",
      "\n",
      "En la 1° iteracion el valor de los decimales es: 0.252 \n",
      "Al multiplicarlo por dos es: 0.504\n",
      "Y se obtiene el entero: 0\n",
      "En la 2° iteracion el valor de los decimales es: 0.504 \n",
      "Al multiplicarlo por dos es: 1.008\n",
      "Y se obtiene el entero: 1\n",
      "En la 3° iteracion el valor de los decimales es: 0.008000000000000007 \n",
      "Al multiplicarlo por dos es: 0.016000000000000014\n",
      "Y se obtiene el entero: 0\n",
      "En la 4° iteracion el valor de los decimales es: 0.016000000000000014 \n",
      "Al multiplicarlo por dos es: 0.03200000000000003\n",
      "Y se obtiene el entero: 0\n",
      "En la 5° iteracion el valor de los decimales es: 0.03200000000000003 \n",
      "Al multiplicarlo por dos es: 0.06400000000000006\n",
      "Y se obtiene el entero: 0\n",
      "En la 6° iteracion el valor de los decimales es: 0.06400000000000006 \n",
      "Al multiplicarlo por dos es: 0.1280000000000001\n",
      "Y se obtiene el entero: 0\n",
      "En la 7° iteracion el valor de los decimales es: 0.1280000000000001 \n",
      "Al multiplicarlo por dos es: 0.2560000000000002\n",
      "Y se obtiene el entero: 0\n",
      "En la 8° iteracion el valor de los decimales es: 0.2560000000000002 \n",
      "Al multiplicarlo por dos es: 0.5120000000000005\n",
      "Y se obtiene el entero: 0\n",
      "En la 9° iteracion el valor de los decimales es: 0.5120000000000005 \n",
      "Al multiplicarlo por dos es: 1.024000000000001\n",
      "Y se obtiene el entero: 1\n",
      "En la 10° iteracion el valor de los decimales es: 0.02400000000000091 \n",
      "Al multiplicarlo por dos es: 0.04800000000000182\n",
      "Y se obtiene el entero: 0\n",
      "En la 11° iteracion el valor de los decimales es: 0.04800000000000182 \n",
      "Al multiplicarlo por dos es: 0.09600000000000364\n",
      "Y se obtiene el entero: 0\n",
      "En la 12° iteracion el valor de los decimales es: 0.09600000000000364 \n",
      "Al multiplicarlo por dos es: 0.19200000000000728\n",
      "Y se obtiene el entero: 0\n",
      "En la 13° iteracion el valor de los decimales es: 0.19200000000000728 \n",
      "Al multiplicarlo por dos es: 0.38400000000001455\n",
      "Y se obtiene el entero: 0\n",
      "En la 14° iteracion el valor de los decimales es: 0.38400000000001455 \n",
      "Al multiplicarlo por dos es: 0.7680000000000291\n",
      "Y se obtiene el entero: 0\n",
      "En la 15° iteracion el valor de los decimales es: 0.7680000000000291 \n",
      "Al multiplicarlo por dos es: 1.5360000000000582\n",
      "Y se obtiene el entero: 1\n",
      "En la 16° iteracion el valor de los decimales es: 0.5360000000000582 \n",
      "Al multiplicarlo por dos es: 1.0720000000001164\n",
      "Y se obtiene el entero: 1\n",
      "En la 17° iteracion el valor de los decimales es: 0.07200000000011642 \n",
      "Al multiplicarlo por dos es: 0.14400000000023283\n",
      "Y se obtiene el entero: 0\n",
      "En la 18° iteracion el valor de los decimales es: 0.14400000000023283 \n",
      "Al multiplicarlo por dos es: 0.28800000000046566\n",
      "Y se obtiene el entero: 0\n",
      "En la 19° iteracion el valor de los decimales es: 0.28800000000046566 \n",
      "Al multiplicarlo por dos es: 0.5760000000009313\n",
      "Y se obtiene el entero: 0\n",
      "En la 20° iteracion el valor de los decimales es: 0.5760000000009313 \n",
      "Al multiplicarlo por dos es: 1.1520000000018626\n",
      "Y se obtiene el entero: 1\n",
      "En la 21° iteracion el valor de los decimales es: 0.15200000000186265 \n",
      "Al multiplicarlo por dos es: 0.3040000000037253\n",
      "Y se obtiene el entero: 0\n",
      "En la 22° iteracion el valor de los decimales es: 0.3040000000037253 \n",
      "Al multiplicarlo por dos es: 0.6080000000074506\n",
      "Y se obtiene el entero: 0\n",
      "En la 23° iteracion el valor de los decimales es: 0.6080000000074506 \n",
      "Al multiplicarlo por dos es: 1.2160000000149012\n",
      "Y se obtiene el entero: 1\n",
      "En la 24° iteracion el valor de los decimales es: 0.21600000001490116 \n",
      "Al multiplicarlo por dos es: 0.4320000000298023\n",
      "Y se obtiene el entero: 0\n",
      "En la 25° iteracion el valor de los decimales es: 0.4320000000298023 \n",
      "Al multiplicarlo por dos es: 0.8640000000596046\n",
      "Y se obtiene el entero: 0\n",
      "En la 26° iteracion el valor de los decimales es: 0.8640000000596046 \n",
      "Al multiplicarlo por dos es: 1.7280000001192093\n",
      "Y se obtiene el entero: 1\n",
      "En la 27° iteracion el valor de los decimales es: 0.7280000001192093 \n",
      "Al multiplicarlo por dos es: 1.4560000002384186\n",
      "Y se obtiene el entero: 1\n",
      "En la 28° iteracion el valor de los decimales es: 0.4560000002384186 \n",
      "Al multiplicarlo por dos es: 0.9120000004768372\n",
      "Y se obtiene el entero: 0\n",
      "En la 29° iteracion el valor de los decimales es: 0.9120000004768372 \n",
      "Al multiplicarlo por dos es: 1.8240000009536743\n",
      "Y se obtiene el entero: 1\n",
      "En la 30° iteracion el valor de los decimales es: 0.8240000009536743 \n",
      "Al multiplicarlo por dos es: 1.6480000019073486\n",
      "Y se obtiene el entero: 1\n",
      "En la 31° iteracion el valor de los decimales es: 0.6480000019073486 \n",
      "Al multiplicarlo por dos es: 1.2960000038146973\n",
      "Y se obtiene el entero: 1\n",
      "En la 32° iteracion el valor de los decimales es: 0.29600000381469727 \n",
      "Al multiplicarlo por dos es: 0.5920000076293945\n",
      "Y se obtiene el entero: 0\n",
      "En la 33° iteracion el valor de los decimales es: 0.5920000076293945 \n",
      "Al multiplicarlo por dos es: 1.184000015258789\n",
      "Y se obtiene el entero: 1\n",
      "En la 34° iteracion el valor de los decimales es: 0.18400001525878906 \n",
      "Al multiplicarlo por dos es: 0.3680000305175781\n",
      "Y se obtiene el entero: 0\n",
      "En la 35° iteracion el valor de los decimales es: 0.3680000305175781 \n",
      "Al multiplicarlo por dos es: 0.7360000610351562\n",
      "Y se obtiene el entero: 0\n",
      "En la 36° iteracion el valor de los decimales es: 0.7360000610351562 \n",
      "Al multiplicarlo por dos es: 1.4720001220703125\n",
      "Y se obtiene el entero: 1\n",
      "En la 37° iteracion el valor de los decimales es: 0.4720001220703125 \n",
      "Al multiplicarlo por dos es: 0.944000244140625\n",
      "Y se obtiene el entero: 0\n",
      "En la 38° iteracion el valor de los decimales es: 0.944000244140625 \n",
      "Al multiplicarlo por dos es: 1.88800048828125\n",
      "Y se obtiene el entero: 1\n",
      "En la 39° iteracion el valor de los decimales es: 0.88800048828125 \n",
      "Al multiplicarlo por dos es: 1.7760009765625\n",
      "Y se obtiene el entero: 1\n",
      "En la 40° iteracion el valor de los decimales es: 0.7760009765625 \n",
      "Al multiplicarlo por dos es: 1.552001953125\n",
      "Y se obtiene el entero: 1\n",
      "En la 41° iteracion el valor de los decimales es: 0.552001953125 \n",
      "Al multiplicarlo por dos es: 1.10400390625\n",
      "Y se obtiene el entero: 1\n",
      "En la 42° iteracion el valor de los decimales es: 0.10400390625 \n",
      "Al multiplicarlo por dos es: 0.2080078125\n",
      "Y se obtiene el entero: 0\n",
      "En la 43° iteracion el valor de los decimales es: 0.2080078125 \n",
      "Al multiplicarlo por dos es: 0.416015625\n",
      "Y se obtiene el entero: 0\n",
      "En la 44° iteracion el valor de los decimales es: 0.416015625 \n",
      "Al multiplicarlo por dos es: 0.83203125\n",
      "Y se obtiene el entero: 0\n",
      "En la 45° iteracion el valor de los decimales es: 0.83203125 \n",
      "Al multiplicarlo por dos es: 1.6640625\n",
      "Y se obtiene el entero: 1\n",
      "En la 46° iteracion el valor de los decimales es: 0.6640625 \n",
      "Al multiplicarlo por dos es: 1.328125\n",
      "Y se obtiene el entero: 1\n",
      "En la 47° iteracion el valor de los decimales es: 0.328125 \n",
      "Al multiplicarlo por dos es: 0.65625\n",
      "Y se obtiene el entero: 0\n",
      "En la 48° iteracion el valor de los decimales es: 0.65625 \n",
      "Al multiplicarlo por dos es: 1.3125\n",
      "Y se obtiene el entero: 1\n",
      "En la 49° iteracion el valor de los decimales es: 0.3125 \n",
      "Al multiplicarlo por dos es: 0.625\n",
      "Y se obtiene el entero: 0\n",
      "En la 50° iteracion el valor de los decimales es: 0.625 \n",
      "Al multiplicarlo por dos es: 1.25\n",
      "Y se obtiene el entero: 1\n",
      "En la 51° iteracion el valor de los decimales es: 0.25 \n",
      "Al multiplicarlo por dos es: 0.5\n",
      "Y se obtiene el entero: 0\n",
      "En la 52° iteracion el valor de los decimales es: 0.5 \n",
      "Al multiplicarlo por dos es: 1.0\n",
      "Y se obtiene el entero: 1\n"
     ]
    },
    {
     "data": {
      "text/plain": [
       "1111.010000001"
      ]
     },
     "execution_count": 6,
     "metadata": {},
     "output_type": "execute_result"
    }
   ],
   "source": [
    "conv4 = Conversion(15,.252)\n",
    "conv4.DECIaBIN()"
   ]
  }
 ],
 "metadata": {
  "kernelspec": {
   "display_name": "Python 3",
   "language": "python",
   "name": "python3"
  },
  "language_info": {
   "codemirror_mode": {
    "name": "ipython",
    "version": 3
   },
   "file_extension": ".py",
   "mimetype": "text/x-python",
   "name": "python",
   "nbconvert_exporter": "python",
   "pygments_lexer": "ipython3",
   "version": "3.8.3"
  }
 },
 "nbformat": 4,
 "nbformat_minor": 4
}
