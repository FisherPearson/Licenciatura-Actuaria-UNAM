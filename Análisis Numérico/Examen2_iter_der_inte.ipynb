{
 "cells": [
  {
   "cell_type": "markdown",
   "metadata": {},
   "source": [
    "<h1><center>EXAMEN 2: EJERCICIO 4, 7 Y 10</center></h1>\n",
    "\n",
    "__Autores__:\n",
    "1. David Montaño Castro\n",
    "2. Sergio Israel Durán García"
   ]
  },
  {
   "cell_type": "markdown",
   "metadata": {},
   "source": [
    "Paqueterías necesarias\n",
    "---"
   ]
  },
  {
   "cell_type": "code",
   "execution_count": 1,
   "metadata": {},
   "outputs": [],
   "source": [
    "import numpy as np\n",
    "import sympy as sp\n",
    "from sympy import Symbol,integrate,tan, log,ln, pi, sqrt, sin, cos,csc, exp, Abs, Min, Max#<----- Aquí puedes agregar la función que desees.\n",
    "x = sp.Symbol(\"x\")"
   ]
  },
  {
   "cell_type": "markdown",
   "metadata": {},
   "source": [
    "Ejercicio 4\n",
    "---\n",
    "Elabora el código correspondiente para la construcción de los siguentes interpoladores polinómicos"
   ]
  },
  {
   "cell_type": "markdown",
   "metadata": {},
   "source": [
    "### Interpolador de Lagrange"
   ]
  },
  {
   "cell_type": "code",
   "execution_count": 2,
   "metadata": {},
   "outputs": [],
   "source": [
    "def Inter_Lagrange(xi,fxi,est):\n",
    "    \"\"\"\n",
    "    Función que calcula el interpolador de Lagrange en un punto estimado.\n",
    "    \n",
    "    Parámetros:\n",
    "    \n",
    "    xi : lista de los xi con el que se va a construir el interpolador. \n",
    "    \n",
    "    fxi : lista de las imágnees de los xi con los que se va a construir el interpolador.\n",
    "    \n",
    "    est : el punto dentro dentro del intervalo cuya imagen quiere ser calculada. \n",
    "    \"\"\"\n",
    "    \n",
    "    numeradores = []\n",
    "    denominadores = []\n",
    "    \n",
    "    for i in range(0,len(xi)):  # For para calcular los numeradores de cada Li\n",
    "        num = 1\n",
    "        for j in xi:\n",
    "            if j == xi[i]: # Salta el valor del arreglo cuyo Li está siendo calculado \n",
    "                continue\n",
    "            else:\n",
    "                num = num * (est-j)\n",
    "            \n",
    "        numeradores.append(num)\n",
    "    \n",
    "    for i in range(0,len(xi)):  # For para calcular los denominadores de cada Li\n",
    "        num = 1\n",
    "        for j in xi:\n",
    "            if j == xi[i]:  # Salta el valor del arreglo cuyo Li está siendo calculado\n",
    "                continue\n",
    "            else:\n",
    "                num = num * (xi[i]-j)\n",
    "            \n",
    "        denominadores.append(1/num)\n",
    "        \n",
    "    numeradores = np.array(numeradores)\n",
    "    denominadores = np.array(denominadores)\n",
    "    fs = np.array(fxi)\n",
    "    \n",
    "    return print(\"La imagen de x = \",est,\"es f(x) = \", np.sum(fs*numeradores*denominadores))"
   ]
  },
  {
   "cell_type": "markdown",
   "metadata": {},
   "source": [
    "#### Ejemplo visto en clase"
   ]
  },
  {
   "cell_type": "code",
   "execution_count": 3,
   "metadata": {},
   "outputs": [
    {
     "name": "stdout",
     "output_type": "stream",
     "text": [
      "La imagen de x =  3 es f(x) =  0.325\n"
     ]
    }
   ],
   "source": [
    "Inter_Lagrange([2,2.5,4],[.5,.4,.25],3)"
   ]
  },
  {
   "cell_type": "markdown",
   "metadata": {},
   "source": [
    "#### [Ejemplo en video](https://www.youtube.com/watch?v=CeYKhxfmneI)"
   ]
  },
  {
   "cell_type": "code",
   "execution_count": 4,
   "metadata": {},
   "outputs": [
    {
     "name": "stdout",
     "output_type": "stream",
     "text": [
      "La imagen de x =  0.5 es f(x) =  2.625\n"
     ]
    }
   ],
   "source": [
    "Inter_Lagrange([0,1,2],[1,3,0],.5)"
   ]
  },
  {
   "cell_type": "markdown",
   "metadata": {},
   "source": [
    "### Interpolador de Newton (adaptación a Python) "
   ]
  },
  {
   "cell_type": "code",
   "execution_count": 5,
   "metadata": {},
   "outputs": [],
   "source": [
    "def Inter_Newton(xi,fxi,r):\n",
    "    \"\"\"\n",
    "    Función que calcula el Interpolador de Newton\n",
    "    \n",
    "    Parámetros:\n",
    "    \n",
    "    xi : lista de los valores de las xi\n",
    "    \n",
    "    fxi : lista de las imágenes de los xi\n",
    "    \n",
    "    r : valor que quiere estimarse\n",
    "    \"\"\"\n",
    "    r1 = len(xi)\n",
    "    r2 = len(fxi)\n",
    "    \n",
    "    if r1 != r2:\n",
    "        return \"El método no se puede aplicar\"\n",
    "    else:\n",
    "        mat = np.zeros((r1,r2))\n",
    "        for i in range(0,r1):  # LLena toda la primera columna con los valores de las fxi\n",
    "            mat[i,0] = fxi[i]\n",
    "        for i in range(1,r1):  # Llena el resto de la matriz\n",
    "            for j in range(1,i+1): \n",
    "                mat[i,j] = (mat[i,j-1] - mat[i-1,j-1])/(xi[i] - xi[i-j])\n",
    "    \n",
    "    a = mat.shape\n",
    "    a1 = a[0]\n",
    "    a2 = a[1]\n",
    "    \n",
    "    vec_r = np.zeros(a1)\n",
    "    for i in range(1,a1):\n",
    "        prod = 1\n",
    "        for j in range(0,i): \n",
    "            prod = prod * (r - xi[j])\n",
    "        vec_r[i-1] = prod\n",
    "    \n",
    "    inter = mat[0,0]\n",
    "    for i in range(1,a1):\n",
    "        inter = inter + (mat[i,i] * vec_r[i-1])\n",
    "        \n",
    "    return print(\"La imagen de x = \",r,\"es f(x) = \", inter)\n",
    "        "
   ]
  },
  {
   "cell_type": "markdown",
   "metadata": {},
   "source": [
    "#### Ejemplo visto en clase"
   ]
  },
  {
   "cell_type": "code",
   "execution_count": 6,
   "metadata": {},
   "outputs": [
    {
     "name": "stdout",
     "output_type": "stream",
     "text": [
      "La imagen de x =  3 es f(x) =  0.325\n"
     ]
    }
   ],
   "source": [
    "Inter_Newton([2,2.5,4],[.5,.4,.25],3)"
   ]
  },
  {
   "cell_type": "markdown",
   "metadata": {},
   "source": [
    "#### [Ejemplo en video](https://www.youtube.com/watch?v=AISHH6goWUs)"
   ]
  },
  {
   "cell_type": "code",
   "execution_count": 7,
   "metadata": {},
   "outputs": [
    {
     "name": "stdout",
     "output_type": "stream",
     "text": [
      "La imagen de x =  -1 es f(x) =  4.0\n"
     ]
    }
   ],
   "source": [
    "Inter_Newton([1,0,-3],[2,4,-2],-1)"
   ]
  },
  {
   "cell_type": "code",
   "execution_count": 8,
   "metadata": {},
   "outputs": [
    {
     "name": "stdout",
     "output_type": "stream",
     "text": [
      "La imagen de x =  -2 es f(x) =  2.0\n"
     ]
    }
   ],
   "source": [
    "Inter_Newton([1,0,-3],[2,4,-2],-2)"
   ]
  },
  {
   "cell_type": "code",
   "execution_count": 9,
   "metadata": {},
   "outputs": [
    {
     "name": "stdout",
     "output_type": "stream",
     "text": [
      "La imagen de x =  -3 es f(x) =  -2.0\n"
     ]
    }
   ],
   "source": [
    "Inter_Newton([1,0,-3],[2,4,-2],-3)"
   ]
  },
  {
   "cell_type": "markdown",
   "metadata": {},
   "source": [
    "Ejercicio 7\n",
    "---\n",
    "Elabora los códigos de derivación correspondientes a los siguientes métodos."
   ]
  },
  {
   "cell_type": "markdown",
   "metadata": {},
   "source": [
    "Primer Orden\n",
    "---"
   ]
  },
  {
   "cell_type": "markdown",
   "metadata": {},
   "source": [
    "### Centrada a tres puntos"
   ]
  },
  {
   "cell_type": "code",
   "execution_count": 10,
   "metadata": {},
   "outputs": [],
   "source": [
    "def Centrada_3(funcion,x0,x1,x2):\n",
    "    \"\"\"\n",
    "    Función que calcula la derivada de primer orden de x1 por medio de 3 puntos con la técnica centrada\n",
    "    \n",
    "    Parámetros:\n",
    "    \n",
    "    funcion : función a la que se le quiere calcular la derivada\n",
    "    \n",
    "    x0 : Punto anterior \n",
    "    \n",
    "    x1 : Punto en el que se evaluará la derivada\n",
    "    \n",
    "    x2 : Punto posterior\n",
    "    \"\"\"\n",
    "    \n",
    "    x = sp.Symbol(\"x\")\n",
    "    \n",
    "    estimacion = (funcion.subs(x,x2) - funcion.subs(x,x0))/(x2 - x0) # Calcular estimación\n",
    "    \n",
    "    verdadero = sp.diff(funcion,x).subs(x,x1) # Calcular el valor verdadero\n",
    "    \n",
    "    return print(\"El valor de la estimación es: \",float(estimacion),\"\\n\",\"El verdadero valor es:\", float(verdadero))"
   ]
  },
  {
   "cell_type": "markdown",
   "metadata": {},
   "source": [
    "#### Ejemplo visto en clase"
   ]
  },
  {
   "cell_type": "code",
   "execution_count": 11,
   "metadata": {},
   "outputs": [
    {
     "name": "stdout",
     "output_type": "stream",
     "text": [
      "El valor de la estimación es:  -0.7456699514464014 \n",
      " El verdadero valor es: -0.7357588823428847\n"
     ]
    }
   ],
   "source": [
    "Centrada_3(exp(-x)/x,.9,1,1.1)"
   ]
  },
  {
   "cell_type": "markdown",
   "metadata": {},
   "source": [
    "### Progresiva a tres puntos"
   ]
  },
  {
   "cell_type": "code",
   "execution_count": 12,
   "metadata": {},
   "outputs": [],
   "source": [
    "def Progresiva_3(funcion,x0,x1,x2):\n",
    "    \"\"\"\n",
    "    Función que calcula la derivada de primer orden de x0 por medio de 3 puntos con la técnica progresiva\n",
    "    \n",
    "    Parámetros:\n",
    "    \n",
    "    funcion : función a la que se le quiere calcular la derivada\n",
    "    \n",
    "    x0 : Punto en el que se evaluará la derivada \n",
    "    \n",
    "    x1 : Primer punto posterior\n",
    "    \n",
    "    x2 : Segundo punto posterior\n",
    "    \"\"\"\n",
    "    \n",
    "    x = sp.Symbol(\"x\")\n",
    "    \n",
    "    estimacion = (4*funcion.subs(x,x1) - funcion.subs(x,x2) - 3*funcion.subs(x,x0))/(x2 - x0) # Calcular estimación\n",
    "    \n",
    "    verdadero = sp.diff(funcion,x).subs(x,x0) # Calcular el valor verdadero\n",
    "    \n",
    "    return print(\"El valor de la estimación es: \",float(estimacion),\"\\n\",\"El verdadero valor es:\", float(verdadero))"
   ]
  },
  {
   "cell_type": "markdown",
   "metadata": {},
   "source": [
    "#### Ejemplo visto en clase"
   ]
  },
  {
   "cell_type": "code",
   "execution_count": 13,
   "metadata": {},
   "outputs": [
    {
     "name": "stdout",
     "output_type": "stream",
     "text": [
      "El valor de la estimación es:  -0.7209659787558802 \n",
      " El verdadero valor es: -0.7357588823428847\n"
     ]
    }
   ],
   "source": [
    "Progresiva_3(exp(-x)/x,1,1.1,1.2)"
   ]
  },
  {
   "cell_type": "markdown",
   "metadata": {},
   "source": [
    "### Regresiva a cinco puntos"
   ]
  },
  {
   "cell_type": "code",
   "execution_count": 14,
   "metadata": {},
   "outputs": [],
   "source": [
    "def Regresiva_5(funcion,x0,x1,x2,x3,x4):\n",
    "    \"\"\"\n",
    "    Función que calcula la derivada de primer orden de x4 por medio de 5 puntos con la técnica regresiva.\n",
    "    \n",
    "    Parámetros:\n",
    "    \n",
    "    funcion : función a la que se le quiere calcular la derivada\n",
    "    \n",
    "    x0 : Primer punto anterior \n",
    "    \n",
    "    x1 : Segundo punto anterior\n",
    "    \n",
    "    x2 : Tercer punto anterior\n",
    "    \n",
    "    x3 : Cuarto punto posterior\n",
    "    \n",
    "    x4 : Punto en el que se evaluará la derivada\n",
    "    \"\"\"\n",
    "    \n",
    "    x = sp.Symbol(\"x\")\n",
    "    \n",
    "    estimacion = (-27*funcion.subs(x,x0) + 64*funcion.subs(x,x1) + 36*funcion.subs(x,x2) - 288*funcion.subs(x,x3) + 215*funcion.subs(x,x4))/(132 * (x1 - x0)) # Calcular estimación\n",
    "    \n",
    "    verdadero = sp.diff(funcion,x).subs(x,x4) # Calcular el valor verdadero\n",
    "    \n",
    "    return print(\"El valor de la estimación es: \",float(estimacion),\"\\n\",\"El verdadero valor es:\", float(verdadero))"
   ]
  },
  {
   "cell_type": "markdown",
   "metadata": {},
   "source": [
    "#### Ejemplo propuesto"
   ]
  },
  {
   "cell_type": "code",
   "execution_count": 15,
   "metadata": {},
   "outputs": [
    {
     "name": "stdout",
     "output_type": "stream",
     "text": [
      "El valor de la estimación es:  -0.7638520140921287 \n",
      " El verdadero valor es: -0.7357588823428847\n"
     ]
    }
   ],
   "source": [
    "Regresiva_5(exp(-x)/x,.6,.7,.8,.9,1)"
   ]
  },
  {
   "cell_type": "markdown",
   "metadata": {},
   "source": [
    "### Centrada a cinco puntos"
   ]
  },
  {
   "cell_type": "code",
   "execution_count": 16,
   "metadata": {},
   "outputs": [],
   "source": [
    "def Centrada_5(funcion,x0,x1,x2,x3,x4):\n",
    "    \"\"\"\n",
    "    Función que calcula la derivada de primer orden de x2 por medio de 5 puntos con la técnica centrada\n",
    "    \n",
    "    Parámetros:\n",
    "    \n",
    "    funcion : función a la que se le quiere calcular la derivada\n",
    "    \n",
    "    x0 : Primer punto anterior \n",
    "    \n",
    "    x1 : Segundo punto anterior\n",
    "    \n",
    "    x2 : Punto en el que se evaluará la derivada\n",
    "    \n",
    "    x3 : Primer punto posterior\n",
    "    \n",
    "    x4 : Segundo punto posterior\n",
    "    \"\"\"\n",
    "    \n",
    "    x = sp.Symbol(\"x\")\n",
    "    \n",
    "    estimacion = (funcion.subs(x,x0) - 8*funcion.subs(x,x1) + 8*funcion.subs(x,x3) - funcion.subs(x,x4))/(12 * (x1 - x0)) # Calcular estimación\n",
    "    \n",
    "    verdadero = sp.diff(funcion,x).subs(x,x2) # Calcular el valor verdadero\n",
    "    \n",
    "    return print(\"El valor de la estimación es: \",float(estimacion),\"\\n\",\"El verdadero valor es:\", float(verdadero))"
   ]
  },
  {
   "cell_type": "markdown",
   "metadata": {},
   "source": [
    "#### Ejemplo visto en clase"
   ]
  },
  {
   "cell_type": "code",
   "execution_count": 17,
   "metadata": {},
   "outputs": [
    {
     "name": "stdout",
     "output_type": "stream",
     "text": [
      "El valor de la estimación es:  -0.7353382448010146 \n",
      " El verdadero valor es: -0.7357588823428847\n"
     ]
    }
   ],
   "source": [
    "Centrada_5(exp(-x)/x,.8,.9,1,1.1,1.2)"
   ]
  },
  {
   "cell_type": "markdown",
   "metadata": {},
   "source": [
    "Segundo Orden\n",
    "---"
   ]
  },
  {
   "cell_type": "markdown",
   "metadata": {},
   "source": [
    "### Centrada a tres puntos"
   ]
  },
  {
   "cell_type": "code",
   "execution_count": 18,
   "metadata": {},
   "outputs": [],
   "source": [
    "def Centrada_3_2(funcion,x0,x1,x2):\n",
    "    \"\"\"\n",
    "    Función que calcula la derivada de segundo orden de x1 por medio de 3 puntos con la técnica centrada\n",
    "    \n",
    "    Parámetros:\n",
    "    \n",
    "    funcion : función a la que se le quiere calcular la derivada\n",
    "    \n",
    "    x0 : Punto anterior \n",
    "    \n",
    "    x1 : Punto en el que se evaluará la derivada\n",
    "    \n",
    "    x2 : Punto posterior\n",
    "    \"\"\"\n",
    "    \n",
    "    x = sp.Symbol(\"x\")\n",
    "    \n",
    "    estimacion = (funcion.subs(x,x2) + funcion.subs(x,x0) - 2*funcion.subs(x,x1))/((x1 - x0)**2) # Calcular estimación\n",
    "    \n",
    "    verdadero = sp.diff(sp.diff(funcion,x),x).subs(x,x1) # Calcular el valor verdadero\n",
    "    \n",
    "    return print(\"El valor de la estimación es: \",float(estimacion),\"\\n\",\"El verdadero valor es:\", float(verdadero))"
   ]
  },
  {
   "cell_type": "markdown",
   "metadata": {},
   "source": [
    "#### Ejercicio visto en clase"
   ]
  },
  {
   "cell_type": "code",
   "execution_count": 19,
   "metadata": {},
   "outputs": [
    {
     "name": "stdout",
     "output_type": "stream",
     "text": [
      "El valor de la estimación es:  66.30000000000024 \n",
      " El verdadero valor es: 66.0\n"
     ]
    }
   ],
   "source": [
    "Centrada_3_2(x**3+3*x**5,.9,1,1.1)"
   ]
  },
  {
   "cell_type": "markdown",
   "metadata": {},
   "source": [
    "### Progresiva a tres puntos"
   ]
  },
  {
   "cell_type": "code",
   "execution_count": 20,
   "metadata": {},
   "outputs": [],
   "source": [
    "def Progresiva_3_2(funcion,x0,x1,x2):\n",
    "    \"\"\"\n",
    "    Función que calcula la derivada de segundo orden de x0 por medio de 3 puntos con la técnica Progresiva\n",
    "    \n",
    "    Parámetros:\n",
    "    \n",
    "    funcion : función a la que se le quiere calcular la derivada\n",
    "    \n",
    "    x0 : Punto en el que se evaluará la derivada \n",
    "    \n",
    "    x1 : Primer punto posterior\n",
    "    \n",
    "    x2 : Segundo punto posterior\n",
    "    \"\"\"\n",
    "    \n",
    "    x = sp.Symbol(\"x\")\n",
    "    \n",
    "    estimacion = (funcion.subs(x,x2) + funcion.subs(x,x0) - 2*funcion.subs(x,x1))/((x1 - x0)**2) # Calcular estimación\n",
    "    \n",
    "    verdadero = sp.diff(sp.diff(funcion,x),x).subs(x,x0) # Calcular el valor verdadero\n",
    "    \n",
    "    return print(\"El valor de la estimación es: \",float(estimacion),\"\\n\",\"El verdadero valor es:\", float(verdadero))"
   ]
  },
  {
   "cell_type": "markdown",
   "metadata": {},
   "source": [
    "#### Ejercicio propuesto"
   ]
  },
  {
   "cell_type": "code",
   "execution_count": 21,
   "metadata": {},
   "outputs": [
    {
     "name": "stdout",
     "output_type": "stream",
     "text": [
      "El valor de la estimación es:  86.7899999999992 \n",
      " El verdadero valor es: 66.0\n"
     ]
    }
   ],
   "source": [
    "Progresiva_3_2(x**3+3*x**5,1,1.1,1.2)"
   ]
  },
  {
   "cell_type": "markdown",
   "metadata": {},
   "source": [
    "### Regresiva a cinco puntos "
   ]
  },
  {
   "cell_type": "code",
   "execution_count": 22,
   "metadata": {},
   "outputs": [],
   "source": [
    "def Regresiva_5_2(funcion,x0,x1,x2,x3,x4):\n",
    "    \"\"\"\n",
    "    Función que calcula la derivada de segundo orden de x4 por medio de 5 puntos con la técnica Regresiva\n",
    "    \n",
    "    Parámetros:\n",
    "    \n",
    "    funcion : función a la que se le quiere calcular la derivada\n",
    "    \n",
    "    x0 : Primer punto anterior \n",
    "    \n",
    "    x1 : Segundo punto anterior\n",
    "    \n",
    "    x2 : Tercer punto anterior\n",
    "    \n",
    "    x3 : Cuarto punto anterior\n",
    "    \n",
    "    x4 : Punto en el que se evaluará la derivada\n",
    "    \"\"\"\n",
    "    \n",
    "    x = sp.Symbol(\"x\")\n",
    "    \n",
    "    estimacion = (-384*funcion.subs(x,x1) +162*funcion.subs(x,x0) + 672*funcion.subs(x,x3) - 366*funcion.subs(x,x4) -84* funcion.subs(x,x2))/(-264 * (x1 - x0)**2) # Calcular estimación\n",
    "    \n",
    "    verdadero = sp.diff(sp.diff(funcion,x),x).subs(x,x4) # Calcular el valor verdadero\n",
    "    \n",
    "    return print(\"El valor de la estimación es: \",float(estimacion),\"\\n\",\"El verdadero valor es:\", float(verdadero))"
   ]
  },
  {
   "cell_type": "markdown",
   "metadata": {},
   "source": [
    "#### Ejercicio propuesto"
   ]
  },
  {
   "cell_type": "code",
   "execution_count": 23,
   "metadata": {},
   "outputs": [
    {
     "name": "stdout",
     "output_type": "stream",
     "text": [
      "El valor de la estimación es:  61.29272727272725 \n",
      " El verdadero valor es: 66.0\n"
     ]
    }
   ],
   "source": [
    "Regresiva_5_2(x**3+3*x**5,.6,.7,.8,.9,1)"
   ]
  },
  {
   "cell_type": "markdown",
   "metadata": {},
   "source": [
    "#### Ejercicio propuesto"
   ]
  },
  {
   "cell_type": "code",
   "execution_count": 24,
   "metadata": {},
   "outputs": [
    {
     "name": "stdout",
     "output_type": "stream",
     "text": [
      "El valor de la estimación es:  -0.814855761635273 \n",
      " El verdadero valor es: -1.0\n"
     ]
    }
   ],
   "source": [
    "Regresiva_5_2(ln(x),.6,.7,.8,.9,1)"
   ]
  },
  {
   "cell_type": "markdown",
   "metadata": {},
   "source": [
    "#### Ejercicio propuesto"
   ]
  },
  {
   "cell_type": "code",
   "execution_count": 25,
   "metadata": {},
   "outputs": [
    {
     "name": "stdout",
     "output_type": "stream",
     "text": [
      "El valor de la estimación es:  1.7415155412661285 \n",
      " El verdadero valor es: 2.108336672144472\n"
     ]
    }
   ],
   "source": [
    "Regresiva_5_2((3*x)**ln(x),.6,.7,.8,.9,1)"
   ]
  },
  {
   "cell_type": "markdown",
   "metadata": {},
   "source": [
    "### Centrada a cinco puntos "
   ]
  },
  {
   "cell_type": "code",
   "execution_count": 26,
   "metadata": {},
   "outputs": [],
   "source": [
    "def Centrada_5_2(funcion,x0,x1,x2,x3,x4):\n",
    "    \"\"\"\n",
    "    Función que calcula la derivada de segundo orden de x2 por medio de 5 puntos con la técnica centrada\n",
    "    \n",
    "    Parámetros:\n",
    "    \n",
    "    funcion : función a la que se le quiere calcular la derivada\n",
    "    \n",
    "    x0 : Primer punto anterior \n",
    "    \n",
    "    x1 : Segundo punto anterior\n",
    "    \n",
    "    x2 : Punto en el que se evaluará la derivada\n",
    "    \n",
    "    x3 : Primer punto posterior\n",
    "    \n",
    "    x4 : Segundo punto posterior\n",
    "    \"\"\"\n",
    "    \n",
    "    x = sp.Symbol(\"x\")\n",
    "    \n",
    "    estimacion = (-funcion.subs(x,x0) + 8*funcion.subs(x,x1) + 8*funcion.subs(x,x3) - funcion.subs(x,x4) - 14*funcion.subs(x,x2))/(4 * (x1 - x0)**2) # Calcular estimación\n",
    "    \n",
    "    verdadero = sp.diff(sp.diff(funcion,x),x).subs(x,x2) # Calcular el valor verdadero\n",
    "    \n",
    "    return print(\"El valor de la estimación es: \",float(estimacion),\"\\n\",\"El verdadero valor es:\", float(verdadero))"
   ]
  },
  {
   "cell_type": "markdown",
   "metadata": {},
   "source": [
    "#### Ejercicio visto en clase"
   ]
  },
  {
   "cell_type": "code",
   "execution_count": 27,
   "metadata": {},
   "outputs": [
    {
     "name": "stdout",
     "output_type": "stream",
     "text": [
      "El valor de la estimación es:  65.40000000000038 \n",
      " El verdadero valor es: 66.0\n"
     ]
    }
   ],
   "source": [
    "Centrada_5_2(x**3+3*x**5,.8,.9,1,1.1,1.2)"
   ]
  },
  {
   "cell_type": "markdown",
   "metadata": {},
   "source": [
    "Ejercicio 10\n",
    "---\n",
    "Elabora los códigos correpondientes a los siguientes métodos de integración numérica"
   ]
  },
  {
   "cell_type": "markdown",
   "metadata": {},
   "source": [
    "### Trapecio compuesto"
   ]
  },
  {
   "cell_type": "code",
   "execution_count": 28,
   "metadata": {},
   "outputs": [],
   "source": [
    "def Trapecio_Compuesto(funcion,inf,sup,num_nodos):\n",
    "    \"\"\"\n",
    "    Trapecio compuesto para aproximar valores de integrales definidas\n",
    "    \n",
    "    Parámetros:\n",
    "    \n",
    "    funcion : función a integrar\n",
    "    \n",
    "    inf : límite inferior de la integral\n",
    "    \n",
    "    sup : límite superior de la integral\n",
    "    \n",
    "    num_nodos : número de nodos que se desean calcular entre ambos límites. DEBE SER VALOR PAR.\n",
    "    \"\"\"\n",
    "    \n",
    "    x = sp.Symbol(\"x\")\n",
    "    \n",
    "    xi = np.linspace(inf,sup,num_nodos) # Genera nodos\n",
    "    fxi = []\n",
    "    \n",
    "    for i in xi: # Calcula las imagenes de los nodos\n",
    "        fxi.append(float(funcion.subs(x,i)))\n",
    "        \n",
    "    fxo = fxi[0] # Guarda el primer y último elemento de las imagenes\n",
    "    fxn = fxi[-1]\n",
    "    h = xi[1] - xi[0] # Calcular el valor de h (separación enter nodos)\n",
    "    \n",
    "    del fxi[0] # Elimina el primer y último elemento de las imagenes\n",
    "    del fxi[-1]\n",
    "    \n",
    "    estimacion = (h/2)* (fxo + 2*np.sum(np.array(fxi)) + fxn) # Estimación\n",
    "    \n",
    "    verdadero = integrate(funcion,(x,inf,sup)) # Integral verdadera\n",
    "    \n",
    "    return print(\"El valor de la estimación es: \",float(estimacion),\"\\n\",\"El verdadero valor es:\", float(verdadero))"
   ]
  },
  {
   "cell_type": "markdown",
   "metadata": {},
   "source": [
    "#### Ejemplo visto en clase"
   ]
  },
  {
   "cell_type": "code",
   "execution_count": 29,
   "metadata": {},
   "outputs": [
    {
     "name": "stdout",
     "output_type": "stream",
     "text": [
      "El valor de la estimación es:  -0.5158333333333333 \n",
      " El verdadero valor es: -0.5\n"
     ]
    }
   ],
   "source": [
    "Trapecio_Compuesto(-1/x**2,1,2,4)"
   ]
  },
  {
   "cell_type": "markdown",
   "metadata": {},
   "source": [
    "#### Ejemplo ayudante"
   ]
  },
  {
   "cell_type": "code",
   "execution_count": 30,
   "metadata": {},
   "outputs": [
    {
     "name": "stdout",
     "output_type": "stream",
     "text": [
      "El valor de la estimación es:  0.2346933677191053 \n",
      " El verdadero valor es: 0.23254415793482963\n"
     ]
    }
   ],
   "source": [
    "Trapecio_Compuesto(exp(-x),1,2,4)"
   ]
  },
  {
   "cell_type": "markdown",
   "metadata": {},
   "source": [
    "#### Ejemplo de la tarea"
   ]
  },
  {
   "cell_type": "code",
   "execution_count": 31,
   "metadata": {},
   "outputs": [
    {
     "name": "stdout",
     "output_type": "stream",
     "text": [
      "El valor de la estimación es:  7.113224267846189 \n",
      " El verdadero valor es: 6.998621709124098\n"
     ]
    }
   ],
   "source": [
    "Trapecio_Compuesto(x**2 * ln(x),1,3,6)"
   ]
  },
  {
   "cell_type": "markdown",
   "metadata": {},
   "source": [
    "### Simpson 1/3 compuesto"
   ]
  },
  {
   "cell_type": "code",
   "execution_count": 32,
   "metadata": {},
   "outputs": [],
   "source": [
    "def Simpson_tercio(funcion,inf,sup,num_nodos):\n",
    "    \"\"\"\n",
    "    Simpson 1/3 para aproximar valores de integrales definidas\n",
    "    \n",
    "    Parámetros:\n",
    "    \n",
    "    funcion : función a integrar\n",
    "    \n",
    "    inf : límite inferior de la integral\n",
    "    \n",
    "    sup : límite superior de la integral\n",
    "    \n",
    "    num_nodos : número de nodos que se desean calcular entre ambos límites. DEBE SER VALOR IMPAR.\n",
    "    \n",
    "    \"\"\"\n",
    "    \n",
    "    x = sp.Symbol(\"x\")\n",
    "    \n",
    "    xi = np.linspace(inf,sup,num_nodos) # Genera nodos\n",
    "    fxi = []\n",
    "    \n",
    "    for i in xi: # Calcula las imagenes de los nodos\n",
    "        fxi.append(float(funcion.subs(x,i)))\n",
    "        \n",
    "    fxo = fxi[0] # Guarda el primer y último elemento de las imagenes\n",
    "    fxn = fxi[-1]\n",
    "    h = xi[1] - xi[0] # Calcular el valor de h (separación enter nodos)\n",
    "    \n",
    "    del fxi[0] # Elimina el primer y último elemento de las imagenes\n",
    "    del fxi[-1]\n",
    "    \n",
    "    # Listas de comprimida\n",
    "    estimacion = (h/3) * (fxo + 4 * np.sum(np.array([x for x in fxi if fxi.index(x)%2 == 0])) + 2 * (np.sum(np.array([x for x in fxi if fxi.index(x)%2 != 0]))) + fxn)\n",
    "    \n",
    "    verdadero = integrate(funcion,(x,inf,sup))\n",
    "    \n",
    "    return print(\"El valor de la estimación es: \",float(estimacion),\"\\n\",\"El verdadero valor es:\", float(verdadero))"
   ]
  },
  {
   "cell_type": "markdown",
   "metadata": {},
   "source": [
    "#### Ejemplo visto en clase"
   ]
  },
  {
   "cell_type": "code",
   "execution_count": 33,
   "metadata": {},
   "outputs": [
    {
     "name": "stdout",
     "output_type": "stream",
     "text": [
      "El valor de la estimación es:  21.50349557488515 \n",
      " El verdadero valor es: 21.50366500017559\n"
     ]
    }
   ],
   "source": [
    "Simpson_tercio(x**2 * ln(x),2,4,5)"
   ]
  },
  {
   "cell_type": "markdown",
   "metadata": {},
   "source": [
    "#### Ejercicio de la tarea"
   ]
  },
  {
   "cell_type": "code",
   "execution_count": 34,
   "metadata": {},
   "outputs": [
    {
     "name": "stdout",
     "output_type": "stream",
     "text": [
      "El valor de la estimación es:  0.05606306467844655 \n",
      " El verdadero valor es: 0.05608733445238534\n"
     ]
    }
   ],
   "source": [
    "Simpson_tercio(x**2 * exp(-2*x),2,4,5)"
   ]
  },
  {
   "cell_type": "markdown",
   "metadata": {},
   "source": [
    "### Simpson 3/8 compuesto"
   ]
  },
  {
   "cell_type": "code",
   "execution_count": 35,
   "metadata": {},
   "outputs": [],
   "source": [
    "def Simpson_Octavo(funcion,inf,sup,num_nodos):\n",
    "    \"\"\"\n",
    "    Simpson 3/8 para aproximar valores de integrales definidas\n",
    "    \n",
    "    Parámetros:\n",
    "    \n",
    "    funcion : función a integrar\n",
    "    \n",
    "    inf : límite inferior de la integral\n",
    "    \n",
    "    sup : límite superior de la integral\n",
    "    \n",
    "    num_nodos : número de nodos que se desean calcular entre ambos límites. DEBE SER VALOR PAR.\n",
    "    \n",
    "    \"\"\"\n",
    "    \n",
    "    x = sp.Symbol(\"x\")\n",
    "    \n",
    "    xi = np.linspace(inf,sup,num_nodos) # Genera nodos\n",
    "    fxi = []\n",
    "    \n",
    "    for i in xi: # Calcula las imagenes de los nodos\n",
    "        fxi.append(float(funcion.subs(x,i)))\n",
    "        \n",
    "    fxo = fxi[0] # Guarda el primer y último elemento de las imagenes\n",
    "    fxn = fxi[-1]\n",
    "    h = xi[1] - xi[0] # Calcular el valor de h (separación enter nodos)\n",
    "    \n",
    "    del fxi[0] # Elimina el primer y último elemento de las imagenes\n",
    "    del fxi[-1]\n",
    "\n",
    "    estimacion = (3*h/8) * (fxo + 2 * np.sum(np.array([x for x in fxi if (fxi.index(x)-2)%3 == 0])) + 3 * (np.sum(np.array([x for x in fxi if (fxi.index(x)-2)%3 != 0]))) + fxn)\n",
    "    \n",
    "    verdadero = integrate(funcion,(x,inf,sup))\n",
    "    \n",
    "    return print(\"El valor de la estimación es: \",float(estimacion),\"\\n\",\"El verdadero valor es:\", float(verdadero))"
   ]
  },
  {
   "cell_type": "markdown",
   "metadata": {},
   "source": [
    "#### Ejercicio de la tarea"
   ]
  },
  {
   "cell_type": "code",
   "execution_count": 36,
   "metadata": {},
   "outputs": [
    {
     "name": "stdout",
     "output_type": "stream",
     "text": [
      "El valor de la estimación es:  6.995897295596805 \n",
      " El verdadero valor es: 6.998621709124098\n"
     ]
    }
   ],
   "source": [
    "Simpson_Octavo(x**2 * ln(x),1,3,4)"
   ]
  },
  {
   "cell_type": "markdown",
   "metadata": {},
   "source": [
    "### Cuadratura Gaussiana "
   ]
  },
  {
   "cell_type": "code",
   "execution_count": 37,
   "metadata": {},
   "outputs": [],
   "source": [
    "def Cuadratura_Gaussiana(funcion,inf,sup,num_nodos = 4):\n",
    "    \"\"\"\n",
    "    Cuadratura Gaussiana para aproximar el valor de una integral. \n",
    "    \n",
    "    Parámetros:\n",
    "    \n",
    "    funcion : función a la cual se le va a calcular la integral\n",
    "    \n",
    "    inf : límite inferior de la integral\n",
    "    \n",
    "    sup : límite superior de la integral\n",
    "    \n",
    "    num_nodos : número de nodos con los que se va a calcular la integral. Solo disponible para 2,3 y 4 nodos. Opcional en 4.\n",
    "    \"\"\"\n",
    "    x = sp.Symbol(\"x\")\n",
    "    \n",
    "    if num_nodos == 2: # Dependiendo del número de nodos, se seleccionan los parámetros correspondientes\n",
    "        ws = np.array([1,1])\n",
    "        xs = np.array([-sqrt(1/3),sqrt(1/3)])\n",
    "    elif num_nodos == 3:\n",
    "        ws = np.array([.55555556,.88888889,.55555556])\n",
    "        xs = np.array([-0.77459667,0,.77459667])\n",
    "    elif num_nodos == 4:\n",
    "        ws = np.array([.3478548,.6521452,.6521452,.3478548])\n",
    "        xs = np.array([.8611363116,.3399810436,-0.3399810436,-0.8611363116])\n",
    "    else:\n",
    "        return \"Solo hay disponibles 2,3 y 4 nodos\"\n",
    "    \n",
    "    evaluaciones = []\n",
    "    \n",
    "    if inf == -1 and sup == 1:# En caso de que los límites ya concuerden, no hagas todo el proceso\n",
    "        for i in xs:\n",
    "            evaluaciones.append(float(funcion.subs(x,i)))\n",
    "        evaluaciones = np.array(evaluaciones)\n",
    "        \n",
    "        estimacion = np.dot(evaluaciones,ws) # Producto punto entre ws y evaluaciones\n",
    "        \n",
    "        verdadero = integrate(funcion,(x,inf,sup))\n",
    "        \n",
    "        return print(\"El valor de la estimación es: \",float(estimacion),\"\\n\",\"El verdadero valor es:\", float(verdadero))\n",
    "    \n",
    "    else:\n",
    "        X = (x*(sup-inf)+ (inf+sup))/2 # transformacion t\n",
    "        derivada_X = sp.diff(X,x) # derivada de t\n",
    "        \n",
    "        real_fuc = funcion.subs(x,X) # Funcion evaluada con el valor de t\n",
    "        \n",
    "        for i in xs:\n",
    "            evaluaciones.append(float(real_fuc.subs(x,i)))\n",
    "        evaluaciones = np.array(evaluaciones)\n",
    "        \n",
    "        estimacion = np.dot(evaluaciones,ws) # Producto punto entre ws y evaluaciones\n",
    "        \n",
    "        verdadero = integrate(funcion,(x,inf,sup))\n",
    "        \n",
    "        return print(\"El valor de la estimación es: \",float(derivada_X)*float(estimacion),\"\\n\",\"El verdadero valor es:\", float(verdadero))\n",
    "        "
   ]
  },
  {
   "cell_type": "markdown",
   "metadata": {},
   "source": [
    "#### Ejercicio visto en clase"
   ]
  },
  {
   "cell_type": "code",
   "execution_count": 38,
   "metadata": {},
   "outputs": [
    {
     "name": "stdout",
     "output_type": "stream",
     "text": [
      "El valor de la estimación es:  0.8845439314938828 \n",
      " El verdadero valor es: 0.8862073482595212\n"
     ]
    }
   ],
   "source": [
    "Cuadratura_Gaussiana(exp(-x**2),0,3,3)"
   ]
  },
  {
   "cell_type": "markdown",
   "metadata": {},
   "source": [
    "#### Ejercicio de la tarea (4 nodos)"
   ]
  },
  {
   "cell_type": "code",
   "execution_count": 39,
   "metadata": {},
   "outputs": [
    {
     "name": "stdout",
     "output_type": "stream",
     "text": [
      "El valor de la estimación es:  0.05608748401373847 \n",
      " El verdadero valor es: 0.05608733445238534\n"
     ]
    }
   ],
   "source": [
    "Cuadratura_Gaussiana(x**2 * exp(-2*x),2,4,4)"
   ]
  },
  {
   "cell_type": "markdown",
   "metadata": {},
   "source": [
    "#### Ejercicio propuesto (-1 y 1)"
   ]
  },
  {
   "cell_type": "code",
   "execution_count": 40,
   "metadata": {},
   "outputs": [
    {
     "name": "stdout",
     "output_type": "stream",
     "text": [
      "El valor de la estimación es:  0.6666666101779625 \n",
      " El verdadero valor es: 0.6666666666666666\n"
     ]
    }
   ],
   "source": [
    "Cuadratura_Gaussiana(x**2+x/2,-1,1,4)"
   ]
  },
  {
   "cell_type": "markdown",
   "metadata": {},
   "source": [
    "#### Ejercicio propuesto (-1 y 1)"
   ]
  },
  {
   "cell_type": "code",
   "execution_count": 41,
   "metadata": {},
   "outputs": [
    {
     "name": "stdout",
     "output_type": "stream",
     "text": [
      "El valor de la estimación es:  2.3560240477404806 \n",
      " El verdadero valor es: 2.356107660695891\n"
     ]
    }
   ],
   "source": [
    "Cuadratura_Gaussiana(ln(x+3)- x/(x-2),-1,1,4)"
   ]
  }
 ],
 "metadata": {
  "kernelspec": {
   "display_name": "Python 3",
   "language": "python",
   "name": "python3"
  },
  "language_info": {
   "codemirror_mode": {
    "name": "ipython",
    "version": 3
   },
   "file_extension": ".py",
   "mimetype": "text/x-python",
   "name": "python",
   "nbconvert_exporter": "python",
   "pygments_lexer": "ipython3",
   "version": "3.8.3"
  }
 },
 "nbformat": 4,
 "nbformat_minor": 4
}
