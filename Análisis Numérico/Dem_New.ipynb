{
 "cells": [
  {
   "cell_type": "markdown",
   "metadata": {},
   "source": [
    "Autores:\n",
    "1. David Montaño Castro\n",
    "2. Sergio Israel Durán García."
   ]
  },
  {
   "cell_type": "markdown",
   "metadata": {},
   "source": [
    "<h1><center>CASO DE ESTUDIO : ANÁLISIS COMPARATIVO DE LA ESPERANZA DE VIDA Y SOBRE MORTALIDAD MASCULINA POR MEDIO DE POLINOMIOS DE NEWTON</center></h1> "
   ]
  },
  {
   "cell_type": "markdown",
   "metadata": {},
   "source": [
    "### Funciones auxiliares"
   ]
  },
  {
   "cell_type": "markdown",
   "metadata": {},
   "source": [
    "#### Polinomio de Newton"
   ]
  },
  {
   "cell_type": "code",
   "execution_count": 1,
   "metadata": {},
   "outputs": [],
   "source": [
    "M_Dif=function(xi,fxi){\n",
    "  r1=length(xi)\n",
    "  r2=length(fxi)\n",
    "  \n",
    "  if(r1!=r2){\n",
    "    print(\"el metodo no se puede aplicar\")\n",
    "    break\n",
    "  } else {mat=matrix(0,r1,r2)\n",
    "  for (i in 1:r1){\n",
    "    mat[i,1]=fxi[i]\n",
    "  }\n",
    "  for(i in 2:r1){\n",
    "    for (j  in 2:i){\n",
    "      mat[i,j]=(mat[i,(j-1)]-mat[(i-1),(j-1)])/(xi[i]-xi[i-(j-1)])\n",
    "      \n",
    "    }\n",
    "  }\n",
    "  return(mat)}\n",
    "}\n",
    "I_N=function(A,xi,r){\n",
    "  a=dim(A)\n",
    "  a1=a[1]\n",
    "  a2=a[2]\n",
    "  \n",
    "  v=rep(0,a1)\n",
    "  for(i in 2:a1){\n",
    "    prod=1\n",
    "    for(j in 1:(i-1)){\n",
    "      prod=(prod*(r-xi[j]))\n",
    "    }\n",
    "    v[(i-1)]=prod\n",
    "  }\n",
    "  \n",
    "  inter=A[1,1]\n",
    "  for(i in 2:a1){\n",
    "    inter=inter+(A[i,i])*v[(i-1)]\n",
    "    \n",
    "  }\n",
    "  return(inter)\n",
    "}\n"
   ]
  },
  {
   "cell_type": "markdown",
   "metadata": {},
   "source": [
    "### Ajustes previos\n"
   ]
  },
  {
   "cell_type": "code",
   "execution_count": 2,
   "metadata": {},
   "outputs": [
    {
     "name": "stderr",
     "output_type": "stream",
     "text": [
      "Registered S3 methods overwritten by 'ggplot2':\n",
      "  method         from \n",
      "  [.quosures     rlang\n",
      "  c.quosures     rlang\n",
      "  print.quosures rlang\n"
     ]
    }
   ],
   "source": [
    "setwd(\"C:/Users/actda/OneDrive/Documentos/SEMESTRE 2021-2/Análisis Numérico/ProyectoFinal\")\n",
    "options(scipen = 999)\n",
    "library(\"ggplot2\")"
   ]
  },
  {
   "cell_type": "markdown",
   "metadata": {},
   "source": [
    "### Importar datos\n",
    "Toda la información fue consultada en las bases de datos del [INEGI](https://www.inegi.org.mx/)"
   ]
  },
  {
   "cell_type": "code",
   "execution_count": 3,
   "metadata": {},
   "outputs": [],
   "source": [
    "life_ex = read.csv(\"lif_ex.csv\")\n",
    "sobremorta = read.csv(\"Sobremortalidad.csv\")"
   ]
  },
  {
   "cell_type": "markdown",
   "metadata": {},
   "source": [
    "INTRODUCCIÓN\n",
    "---\n",
    " Para la demografía, los métodos numéricos representan una herramienta fundamental, derivado de la dificultad de recopilar con exactitud las estadísticas vitales y todos los parámetros, como son :  años persona vividos y población a edad exacta (x). Estas son estimadas, por ejemplo, usando técnicas vistas en este curso. En este proyecto utilizamos el interpolador de Newton para estimar dos parámetros que reflejan en esencia la esperanza de vida y la sobremortalidad masculina, de acuerdo a nuestros resultados obtenidos, compararemos los valores que el sitio oficial del INEGI registró hasta el año 2019.\n"
   ]
  },
  {
   "cell_type": "markdown",
   "metadata": {},
   "source": [
    "### Objetivo del análisis\n",
    "Elaborar una estimación intervalar por medio de polinomios de Newton para los parámetros de esperanza de vida en hombres (2010-2019) y sobremortalidad masculina (1994-2019) para los años impares."
   ]
  },
  {
   "cell_type": "markdown",
   "metadata": {},
   "source": [
    "### ¿Qué es la esperanza de vida?\n",
    "Según el [INEGI](http://cuentame.inegi.org.mx/poblacion/esperanza.aspx?tema=P;) : Se refiere al número de años que en promedio se espera que viva una persona después de nacer. Una esperanza de vida alta indica un mejor desarrollo económico y social en la población."
   ]
  },
  {
   "cell_type": "markdown",
   "metadata": {},
   "source": [
    "### ¿Qué es la sobre mortalidad?\n",
    "Según el [INEGI](https://www.inegi.org.mx/temas/mortalidad/) : \tDefunciones masculinas por cada 100 femeninas."
   ]
  },
  {
   "cell_type": "markdown",
   "metadata": {},
   "source": [
    "### Estructura de la base de datos _life_ex_\n",
    "__life_ex__ contiene una serie de tiempo anual. Esta está conformada por 2 columnas:\n",
    "1. __anos (años)__ : Registro de años, abarcando del 2010 al 2020.\n",
    "2. __esperanza (Esperanza de vida)__ : La esperanza de vida correspondiente a cada año.\n",
    "\n",
    "__NOTA__ : Las esperanzas de vida son para hombres."
   ]
  },
  {
   "cell_type": "code",
   "execution_count": 4,
   "metadata": {},
   "outputs": [
    {
     "data": {
      "text/html": [
       "<table>\n",
       "<thead><tr><th scope=col>ï..aÃ.os</th><th scope=col>esperanza_vida</th></tr></thead>\n",
       "<tbody>\n",
       "\t<tr><td>2010</td><td>71.6</td></tr>\n",
       "\t<tr><td>2011</td><td>71.8</td></tr>\n",
       "\t<tr><td>2012</td><td>72.0</td></tr>\n",
       "\t<tr><td>2013</td><td>72.1</td></tr>\n",
       "\t<tr><td>2014</td><td>72.1</td></tr>\n",
       "\t<tr><td>2015</td><td>71.9</td></tr>\n",
       "\t<tr><td>2016</td><td>72.0</td></tr>\n",
       "\t<tr><td>2017</td><td>72.0</td></tr>\n",
       "\t<tr><td>2018</td><td>72.2</td></tr>\n",
       "\t<tr><td>2019</td><td>72.2</td></tr>\n",
       "\t<tr><td>2020</td><td>72.4</td></tr>\n",
       "</tbody>\n",
       "</table>\n"
      ],
      "text/latex": [
       "\\begin{tabular}{r|ll}\n",
       " ï..aÃ.os & esperanza\\_vida\\\\\n",
       "\\hline\n",
       "\t 2010 & 71.6\\\\\n",
       "\t 2011 & 71.8\\\\\n",
       "\t 2012 & 72.0\\\\\n",
       "\t 2013 & 72.1\\\\\n",
       "\t 2014 & 72.1\\\\\n",
       "\t 2015 & 71.9\\\\\n",
       "\t 2016 & 72.0\\\\\n",
       "\t 2017 & 72.0\\\\\n",
       "\t 2018 & 72.2\\\\\n",
       "\t 2019 & 72.2\\\\\n",
       "\t 2020 & 72.4\\\\\n",
       "\\end{tabular}\n"
      ],
      "text/markdown": [
       "\n",
       "| ï..aÃ.os | esperanza_vida |\n",
       "|---|---|\n",
       "| 2010 | 71.6 |\n",
       "| 2011 | 71.8 |\n",
       "| 2012 | 72.0 |\n",
       "| 2013 | 72.1 |\n",
       "| 2014 | 72.1 |\n",
       "| 2015 | 71.9 |\n",
       "| 2016 | 72.0 |\n",
       "| 2017 | 72.0 |\n",
       "| 2018 | 72.2 |\n",
       "| 2019 | 72.2 |\n",
       "| 2020 | 72.4 |\n",
       "\n"
      ],
      "text/plain": [
       "   ï..aÃ.os esperanza_vida\n",
       "1  2010     71.6          \n",
       "2  2011     71.8          \n",
       "3  2012     72.0          \n",
       "4  2013     72.1          \n",
       "5  2014     72.1          \n",
       "6  2015     71.9          \n",
       "7  2016     72.0          \n",
       "8  2017     72.0          \n",
       "9  2018     72.2          \n",
       "10 2019     72.2          \n",
       "11 2020     72.4          "
      ]
     },
     "metadata": {},
     "output_type": "display_data"
    }
   ],
   "source": [
    "life_ex"
   ]
  },
  {
   "cell_type": "markdown",
   "metadata": {},
   "source": [
    "Para su análisis, se ha decidido dividirla:\n",
    "1. __life_ex_par__ : Contiene los años pares entre los periodos 2010 y 2020."
   ]
  },
  {
   "cell_type": "code",
   "execution_count": 7,
   "metadata": {},
   "outputs": [
    {
     "data": {
      "text/html": [
       "<table>\n",
       "<thead><tr><th></th><th scope=col>anos</th><th scope=col>esperanza</th></tr></thead>\n",
       "<tbody>\n",
       "\t<tr><th scope=row>1</th><td>2010</td><td>71.6</td></tr>\n",
       "\t<tr><th scope=row>3</th><td>2012</td><td>72.0</td></tr>\n",
       "\t<tr><th scope=row>5</th><td>2014</td><td>72.1</td></tr>\n",
       "\t<tr><th scope=row>7</th><td>2016</td><td>72.0</td></tr>\n",
       "\t<tr><th scope=row>9</th><td>2018</td><td>72.2</td></tr>\n",
       "\t<tr><th scope=row>11</th><td>2020</td><td>72.4</td></tr>\n",
       "</tbody>\n",
       "</table>\n"
      ],
      "text/latex": [
       "\\begin{tabular}{r|ll}\n",
       "  & anos & esperanza\\\\\n",
       "\\hline\n",
       "\t1 & 2010 & 71.6\\\\\n",
       "\t3 & 2012 & 72.0\\\\\n",
       "\t5 & 2014 & 72.1\\\\\n",
       "\t7 & 2016 & 72.0\\\\\n",
       "\t9 & 2018 & 72.2\\\\\n",
       "\t11 & 2020 & 72.4\\\\\n",
       "\\end{tabular}\n"
      ],
      "text/markdown": [
       "\n",
       "| <!--/--> | anos | esperanza |\n",
       "|---|---|---|\n",
       "| 1 | 2010 | 71.6 |\n",
       "| 3 | 2012 | 72.0 |\n",
       "| 5 | 2014 | 72.1 |\n",
       "| 7 | 2016 | 72.0 |\n",
       "| 9 | 2018 | 72.2 |\n",
       "| 11 | 2020 | 72.4 |\n",
       "\n"
      ],
      "text/plain": [
       "   anos esperanza\n",
       "1  2010 71.6     \n",
       "3  2012 72.0     \n",
       "5  2014 72.1     \n",
       "7  2016 72.0     \n",
       "9  2018 72.2     \n",
       "11 2020 72.4     "
      ]
     },
     "metadata": {},
     "output_type": "display_data"
    }
   ],
   "source": [
    "life_ex_par"
   ]
  },
  {
   "cell_type": "markdown",
   "metadata": {},
   "source": [
    "2. __life_ex_impar__: Contiene los años impares entre los periodos 2010 y 2020."
   ]
  },
  {
   "cell_type": "code",
   "execution_count": 8,
   "metadata": {},
   "outputs": [
    {
     "data": {
      "text/html": [
       "<table>\n",
       "<thead><tr><th></th><th scope=col>anos</th><th scope=col>esperanza</th></tr></thead>\n",
       "<tbody>\n",
       "\t<tr><th scope=row>2</th><td>2011</td><td>71.8</td></tr>\n",
       "\t<tr><th scope=row>4</th><td>2013</td><td>72.1</td></tr>\n",
       "\t<tr><th scope=row>6</th><td>2015</td><td>71.9</td></tr>\n",
       "\t<tr><th scope=row>8</th><td>2017</td><td>72.0</td></tr>\n",
       "\t<tr><th scope=row>10</th><td>2019</td><td>72.2</td></tr>\n",
       "</tbody>\n",
       "</table>\n"
      ],
      "text/latex": [
       "\\begin{tabular}{r|ll}\n",
       "  & anos & esperanza\\\\\n",
       "\\hline\n",
       "\t2 & 2011 & 71.8\\\\\n",
       "\t4 & 2013 & 72.1\\\\\n",
       "\t6 & 2015 & 71.9\\\\\n",
       "\t8 & 2017 & 72.0\\\\\n",
       "\t10 & 2019 & 72.2\\\\\n",
       "\\end{tabular}\n"
      ],
      "text/markdown": [
       "\n",
       "| <!--/--> | anos | esperanza |\n",
       "|---|---|---|\n",
       "| 2 | 2011 | 71.8 |\n",
       "| 4 | 2013 | 72.1 |\n",
       "| 6 | 2015 | 71.9 |\n",
       "| 8 | 2017 | 72.0 |\n",
       "| 10 | 2019 | 72.2 |\n",
       "\n"
      ],
      "text/plain": [
       "   anos esperanza\n",
       "2  2011 71.8     \n",
       "4  2013 72.1     \n",
       "6  2015 71.9     \n",
       "8  2017 72.0     \n",
       "10 2019 72.2     "
      ]
     },
     "metadata": {},
     "output_type": "display_data"
    }
   ],
   "source": [
    "life_ex_impar[,c(1,2)]"
   ]
  },
  {
   "cell_type": "markdown",
   "metadata": {},
   "source": [
    "El polinómio se construirá ocupando __life_ex_par__ en aras de poder estimar de manera exitosa los valores de __life_ex_impar__ en vista de que las estimaciones tienen que estar dentro del rango de datos con el que se constituyó el _spline_."
   ]
  },
  {
   "cell_type": "markdown",
   "metadata": {},
   "source": [
    "### Estructura de la base de datos _sobremorta_\n",
    "__sobremorta__ contiene una serie de tiempo anual. Esta está conformada por 2 columnas:\n",
    "1. Ano (años) : Registro de años, abarcando de 1994 al 2019.\n",
    "2. Sobremortalidad (Sobre mortalidad) : La sobre mortalidad correspondiente a cada año.\n",
    "\n",
    "__NOTA__ : La sobre mortalidad siempre es un cálculo específico para hombres."
   ]
  },
  {
   "cell_type": "code",
   "execution_count": null,
   "metadata": {},
   "outputs": [],
   "source": [
    "sobremorta"
   ]
  },
  {
   "cell_type": "markdown",
   "metadata": {},
   "source": [
    "Para su análisis, se ha decidido dividirla:\n",
    "1. __sobremorta_par__ : Contiene los años pares entre los periodos 1994 y 2018"
   ]
  },
  {
   "cell_type": "code",
   "execution_count": null,
   "metadata": {},
   "outputs": [],
   "source": [
    "sobremorta_par"
   ]
  },
  {
   "cell_type": "markdown",
   "metadata": {},
   "source": [
    "2. __sobremorta_impar__: Contiene los años impares entre los periodos 1994 y 2018 "
   ]
  },
  {
   "cell_type": "code",
   "execution_count": null,
   "metadata": {},
   "outputs": [],
   "source": [
    "sobremorta_impar[,c(1,2)]"
   ]
  },
  {
   "cell_type": "markdown",
   "metadata": {},
   "source": [
    "El polinómio se construirá ocupando __sobremorta_par__ en aras de poder estimar de manera exitosa los valores de __sobremorta_impar__ en vista de que las estimaciones tienen que estar dentro del rango de datos con el que se constituyó el _spline_."
   ]
  },
  {
   "cell_type": "markdown",
   "metadata": {},
   "source": [
    "__ESPERANZA DE VIDA PARA HOMBRES__\n",
    "---"
   ]
  },
  {
   "cell_type": "code",
   "execution_count": 6,
   "metadata": {},
   "outputs": [],
   "source": [
    "# Cambiar el nombre de las columnas.\n",
    "colnames(life_ex) = c(\"anos\",\"esperanza\")\n",
    "\n",
    "# Seleccionar años pares.\n",
    "life_ex_par = life_ex[seq(1,11,2),c(1,2)]\n",
    "life_ex_impar = life_ex[seq(2,10,2),c(1,2)]\n",
    "\n",
    "#Implementar modelo de Newton en valores pares.\n",
    "MD_life_ex = M_Dif(life_ex_par$anos,life_ex_par$esperanza)\n",
    "\n",
    "#Calcular cada valor estimado y guardarlo en life_ex_impar como columna\n",
    "estimaciones_life_ex = c()\n",
    "for(i in life_ex_impar$anos){\n",
    "  estimaciones_life_ex = c(estimaciones_life_ex,I_N(MD_life_ex,life_ex_par$anos,i))\n",
    "}\n",
    "\n",
    "#Agregar columna de las estimaciones.\n",
    "life_ex_impar$Estimaciones = estimaciones_life_ex\n",
    "\n",
    "#Agregar columna de error relativo.\n",
    "life_ex_impar$Error_rel = abs(life_ex_impar$esperanza- life_ex_impar$Estimaciones)\n"
   ]
  },
  {
   "cell_type": "markdown",
   "metadata": {},
   "source": [
    "### ¿Qué tan bien puede estimar el polinómio de Newton la esperanza de vida?\n",
    "Los valores estimados son muy simialres a los originales. Las dos estimaciones que menos aproximadas se encuentran corresponden a los años __2015 y 2019__, pues difieren en __0.1390625 y 0.1828125__ unidades respectivamente.   "
   ]
  },
  {
   "cell_type": "code",
   "execution_count": null,
   "metadata": {},
   "outputs": [],
   "source": [
    "life_ex_impar\n",
    "\n",
    "p = ggplot() + geom_line(data = life_ex_impar, aes(x = anos, y = esperanza), size = 1, colour = \"green\") + geom_point(data = life_ex_impar, aes(x = anos, y = esperanza),size = 3, colour = \"orange\") +\n",
    "geom_line(data = life_ex_impar, aes(x = anos, y = Estimaciones), size = 1, colour = \"red\") + geom_point(data = life_ex_impar, aes(x = anos, y = Estimaciones),size = 3, colour = \"orange\") \n",
    "\n",
    "#Imprimer la grafica\n",
    "p + xlab(\"Periodos\") + ylab(\"Esperanza de vida (años)\") + ggtitle(\"Serie de tiempo sobre Esperanza de vida masculina (años)\") + theme(plot.title = element_text(hjust = 0.5))"
   ]
  },
  {
   "cell_type": "markdown",
   "metadata": {},
   "source": [
    "__SOBRE MORTALIDAD PARA HOMBRES__\n",
    "---"
   ]
  },
  {
   "cell_type": "code",
   "execution_count": null,
   "metadata": {},
   "outputs": [],
   "source": [
    "# Seleccionar años pares.\n",
    "sobremorta_par = sobremorta[seq(1,26,2),c(1,2)]\n",
    "sobremorta_impar = sobremorta[seq(2,24,2),c(1,2)]\n",
    "\n",
    "#Implementar modelo de Newton en valores pares.\n",
    "MD_sobremorta = M_Dif(sobremorta_par$Ano,sobremorta_par$Sobremortalidad)\n",
    "\n",
    "#Calcular cada valor estimado y guardarlo en sobremorta_impar como columna\n",
    "estimaciones_sobremorta = c()\n",
    "for(i in sobremorta_impar$Ano){\n",
    "  estimaciones_sobremorta = c(estimaciones_sobremorta,I_N(MD_sobremorta,sobremorta_par$Ano,i))\n",
    "}\n",
    "\n",
    "#Agregar columna de las estimaciones.\n",
    "sobremorta_impar$Estimaciones = estimaciones_sobremorta\n",
    "\n",
    "#Agregar columna de error relativo.\n",
    "sobremorta_impar$Error_rel = abs(sobremorta_impar$Sobremortalidad- sobremorta_impar$Estimaciones)"
   ]
  },
  {
   "cell_type": "markdown",
   "metadata": {},
   "source": [
    "### ¿Qué tan bien puede estimar el polinómio de Newton la sobre mortalidad?\n",
    "Esta estimación presenta mayor variabilidad, teniendo su mayor diferencia en los años __1995 y 2017__ con __5.08 y 3.34__ unidades."
   ]
  },
  {
   "cell_type": "code",
   "execution_count": null,
   "metadata": {},
   "outputs": [],
   "source": [
    "sobremorta_impar\n",
    "\n",
    "p = ggplot() + geom_line(data = sobremorta_impar, aes(x = Ano, y = Sobremortalidad), size = 1, colour = \"green\") + geom_point(data = sobremorta_impar, aes(x = Ano, y = Sobremortalidad),size = 3, colour = \"orange\") +\n",
    "geom_line(data = sobremorta_impar, aes(x = Ano, y = Estimaciones), size = 1, colour = \"red\") + geom_point(data = sobremorta_impar, aes(x = Ano, y = Estimaciones),size = 3, colour = \"orange\") \n",
    "\n",
    "#Imprimer la grafica\n",
    "p + xlab(\"Periodos\") + ylab(\"Sobre mortalidad\") + ggtitle(\"Serie de tiempo sobre Sobre Mortalidad\") + theme(plot.title = element_text(hjust = 0.5))"
   ]
  },
  {
   "cell_type": "markdown",
   "metadata": {},
   "source": [
    "Conclusión\n",
    "---"
   ]
  },
  {
   "cell_type": "markdown",
   "metadata": {},
   "source": [
    "De los datos obtenidos podemos concluir que para el estimador de mortalidad, el sesgo presentado es menor, es decir, nos acercamos con mayor eficacia  a los datos que el INEGI arroja; por otro lado, nuestra estimación en torno a la sobre mortalidad presenta variaciones significativas, pues al provenir de menos nodos y dado su comportamiento caótico que presentan las muertes masculinas fue más difícil para nosotros acercarnos,  en la medida de lo posible, a los valores “reales”."
   ]
  }
 ],
 "metadata": {
  "kernelspec": {
   "display_name": "R",
   "language": "R",
   "name": "ir"
  },
  "language_info": {
   "codemirror_mode": "r",
   "file_extension": ".r",
   "mimetype": "text/x-r-source",
   "name": "R",
   "pygments_lexer": "r",
   "version": "3.6.1"
  }
 },
 "nbformat": 4,
 "nbformat_minor": 4
}
