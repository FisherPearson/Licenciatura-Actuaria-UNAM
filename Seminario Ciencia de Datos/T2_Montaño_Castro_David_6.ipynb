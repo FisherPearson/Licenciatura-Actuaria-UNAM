{
 "cells": [
  {
   "cell_type": "markdown",
   "metadata": {},
   "source": [
    "<h1><center> CORREOS SPAM: MODELO LOGÍSTICO </center></h1>\n",
    "\n",
    "__Autor__:\n",
    "\n",
    "1. David Montaño Castro.\n",
    "\n",
    "Clasificar por medio de una regresión logística si un correo es spam o no."
   ]
  },
  {
   "cell_type": "markdown",
   "metadata": {},
   "source": [
    "Paqueterías\n",
    "---"
   ]
  },
  {
   "cell_type": "code",
   "execution_count": 1,
   "metadata": {},
   "outputs": [],
   "source": [
    "### Pre procesing\n",
    "import pandas as pd\n",
    "import numpy as np\n",
    "\n",
    "### Visualization\n",
    "import matplotlib.pyplot as plt\n",
    "import seaborn as sns\n",
    "\n",
    "### Modeling\n",
    "from sklearn import metrics\n",
    "from sklearn import preprocessing\n",
    "from sklearn.linear_model import LogisticRegression\n",
    "from sklearn.metrics import mean_absolute_error, accuracy_score\n",
    "from sklearn.metrics import classification_report\n",
    "from sklearn.metrics import plot_confusion_matrix\n",
    "from sklearn.model_selection import train_test_split\n",
    "from sklearn.metrics import confusion_matrix\n",
    "from sklearn.metrics import roc_auc_score\n",
    "\n",
    "# Adjustments\n",
    "%matplotlib inline\n",
    "plt.rcParams['figure.figsize'] = (10, 10)\n",
    "pd.set_option('display.max_columns', 90)"
   ]
  },
  {
   "cell_type": "markdown",
   "metadata": {},
   "source": [
    "Importar datos\n",
    "---"
   ]
  },
  {
   "cell_type": "code",
   "execution_count": 2,
   "metadata": {},
   "outputs": [
    {
     "data": {
      "text/html": [
       "<div>\n",
       "<style scoped>\n",
       "    .dataframe tbody tr th:only-of-type {\n",
       "        vertical-align: middle;\n",
       "    }\n",
       "\n",
       "    .dataframe tbody tr th {\n",
       "        vertical-align: top;\n",
       "    }\n",
       "\n",
       "    .dataframe thead th {\n",
       "        text-align: right;\n",
       "    }\n",
       "</style>\n",
       "<table border=\"1\" class=\"dataframe\">\n",
       "  <thead>\n",
       "    <tr style=\"text-align: right;\">\n",
       "      <th></th>\n",
       "      <th>word_freq_make</th>\n",
       "      <th>word_freq_address</th>\n",
       "      <th>word_freq_all</th>\n",
       "      <th>word_freq_3d</th>\n",
       "      <th>word_freq_our</th>\n",
       "      <th>word_freq_over</th>\n",
       "      <th>word_freq_remove</th>\n",
       "      <th>word_freq_internet</th>\n",
       "      <th>word_freq_order</th>\n",
       "      <th>word_freq_mail</th>\n",
       "      <th>word_freq_receive</th>\n",
       "      <th>word_freq_will</th>\n",
       "      <th>word_freq_people</th>\n",
       "      <th>word_freq_report</th>\n",
       "      <th>word_freq_addresses</th>\n",
       "      <th>word_freq_free</th>\n",
       "      <th>word_freq_business</th>\n",
       "      <th>word_freq_email</th>\n",
       "      <th>word_freq_you</th>\n",
       "      <th>word_freq_credit</th>\n",
       "      <th>word_freq_your</th>\n",
       "      <th>word_freq_font</th>\n",
       "      <th>word_freq_000</th>\n",
       "      <th>word_freq_money</th>\n",
       "      <th>word_freq_hp</th>\n",
       "      <th>word_freq_hpl</th>\n",
       "      <th>word_freq_george</th>\n",
       "      <th>word_freq_650</th>\n",
       "      <th>word_freq_lab</th>\n",
       "      <th>word_freq_labs</th>\n",
       "      <th>word_freq_telnet</th>\n",
       "      <th>word_freq_857</th>\n",
       "      <th>word_freq_data</th>\n",
       "      <th>word_freq_415</th>\n",
       "      <th>word_freq_85</th>\n",
       "      <th>word_freq_technology</th>\n",
       "      <th>word_freq_1999</th>\n",
       "      <th>word_freq_parts</th>\n",
       "      <th>word_freq_pm</th>\n",
       "      <th>word_freq_direct</th>\n",
       "      <th>word_freq_cs</th>\n",
       "      <th>word_freq_meeting</th>\n",
       "      <th>word_freq_original</th>\n",
       "      <th>word_freq_project</th>\n",
       "      <th>word_freq_re</th>\n",
       "      <th>word_freq_edu</th>\n",
       "      <th>word_freq_table</th>\n",
       "      <th>word_freq_conference</th>\n",
       "      <th>char_freq_;</th>\n",
       "      <th>char_freq_(</th>\n",
       "      <th>char_freq_[</th>\n",
       "      <th>char_freq_!</th>\n",
       "      <th>char_freq_$</th>\n",
       "      <th>char_freq_#</th>\n",
       "      <th>capital_run_length_average</th>\n",
       "      <th>capital_run_length_longest</th>\n",
       "      <th>capital_run_length_total</th>\n",
       "      <th>spam</th>\n",
       "    </tr>\n",
       "  </thead>\n",
       "  <tbody>\n",
       "    <tr>\n",
       "      <th>0</th>\n",
       "      <td>0.00</td>\n",
       "      <td>0.64</td>\n",
       "      <td>0.64</td>\n",
       "      <td>0.0</td>\n",
       "      <td>0.32</td>\n",
       "      <td>0.00</td>\n",
       "      <td>0.00</td>\n",
       "      <td>0.00</td>\n",
       "      <td>0.00</td>\n",
       "      <td>0.00</td>\n",
       "      <td>0.00</td>\n",
       "      <td>0.64</td>\n",
       "      <td>0.00</td>\n",
       "      <td>0.00</td>\n",
       "      <td>0.00</td>\n",
       "      <td>0.32</td>\n",
       "      <td>0.00</td>\n",
       "      <td>1.29</td>\n",
       "      <td>1.93</td>\n",
       "      <td>0.00</td>\n",
       "      <td>0.96</td>\n",
       "      <td>0.0</td>\n",
       "      <td>0.00</td>\n",
       "      <td>0.00</td>\n",
       "      <td>0.0</td>\n",
       "      <td>0.0</td>\n",
       "      <td>0.0</td>\n",
       "      <td>0.0</td>\n",
       "      <td>0.0</td>\n",
       "      <td>0.0</td>\n",
       "      <td>0.0</td>\n",
       "      <td>0.0</td>\n",
       "      <td>0.0</td>\n",
       "      <td>0.0</td>\n",
       "      <td>0.0</td>\n",
       "      <td>0.0</td>\n",
       "      <td>0.00</td>\n",
       "      <td>0.0</td>\n",
       "      <td>0.0</td>\n",
       "      <td>0.00</td>\n",
       "      <td>0.0</td>\n",
       "      <td>0.0</td>\n",
       "      <td>0.00</td>\n",
       "      <td>0.00</td>\n",
       "      <td>0.00</td>\n",
       "      <td>0.00</td>\n",
       "      <td>0.0</td>\n",
       "      <td>0.0</td>\n",
       "      <td>0.000</td>\n",
       "      <td>0.000</td>\n",
       "      <td>0.0</td>\n",
       "      <td>0.778</td>\n",
       "      <td>0.000</td>\n",
       "      <td>0.000</td>\n",
       "      <td>3.756</td>\n",
       "      <td>61</td>\n",
       "      <td>278</td>\n",
       "      <td>1</td>\n",
       "    </tr>\n",
       "    <tr>\n",
       "      <th>1</th>\n",
       "      <td>0.21</td>\n",
       "      <td>0.28</td>\n",
       "      <td>0.50</td>\n",
       "      <td>0.0</td>\n",
       "      <td>0.14</td>\n",
       "      <td>0.28</td>\n",
       "      <td>0.21</td>\n",
       "      <td>0.07</td>\n",
       "      <td>0.00</td>\n",
       "      <td>0.94</td>\n",
       "      <td>0.21</td>\n",
       "      <td>0.79</td>\n",
       "      <td>0.65</td>\n",
       "      <td>0.21</td>\n",
       "      <td>0.14</td>\n",
       "      <td>0.14</td>\n",
       "      <td>0.07</td>\n",
       "      <td>0.28</td>\n",
       "      <td>3.47</td>\n",
       "      <td>0.00</td>\n",
       "      <td>1.59</td>\n",
       "      <td>0.0</td>\n",
       "      <td>0.43</td>\n",
       "      <td>0.43</td>\n",
       "      <td>0.0</td>\n",
       "      <td>0.0</td>\n",
       "      <td>0.0</td>\n",
       "      <td>0.0</td>\n",
       "      <td>0.0</td>\n",
       "      <td>0.0</td>\n",
       "      <td>0.0</td>\n",
       "      <td>0.0</td>\n",
       "      <td>0.0</td>\n",
       "      <td>0.0</td>\n",
       "      <td>0.0</td>\n",
       "      <td>0.0</td>\n",
       "      <td>0.07</td>\n",
       "      <td>0.0</td>\n",
       "      <td>0.0</td>\n",
       "      <td>0.00</td>\n",
       "      <td>0.0</td>\n",
       "      <td>0.0</td>\n",
       "      <td>0.00</td>\n",
       "      <td>0.00</td>\n",
       "      <td>0.00</td>\n",
       "      <td>0.00</td>\n",
       "      <td>0.0</td>\n",
       "      <td>0.0</td>\n",
       "      <td>0.000</td>\n",
       "      <td>0.132</td>\n",
       "      <td>0.0</td>\n",
       "      <td>0.372</td>\n",
       "      <td>0.180</td>\n",
       "      <td>0.048</td>\n",
       "      <td>5.114</td>\n",
       "      <td>101</td>\n",
       "      <td>1028</td>\n",
       "      <td>1</td>\n",
       "    </tr>\n",
       "    <tr>\n",
       "      <th>2</th>\n",
       "      <td>0.06</td>\n",
       "      <td>0.00</td>\n",
       "      <td>0.71</td>\n",
       "      <td>0.0</td>\n",
       "      <td>1.23</td>\n",
       "      <td>0.19</td>\n",
       "      <td>0.19</td>\n",
       "      <td>0.12</td>\n",
       "      <td>0.64</td>\n",
       "      <td>0.25</td>\n",
       "      <td>0.38</td>\n",
       "      <td>0.45</td>\n",
       "      <td>0.12</td>\n",
       "      <td>0.00</td>\n",
       "      <td>1.75</td>\n",
       "      <td>0.06</td>\n",
       "      <td>0.06</td>\n",
       "      <td>1.03</td>\n",
       "      <td>1.36</td>\n",
       "      <td>0.32</td>\n",
       "      <td>0.51</td>\n",
       "      <td>0.0</td>\n",
       "      <td>1.16</td>\n",
       "      <td>0.06</td>\n",
       "      <td>0.0</td>\n",
       "      <td>0.0</td>\n",
       "      <td>0.0</td>\n",
       "      <td>0.0</td>\n",
       "      <td>0.0</td>\n",
       "      <td>0.0</td>\n",
       "      <td>0.0</td>\n",
       "      <td>0.0</td>\n",
       "      <td>0.0</td>\n",
       "      <td>0.0</td>\n",
       "      <td>0.0</td>\n",
       "      <td>0.0</td>\n",
       "      <td>0.00</td>\n",
       "      <td>0.0</td>\n",
       "      <td>0.0</td>\n",
       "      <td>0.06</td>\n",
       "      <td>0.0</td>\n",
       "      <td>0.0</td>\n",
       "      <td>0.12</td>\n",
       "      <td>0.00</td>\n",
       "      <td>0.06</td>\n",
       "      <td>0.06</td>\n",
       "      <td>0.0</td>\n",
       "      <td>0.0</td>\n",
       "      <td>0.010</td>\n",
       "      <td>0.143</td>\n",
       "      <td>0.0</td>\n",
       "      <td>0.276</td>\n",
       "      <td>0.184</td>\n",
       "      <td>0.010</td>\n",
       "      <td>9.821</td>\n",
       "      <td>485</td>\n",
       "      <td>2259</td>\n",
       "      <td>1</td>\n",
       "    </tr>\n",
       "    <tr>\n",
       "      <th>3</th>\n",
       "      <td>0.00</td>\n",
       "      <td>0.00</td>\n",
       "      <td>0.00</td>\n",
       "      <td>0.0</td>\n",
       "      <td>0.63</td>\n",
       "      <td>0.00</td>\n",
       "      <td>0.31</td>\n",
       "      <td>0.63</td>\n",
       "      <td>0.31</td>\n",
       "      <td>0.63</td>\n",
       "      <td>0.31</td>\n",
       "      <td>0.31</td>\n",
       "      <td>0.31</td>\n",
       "      <td>0.00</td>\n",
       "      <td>0.00</td>\n",
       "      <td>0.31</td>\n",
       "      <td>0.00</td>\n",
       "      <td>0.00</td>\n",
       "      <td>3.18</td>\n",
       "      <td>0.00</td>\n",
       "      <td>0.31</td>\n",
       "      <td>0.0</td>\n",
       "      <td>0.00</td>\n",
       "      <td>0.00</td>\n",
       "      <td>0.0</td>\n",
       "      <td>0.0</td>\n",
       "      <td>0.0</td>\n",
       "      <td>0.0</td>\n",
       "      <td>0.0</td>\n",
       "      <td>0.0</td>\n",
       "      <td>0.0</td>\n",
       "      <td>0.0</td>\n",
       "      <td>0.0</td>\n",
       "      <td>0.0</td>\n",
       "      <td>0.0</td>\n",
       "      <td>0.0</td>\n",
       "      <td>0.00</td>\n",
       "      <td>0.0</td>\n",
       "      <td>0.0</td>\n",
       "      <td>0.00</td>\n",
       "      <td>0.0</td>\n",
       "      <td>0.0</td>\n",
       "      <td>0.00</td>\n",
       "      <td>0.00</td>\n",
       "      <td>0.00</td>\n",
       "      <td>0.00</td>\n",
       "      <td>0.0</td>\n",
       "      <td>0.0</td>\n",
       "      <td>0.000</td>\n",
       "      <td>0.137</td>\n",
       "      <td>0.0</td>\n",
       "      <td>0.137</td>\n",
       "      <td>0.000</td>\n",
       "      <td>0.000</td>\n",
       "      <td>3.537</td>\n",
       "      <td>40</td>\n",
       "      <td>191</td>\n",
       "      <td>1</td>\n",
       "    </tr>\n",
       "    <tr>\n",
       "      <th>4</th>\n",
       "      <td>0.00</td>\n",
       "      <td>0.00</td>\n",
       "      <td>0.00</td>\n",
       "      <td>0.0</td>\n",
       "      <td>0.63</td>\n",
       "      <td>0.00</td>\n",
       "      <td>0.31</td>\n",
       "      <td>0.63</td>\n",
       "      <td>0.31</td>\n",
       "      <td>0.63</td>\n",
       "      <td>0.31</td>\n",
       "      <td>0.31</td>\n",
       "      <td>0.31</td>\n",
       "      <td>0.00</td>\n",
       "      <td>0.00</td>\n",
       "      <td>0.31</td>\n",
       "      <td>0.00</td>\n",
       "      <td>0.00</td>\n",
       "      <td>3.18</td>\n",
       "      <td>0.00</td>\n",
       "      <td>0.31</td>\n",
       "      <td>0.0</td>\n",
       "      <td>0.00</td>\n",
       "      <td>0.00</td>\n",
       "      <td>0.0</td>\n",
       "      <td>0.0</td>\n",
       "      <td>0.0</td>\n",
       "      <td>0.0</td>\n",
       "      <td>0.0</td>\n",
       "      <td>0.0</td>\n",
       "      <td>0.0</td>\n",
       "      <td>0.0</td>\n",
       "      <td>0.0</td>\n",
       "      <td>0.0</td>\n",
       "      <td>0.0</td>\n",
       "      <td>0.0</td>\n",
       "      <td>0.00</td>\n",
       "      <td>0.0</td>\n",
       "      <td>0.0</td>\n",
       "      <td>0.00</td>\n",
       "      <td>0.0</td>\n",
       "      <td>0.0</td>\n",
       "      <td>0.00</td>\n",
       "      <td>0.00</td>\n",
       "      <td>0.00</td>\n",
       "      <td>0.00</td>\n",
       "      <td>0.0</td>\n",
       "      <td>0.0</td>\n",
       "      <td>0.000</td>\n",
       "      <td>0.135</td>\n",
       "      <td>0.0</td>\n",
       "      <td>0.135</td>\n",
       "      <td>0.000</td>\n",
       "      <td>0.000</td>\n",
       "      <td>3.537</td>\n",
       "      <td>40</td>\n",
       "      <td>191</td>\n",
       "      <td>1</td>\n",
       "    </tr>\n",
       "    <tr>\n",
       "      <th>...</th>\n",
       "      <td>...</td>\n",
       "      <td>...</td>\n",
       "      <td>...</td>\n",
       "      <td>...</td>\n",
       "      <td>...</td>\n",
       "      <td>...</td>\n",
       "      <td>...</td>\n",
       "      <td>...</td>\n",
       "      <td>...</td>\n",
       "      <td>...</td>\n",
       "      <td>...</td>\n",
       "      <td>...</td>\n",
       "      <td>...</td>\n",
       "      <td>...</td>\n",
       "      <td>...</td>\n",
       "      <td>...</td>\n",
       "      <td>...</td>\n",
       "      <td>...</td>\n",
       "      <td>...</td>\n",
       "      <td>...</td>\n",
       "      <td>...</td>\n",
       "      <td>...</td>\n",
       "      <td>...</td>\n",
       "      <td>...</td>\n",
       "      <td>...</td>\n",
       "      <td>...</td>\n",
       "      <td>...</td>\n",
       "      <td>...</td>\n",
       "      <td>...</td>\n",
       "      <td>...</td>\n",
       "      <td>...</td>\n",
       "      <td>...</td>\n",
       "      <td>...</td>\n",
       "      <td>...</td>\n",
       "      <td>...</td>\n",
       "      <td>...</td>\n",
       "      <td>...</td>\n",
       "      <td>...</td>\n",
       "      <td>...</td>\n",
       "      <td>...</td>\n",
       "      <td>...</td>\n",
       "      <td>...</td>\n",
       "      <td>...</td>\n",
       "      <td>...</td>\n",
       "      <td>...</td>\n",
       "      <td>...</td>\n",
       "      <td>...</td>\n",
       "      <td>...</td>\n",
       "      <td>...</td>\n",
       "      <td>...</td>\n",
       "      <td>...</td>\n",
       "      <td>...</td>\n",
       "      <td>...</td>\n",
       "      <td>...</td>\n",
       "      <td>...</td>\n",
       "      <td>...</td>\n",
       "      <td>...</td>\n",
       "      <td>...</td>\n",
       "    </tr>\n",
       "    <tr>\n",
       "      <th>4596</th>\n",
       "      <td>0.31</td>\n",
       "      <td>0.00</td>\n",
       "      <td>0.62</td>\n",
       "      <td>0.0</td>\n",
       "      <td>0.00</td>\n",
       "      <td>0.31</td>\n",
       "      <td>0.00</td>\n",
       "      <td>0.00</td>\n",
       "      <td>0.00</td>\n",
       "      <td>0.00</td>\n",
       "      <td>0.00</td>\n",
       "      <td>1.88</td>\n",
       "      <td>0.00</td>\n",
       "      <td>0.00</td>\n",
       "      <td>0.00</td>\n",
       "      <td>0.00</td>\n",
       "      <td>0.00</td>\n",
       "      <td>0.00</td>\n",
       "      <td>0.62</td>\n",
       "      <td>0.00</td>\n",
       "      <td>0.00</td>\n",
       "      <td>0.0</td>\n",
       "      <td>0.00</td>\n",
       "      <td>0.00</td>\n",
       "      <td>0.0</td>\n",
       "      <td>0.0</td>\n",
       "      <td>0.0</td>\n",
       "      <td>0.0</td>\n",
       "      <td>0.0</td>\n",
       "      <td>0.0</td>\n",
       "      <td>0.0</td>\n",
       "      <td>0.0</td>\n",
       "      <td>0.0</td>\n",
       "      <td>0.0</td>\n",
       "      <td>0.0</td>\n",
       "      <td>0.0</td>\n",
       "      <td>0.00</td>\n",
       "      <td>0.0</td>\n",
       "      <td>0.0</td>\n",
       "      <td>0.00</td>\n",
       "      <td>0.0</td>\n",
       "      <td>0.0</td>\n",
       "      <td>0.00</td>\n",
       "      <td>0.31</td>\n",
       "      <td>0.31</td>\n",
       "      <td>0.31</td>\n",
       "      <td>0.0</td>\n",
       "      <td>0.0</td>\n",
       "      <td>0.000</td>\n",
       "      <td>0.232</td>\n",
       "      <td>0.0</td>\n",
       "      <td>0.000</td>\n",
       "      <td>0.000</td>\n",
       "      <td>0.000</td>\n",
       "      <td>1.142</td>\n",
       "      <td>3</td>\n",
       "      <td>88</td>\n",
       "      <td>0</td>\n",
       "    </tr>\n",
       "    <tr>\n",
       "      <th>4597</th>\n",
       "      <td>0.00</td>\n",
       "      <td>0.00</td>\n",
       "      <td>0.00</td>\n",
       "      <td>0.0</td>\n",
       "      <td>0.00</td>\n",
       "      <td>0.00</td>\n",
       "      <td>0.00</td>\n",
       "      <td>0.00</td>\n",
       "      <td>0.00</td>\n",
       "      <td>0.00</td>\n",
       "      <td>0.00</td>\n",
       "      <td>0.00</td>\n",
       "      <td>0.00</td>\n",
       "      <td>0.00</td>\n",
       "      <td>0.00</td>\n",
       "      <td>0.00</td>\n",
       "      <td>0.00</td>\n",
       "      <td>0.00</td>\n",
       "      <td>6.00</td>\n",
       "      <td>0.00</td>\n",
       "      <td>2.00</td>\n",
       "      <td>0.0</td>\n",
       "      <td>0.00</td>\n",
       "      <td>0.00</td>\n",
       "      <td>0.0</td>\n",
       "      <td>0.0</td>\n",
       "      <td>0.0</td>\n",
       "      <td>0.0</td>\n",
       "      <td>0.0</td>\n",
       "      <td>0.0</td>\n",
       "      <td>0.0</td>\n",
       "      <td>0.0</td>\n",
       "      <td>0.0</td>\n",
       "      <td>0.0</td>\n",
       "      <td>0.0</td>\n",
       "      <td>0.0</td>\n",
       "      <td>0.00</td>\n",
       "      <td>0.0</td>\n",
       "      <td>0.0</td>\n",
       "      <td>0.00</td>\n",
       "      <td>0.0</td>\n",
       "      <td>0.0</td>\n",
       "      <td>0.00</td>\n",
       "      <td>0.00</td>\n",
       "      <td>0.00</td>\n",
       "      <td>2.00</td>\n",
       "      <td>0.0</td>\n",
       "      <td>0.0</td>\n",
       "      <td>0.000</td>\n",
       "      <td>0.000</td>\n",
       "      <td>0.0</td>\n",
       "      <td>0.353</td>\n",
       "      <td>0.000</td>\n",
       "      <td>0.000</td>\n",
       "      <td>1.555</td>\n",
       "      <td>4</td>\n",
       "      <td>14</td>\n",
       "      <td>0</td>\n",
       "    </tr>\n",
       "    <tr>\n",
       "      <th>4598</th>\n",
       "      <td>0.30</td>\n",
       "      <td>0.00</td>\n",
       "      <td>0.30</td>\n",
       "      <td>0.0</td>\n",
       "      <td>0.00</td>\n",
       "      <td>0.00</td>\n",
       "      <td>0.00</td>\n",
       "      <td>0.00</td>\n",
       "      <td>0.00</td>\n",
       "      <td>0.00</td>\n",
       "      <td>0.00</td>\n",
       "      <td>1.80</td>\n",
       "      <td>0.30</td>\n",
       "      <td>0.00</td>\n",
       "      <td>0.00</td>\n",
       "      <td>0.00</td>\n",
       "      <td>0.00</td>\n",
       "      <td>0.90</td>\n",
       "      <td>1.50</td>\n",
       "      <td>0.00</td>\n",
       "      <td>0.30</td>\n",
       "      <td>0.0</td>\n",
       "      <td>0.00</td>\n",
       "      <td>0.00</td>\n",
       "      <td>0.0</td>\n",
       "      <td>0.0</td>\n",
       "      <td>0.0</td>\n",
       "      <td>0.0</td>\n",
       "      <td>0.0</td>\n",
       "      <td>0.0</td>\n",
       "      <td>0.0</td>\n",
       "      <td>0.0</td>\n",
       "      <td>0.0</td>\n",
       "      <td>0.0</td>\n",
       "      <td>0.0</td>\n",
       "      <td>0.0</td>\n",
       "      <td>0.00</td>\n",
       "      <td>0.0</td>\n",
       "      <td>0.0</td>\n",
       "      <td>0.00</td>\n",
       "      <td>0.0</td>\n",
       "      <td>0.0</td>\n",
       "      <td>0.00</td>\n",
       "      <td>0.00</td>\n",
       "      <td>0.00</td>\n",
       "      <td>1.20</td>\n",
       "      <td>0.0</td>\n",
       "      <td>0.0</td>\n",
       "      <td>0.102</td>\n",
       "      <td>0.718</td>\n",
       "      <td>0.0</td>\n",
       "      <td>0.000</td>\n",
       "      <td>0.000</td>\n",
       "      <td>0.000</td>\n",
       "      <td>1.404</td>\n",
       "      <td>6</td>\n",
       "      <td>118</td>\n",
       "      <td>0</td>\n",
       "    </tr>\n",
       "    <tr>\n",
       "      <th>4599</th>\n",
       "      <td>0.96</td>\n",
       "      <td>0.00</td>\n",
       "      <td>0.00</td>\n",
       "      <td>0.0</td>\n",
       "      <td>0.32</td>\n",
       "      <td>0.00</td>\n",
       "      <td>0.00</td>\n",
       "      <td>0.00</td>\n",
       "      <td>0.00</td>\n",
       "      <td>0.00</td>\n",
       "      <td>0.00</td>\n",
       "      <td>0.32</td>\n",
       "      <td>0.00</td>\n",
       "      <td>0.00</td>\n",
       "      <td>0.00</td>\n",
       "      <td>0.00</td>\n",
       "      <td>0.00</td>\n",
       "      <td>0.00</td>\n",
       "      <td>1.93</td>\n",
       "      <td>0.00</td>\n",
       "      <td>0.32</td>\n",
       "      <td>0.0</td>\n",
       "      <td>0.00</td>\n",
       "      <td>0.00</td>\n",
       "      <td>0.0</td>\n",
       "      <td>0.0</td>\n",
       "      <td>0.0</td>\n",
       "      <td>0.0</td>\n",
       "      <td>0.0</td>\n",
       "      <td>0.0</td>\n",
       "      <td>0.0</td>\n",
       "      <td>0.0</td>\n",
       "      <td>0.0</td>\n",
       "      <td>0.0</td>\n",
       "      <td>0.0</td>\n",
       "      <td>0.0</td>\n",
       "      <td>0.00</td>\n",
       "      <td>0.0</td>\n",
       "      <td>0.0</td>\n",
       "      <td>0.00</td>\n",
       "      <td>0.0</td>\n",
       "      <td>0.0</td>\n",
       "      <td>0.00</td>\n",
       "      <td>0.32</td>\n",
       "      <td>0.00</td>\n",
       "      <td>0.32</td>\n",
       "      <td>0.0</td>\n",
       "      <td>0.0</td>\n",
       "      <td>0.000</td>\n",
       "      <td>0.057</td>\n",
       "      <td>0.0</td>\n",
       "      <td>0.000</td>\n",
       "      <td>0.000</td>\n",
       "      <td>0.000</td>\n",
       "      <td>1.147</td>\n",
       "      <td>5</td>\n",
       "      <td>78</td>\n",
       "      <td>0</td>\n",
       "    </tr>\n",
       "    <tr>\n",
       "      <th>4600</th>\n",
       "      <td>0.00</td>\n",
       "      <td>0.00</td>\n",
       "      <td>0.65</td>\n",
       "      <td>0.0</td>\n",
       "      <td>0.00</td>\n",
       "      <td>0.00</td>\n",
       "      <td>0.00</td>\n",
       "      <td>0.00</td>\n",
       "      <td>0.00</td>\n",
       "      <td>0.00</td>\n",
       "      <td>0.00</td>\n",
       "      <td>0.00</td>\n",
       "      <td>0.65</td>\n",
       "      <td>0.00</td>\n",
       "      <td>0.00</td>\n",
       "      <td>0.00</td>\n",
       "      <td>0.00</td>\n",
       "      <td>0.00</td>\n",
       "      <td>4.60</td>\n",
       "      <td>0.00</td>\n",
       "      <td>0.65</td>\n",
       "      <td>0.0</td>\n",
       "      <td>0.00</td>\n",
       "      <td>0.00</td>\n",
       "      <td>0.0</td>\n",
       "      <td>0.0</td>\n",
       "      <td>0.0</td>\n",
       "      <td>0.0</td>\n",
       "      <td>0.0</td>\n",
       "      <td>0.0</td>\n",
       "      <td>0.0</td>\n",
       "      <td>0.0</td>\n",
       "      <td>0.0</td>\n",
       "      <td>0.0</td>\n",
       "      <td>0.0</td>\n",
       "      <td>0.0</td>\n",
       "      <td>0.00</td>\n",
       "      <td>0.0</td>\n",
       "      <td>0.0</td>\n",
       "      <td>0.00</td>\n",
       "      <td>0.0</td>\n",
       "      <td>0.0</td>\n",
       "      <td>0.00</td>\n",
       "      <td>0.00</td>\n",
       "      <td>1.97</td>\n",
       "      <td>0.65</td>\n",
       "      <td>0.0</td>\n",
       "      <td>0.0</td>\n",
       "      <td>0.000</td>\n",
       "      <td>0.000</td>\n",
       "      <td>0.0</td>\n",
       "      <td>0.125</td>\n",
       "      <td>0.000</td>\n",
       "      <td>0.000</td>\n",
       "      <td>1.250</td>\n",
       "      <td>5</td>\n",
       "      <td>40</td>\n",
       "      <td>0</td>\n",
       "    </tr>\n",
       "  </tbody>\n",
       "</table>\n",
       "<p>4601 rows × 58 columns</p>\n",
       "</div>"
      ],
      "text/plain": [
       "      word_freq_make  word_freq_address  word_freq_all  word_freq_3d  \\\n",
       "0               0.00               0.64           0.64           0.0   \n",
       "1               0.21               0.28           0.50           0.0   \n",
       "2               0.06               0.00           0.71           0.0   \n",
       "3               0.00               0.00           0.00           0.0   \n",
       "4               0.00               0.00           0.00           0.0   \n",
       "...              ...                ...            ...           ...   \n",
       "4596            0.31               0.00           0.62           0.0   \n",
       "4597            0.00               0.00           0.00           0.0   \n",
       "4598            0.30               0.00           0.30           0.0   \n",
       "4599            0.96               0.00           0.00           0.0   \n",
       "4600            0.00               0.00           0.65           0.0   \n",
       "\n",
       "      word_freq_our  word_freq_over  word_freq_remove  word_freq_internet  \\\n",
       "0              0.32            0.00              0.00                0.00   \n",
       "1              0.14            0.28              0.21                0.07   \n",
       "2              1.23            0.19              0.19                0.12   \n",
       "3              0.63            0.00              0.31                0.63   \n",
       "4              0.63            0.00              0.31                0.63   \n",
       "...             ...             ...               ...                 ...   \n",
       "4596           0.00            0.31              0.00                0.00   \n",
       "4597           0.00            0.00              0.00                0.00   \n",
       "4598           0.00            0.00              0.00                0.00   \n",
       "4599           0.32            0.00              0.00                0.00   \n",
       "4600           0.00            0.00              0.00                0.00   \n",
       "\n",
       "      word_freq_order  word_freq_mail  word_freq_receive  word_freq_will  \\\n",
       "0                0.00            0.00               0.00            0.64   \n",
       "1                0.00            0.94               0.21            0.79   \n",
       "2                0.64            0.25               0.38            0.45   \n",
       "3                0.31            0.63               0.31            0.31   \n",
       "4                0.31            0.63               0.31            0.31   \n",
       "...               ...             ...                ...             ...   \n",
       "4596             0.00            0.00               0.00            1.88   \n",
       "4597             0.00            0.00               0.00            0.00   \n",
       "4598             0.00            0.00               0.00            1.80   \n",
       "4599             0.00            0.00               0.00            0.32   \n",
       "4600             0.00            0.00               0.00            0.00   \n",
       "\n",
       "      word_freq_people  word_freq_report  word_freq_addresses  word_freq_free  \\\n",
       "0                 0.00              0.00                 0.00            0.32   \n",
       "1                 0.65              0.21                 0.14            0.14   \n",
       "2                 0.12              0.00                 1.75            0.06   \n",
       "3                 0.31              0.00                 0.00            0.31   \n",
       "4                 0.31              0.00                 0.00            0.31   \n",
       "...                ...               ...                  ...             ...   \n",
       "4596              0.00              0.00                 0.00            0.00   \n",
       "4597              0.00              0.00                 0.00            0.00   \n",
       "4598              0.30              0.00                 0.00            0.00   \n",
       "4599              0.00              0.00                 0.00            0.00   \n",
       "4600              0.65              0.00                 0.00            0.00   \n",
       "\n",
       "      word_freq_business  word_freq_email  word_freq_you  word_freq_credit  \\\n",
       "0                   0.00             1.29           1.93              0.00   \n",
       "1                   0.07             0.28           3.47              0.00   \n",
       "2                   0.06             1.03           1.36              0.32   \n",
       "3                   0.00             0.00           3.18              0.00   \n",
       "4                   0.00             0.00           3.18              0.00   \n",
       "...                  ...              ...            ...               ...   \n",
       "4596                0.00             0.00           0.62              0.00   \n",
       "4597                0.00             0.00           6.00              0.00   \n",
       "4598                0.00             0.90           1.50              0.00   \n",
       "4599                0.00             0.00           1.93              0.00   \n",
       "4600                0.00             0.00           4.60              0.00   \n",
       "\n",
       "      word_freq_your  word_freq_font  word_freq_000  word_freq_money  \\\n",
       "0               0.96             0.0           0.00             0.00   \n",
       "1               1.59             0.0           0.43             0.43   \n",
       "2               0.51             0.0           1.16             0.06   \n",
       "3               0.31             0.0           0.00             0.00   \n",
       "4               0.31             0.0           0.00             0.00   \n",
       "...              ...             ...            ...              ...   \n",
       "4596            0.00             0.0           0.00             0.00   \n",
       "4597            2.00             0.0           0.00             0.00   \n",
       "4598            0.30             0.0           0.00             0.00   \n",
       "4599            0.32             0.0           0.00             0.00   \n",
       "4600            0.65             0.0           0.00             0.00   \n",
       "\n",
       "      word_freq_hp  word_freq_hpl  word_freq_george  word_freq_650  \\\n",
       "0              0.0            0.0               0.0            0.0   \n",
       "1              0.0            0.0               0.0            0.0   \n",
       "2              0.0            0.0               0.0            0.0   \n",
       "3              0.0            0.0               0.0            0.0   \n",
       "4              0.0            0.0               0.0            0.0   \n",
       "...            ...            ...               ...            ...   \n",
       "4596           0.0            0.0               0.0            0.0   \n",
       "4597           0.0            0.0               0.0            0.0   \n",
       "4598           0.0            0.0               0.0            0.0   \n",
       "4599           0.0            0.0               0.0            0.0   \n",
       "4600           0.0            0.0               0.0            0.0   \n",
       "\n",
       "      word_freq_lab  word_freq_labs  word_freq_telnet  word_freq_857  \\\n",
       "0               0.0             0.0               0.0            0.0   \n",
       "1               0.0             0.0               0.0            0.0   \n",
       "2               0.0             0.0               0.0            0.0   \n",
       "3               0.0             0.0               0.0            0.0   \n",
       "4               0.0             0.0               0.0            0.0   \n",
       "...             ...             ...               ...            ...   \n",
       "4596            0.0             0.0               0.0            0.0   \n",
       "4597            0.0             0.0               0.0            0.0   \n",
       "4598            0.0             0.0               0.0            0.0   \n",
       "4599            0.0             0.0               0.0            0.0   \n",
       "4600            0.0             0.0               0.0            0.0   \n",
       "\n",
       "      word_freq_data  word_freq_415  word_freq_85  word_freq_technology  \\\n",
       "0                0.0            0.0           0.0                   0.0   \n",
       "1                0.0            0.0           0.0                   0.0   \n",
       "2                0.0            0.0           0.0                   0.0   \n",
       "3                0.0            0.0           0.0                   0.0   \n",
       "4                0.0            0.0           0.0                   0.0   \n",
       "...              ...            ...           ...                   ...   \n",
       "4596             0.0            0.0           0.0                   0.0   \n",
       "4597             0.0            0.0           0.0                   0.0   \n",
       "4598             0.0            0.0           0.0                   0.0   \n",
       "4599             0.0            0.0           0.0                   0.0   \n",
       "4600             0.0            0.0           0.0                   0.0   \n",
       "\n",
       "      word_freq_1999  word_freq_parts  word_freq_pm  word_freq_direct  \\\n",
       "0               0.00              0.0           0.0              0.00   \n",
       "1               0.07              0.0           0.0              0.00   \n",
       "2               0.00              0.0           0.0              0.06   \n",
       "3               0.00              0.0           0.0              0.00   \n",
       "4               0.00              0.0           0.0              0.00   \n",
       "...              ...              ...           ...               ...   \n",
       "4596            0.00              0.0           0.0              0.00   \n",
       "4597            0.00              0.0           0.0              0.00   \n",
       "4598            0.00              0.0           0.0              0.00   \n",
       "4599            0.00              0.0           0.0              0.00   \n",
       "4600            0.00              0.0           0.0              0.00   \n",
       "\n",
       "      word_freq_cs  word_freq_meeting  word_freq_original  word_freq_project  \\\n",
       "0              0.0                0.0                0.00               0.00   \n",
       "1              0.0                0.0                0.00               0.00   \n",
       "2              0.0                0.0                0.12               0.00   \n",
       "3              0.0                0.0                0.00               0.00   \n",
       "4              0.0                0.0                0.00               0.00   \n",
       "...            ...                ...                 ...                ...   \n",
       "4596           0.0                0.0                0.00               0.31   \n",
       "4597           0.0                0.0                0.00               0.00   \n",
       "4598           0.0                0.0                0.00               0.00   \n",
       "4599           0.0                0.0                0.00               0.32   \n",
       "4600           0.0                0.0                0.00               0.00   \n",
       "\n",
       "      word_freq_re  word_freq_edu  word_freq_table  word_freq_conference  \\\n",
       "0             0.00           0.00              0.0                   0.0   \n",
       "1             0.00           0.00              0.0                   0.0   \n",
       "2             0.06           0.06              0.0                   0.0   \n",
       "3             0.00           0.00              0.0                   0.0   \n",
       "4             0.00           0.00              0.0                   0.0   \n",
       "...            ...            ...              ...                   ...   \n",
       "4596          0.31           0.31              0.0                   0.0   \n",
       "4597          0.00           2.00              0.0                   0.0   \n",
       "4598          0.00           1.20              0.0                   0.0   \n",
       "4599          0.00           0.32              0.0                   0.0   \n",
       "4600          1.97           0.65              0.0                   0.0   \n",
       "\n",
       "      char_freq_;  char_freq_(  char_freq_[  char_freq_!  char_freq_$  \\\n",
       "0           0.000        0.000          0.0        0.778        0.000   \n",
       "1           0.000        0.132          0.0        0.372        0.180   \n",
       "2           0.010        0.143          0.0        0.276        0.184   \n",
       "3           0.000        0.137          0.0        0.137        0.000   \n",
       "4           0.000        0.135          0.0        0.135        0.000   \n",
       "...           ...          ...          ...          ...          ...   \n",
       "4596        0.000        0.232          0.0        0.000        0.000   \n",
       "4597        0.000        0.000          0.0        0.353        0.000   \n",
       "4598        0.102        0.718          0.0        0.000        0.000   \n",
       "4599        0.000        0.057          0.0        0.000        0.000   \n",
       "4600        0.000        0.000          0.0        0.125        0.000   \n",
       "\n",
       "      char_freq_#  capital_run_length_average  capital_run_length_longest  \\\n",
       "0           0.000                       3.756                          61   \n",
       "1           0.048                       5.114                         101   \n",
       "2           0.010                       9.821                         485   \n",
       "3           0.000                       3.537                          40   \n",
       "4           0.000                       3.537                          40   \n",
       "...           ...                         ...                         ...   \n",
       "4596        0.000                       1.142                           3   \n",
       "4597        0.000                       1.555                           4   \n",
       "4598        0.000                       1.404                           6   \n",
       "4599        0.000                       1.147                           5   \n",
       "4600        0.000                       1.250                           5   \n",
       "\n",
       "      capital_run_length_total  spam  \n",
       "0                          278     1  \n",
       "1                         1028     1  \n",
       "2                         2259     1  \n",
       "3                          191     1  \n",
       "4                          191     1  \n",
       "...                        ...   ...  \n",
       "4596                        88     0  \n",
       "4597                        14     0  \n",
       "4598                       118     0  \n",
       "4599                        78     0  \n",
       "4600                        40     0  \n",
       "\n",
       "[4601 rows x 58 columns]"
      ]
     },
     "execution_count": 2,
     "metadata": {},
     "output_type": "execute_result"
    }
   ],
   "source": [
    "spam = pd.read_csv(\"T2_spam.csv\"); spam"
   ]
  },
  {
   "cell_type": "markdown",
   "metadata": {},
   "source": [
    "Información general\n",
    "---"
   ]
  },
  {
   "cell_type": "markdown",
   "metadata": {},
   "source": [
    "### Estructura"
   ]
  },
  {
   "cell_type": "markdown",
   "metadata": {},
   "source": [
    "Hay 4601 renglones y 68 características, de las cuales 1 es la variable a categorizar."
   ]
  },
  {
   "cell_type": "code",
   "execution_count": 3,
   "metadata": {},
   "outputs": [
    {
     "data": {
      "text/plain": [
       "(4601, 58)"
      ]
     },
     "execution_count": 3,
     "metadata": {},
     "output_type": "execute_result"
    }
   ],
   "source": [
    "spam.shape"
   ]
  },
  {
   "cell_type": "markdown",
   "metadata": {},
   "source": [
    "### Data types\n",
    "Todas las columnas (excepto el las longitudes) corresponden a estructuras de flotantes."
   ]
  },
  {
   "cell_type": "code",
   "execution_count": 4,
   "metadata": {},
   "outputs": [
    {
     "data": {
      "text/plain": [
       "word_freq_make                float64\n",
       "word_freq_address             float64\n",
       "word_freq_all                 float64\n",
       "word_freq_3d                  float64\n",
       "word_freq_our                 float64\n",
       "word_freq_over                float64\n",
       "word_freq_remove              float64\n",
       "word_freq_internet            float64\n",
       "word_freq_order               float64\n",
       "word_freq_mail                float64\n",
       "word_freq_receive             float64\n",
       "word_freq_will                float64\n",
       "word_freq_people              float64\n",
       "word_freq_report              float64\n",
       "word_freq_addresses           float64\n",
       "word_freq_free                float64\n",
       "word_freq_business            float64\n",
       "word_freq_email               float64\n",
       "word_freq_you                 float64\n",
       "word_freq_credit              float64\n",
       "word_freq_your                float64\n",
       "word_freq_font                float64\n",
       "word_freq_000                 float64\n",
       "word_freq_money               float64\n",
       "word_freq_hp                  float64\n",
       "word_freq_hpl                 float64\n",
       "word_freq_george              float64\n",
       "word_freq_650                 float64\n",
       "word_freq_lab                 float64\n",
       "word_freq_labs                float64\n",
       "word_freq_telnet              float64\n",
       "word_freq_857                 float64\n",
       "word_freq_data                float64\n",
       "word_freq_415                 float64\n",
       "word_freq_85                  float64\n",
       "word_freq_technology          float64\n",
       "word_freq_1999                float64\n",
       "word_freq_parts               float64\n",
       "word_freq_pm                  float64\n",
       "word_freq_direct              float64\n",
       "word_freq_cs                  float64\n",
       "word_freq_meeting             float64\n",
       "word_freq_original            float64\n",
       "word_freq_project             float64\n",
       "word_freq_re                  float64\n",
       "word_freq_edu                 float64\n",
       "word_freq_table               float64\n",
       "word_freq_conference          float64\n",
       "char_freq_;                   float64\n",
       "char_freq_(                   float64\n",
       "char_freq_[                   float64\n",
       "char_freq_!                   float64\n",
       "char_freq_$                   float64\n",
       "char_freq_#                   float64\n",
       "capital_run_length_average    float64\n",
       "capital_run_length_longest      int64\n",
       "capital_run_length_total        int64\n",
       "spam                            int64\n",
       "dtype: object"
      ]
     },
     "execution_count": 4,
     "metadata": {},
     "output_type": "execute_result"
    }
   ],
   "source": [
    "spam.dtypes"
   ]
  },
  {
   "cell_type": "markdown",
   "metadata": {},
   "source": [
    "### NaN o Null valores.\n",
    "No existen valores nulos o nan en el conjunto de datos. No hay necesidad de sustituir valores."
   ]
  },
  {
   "cell_type": "code",
   "execution_count": 5,
   "metadata": {},
   "outputs": [
    {
     "data": {
      "text/plain": [
       "Series([], dtype: float64)"
      ]
     },
     "execution_count": 5,
     "metadata": {},
     "output_type": "execute_result"
    }
   ],
   "source": [
    "spam.isna().sum().where(lambda x: x>0).dropna()"
   ]
  },
  {
   "cell_type": "markdown",
   "metadata": {},
   "source": [
    "### Descripción\n",
    "1. A excepción de las últimas 3 variables, esta tabla cuenta las frecuentas con las que aparece cierta palabra en un correo.\n",
    "2. Las últimas 3 columnas cuentan cuando mide tanto la palabra más larga como la más corta, así como la longitud total del correo.\n",
    "3. Quizás la siguiente matriz fue calculada con [TT-IDF](https://scikit-learn.org/stable/modules/generated/sklearn.feature_extraction.text.TfidfVectorizer.html)."
   ]
  },
  {
   "cell_type": "code",
   "execution_count": 6,
   "metadata": {},
   "outputs": [
    {
     "data": {
      "text/html": [
       "<div>\n",
       "<style scoped>\n",
       "    .dataframe tbody tr th:only-of-type {\n",
       "        vertical-align: middle;\n",
       "    }\n",
       "\n",
       "    .dataframe tbody tr th {\n",
       "        vertical-align: top;\n",
       "    }\n",
       "\n",
       "    .dataframe thead th {\n",
       "        text-align: right;\n",
       "    }\n",
       "</style>\n",
       "<table border=\"1\" class=\"dataframe\">\n",
       "  <thead>\n",
       "    <tr style=\"text-align: right;\">\n",
       "      <th></th>\n",
       "      <th>count</th>\n",
       "      <th>mean</th>\n",
       "      <th>std</th>\n",
       "      <th>min</th>\n",
       "      <th>25%</th>\n",
       "      <th>50%</th>\n",
       "      <th>75%</th>\n",
       "      <th>max</th>\n",
       "    </tr>\n",
       "  </thead>\n",
       "  <tbody>\n",
       "    <tr>\n",
       "      <th>word_freq_make</th>\n",
       "      <td>4601.0</td>\n",
       "      <td>0.104553</td>\n",
       "      <td>0.305358</td>\n",
       "      <td>0.0</td>\n",
       "      <td>0.000</td>\n",
       "      <td>0.000</td>\n",
       "      <td>0.000</td>\n",
       "      <td>4.540</td>\n",
       "    </tr>\n",
       "    <tr>\n",
       "      <th>word_freq_address</th>\n",
       "      <td>4601.0</td>\n",
       "      <td>0.213015</td>\n",
       "      <td>1.290575</td>\n",
       "      <td>0.0</td>\n",
       "      <td>0.000</td>\n",
       "      <td>0.000</td>\n",
       "      <td>0.000</td>\n",
       "      <td>14.280</td>\n",
       "    </tr>\n",
       "    <tr>\n",
       "      <th>word_freq_all</th>\n",
       "      <td>4601.0</td>\n",
       "      <td>0.280656</td>\n",
       "      <td>0.504143</td>\n",
       "      <td>0.0</td>\n",
       "      <td>0.000</td>\n",
       "      <td>0.000</td>\n",
       "      <td>0.420</td>\n",
       "      <td>5.100</td>\n",
       "    </tr>\n",
       "    <tr>\n",
       "      <th>word_freq_3d</th>\n",
       "      <td>4601.0</td>\n",
       "      <td>0.065425</td>\n",
       "      <td>1.395151</td>\n",
       "      <td>0.0</td>\n",
       "      <td>0.000</td>\n",
       "      <td>0.000</td>\n",
       "      <td>0.000</td>\n",
       "      <td>42.810</td>\n",
       "    </tr>\n",
       "    <tr>\n",
       "      <th>word_freq_our</th>\n",
       "      <td>4601.0</td>\n",
       "      <td>0.312223</td>\n",
       "      <td>0.672513</td>\n",
       "      <td>0.0</td>\n",
       "      <td>0.000</td>\n",
       "      <td>0.000</td>\n",
       "      <td>0.380</td>\n",
       "      <td>10.000</td>\n",
       "    </tr>\n",
       "    <tr>\n",
       "      <th>word_freq_over</th>\n",
       "      <td>4601.0</td>\n",
       "      <td>0.095901</td>\n",
       "      <td>0.273824</td>\n",
       "      <td>0.0</td>\n",
       "      <td>0.000</td>\n",
       "      <td>0.000</td>\n",
       "      <td>0.000</td>\n",
       "      <td>5.880</td>\n",
       "    </tr>\n",
       "    <tr>\n",
       "      <th>word_freq_remove</th>\n",
       "      <td>4601.0</td>\n",
       "      <td>0.114208</td>\n",
       "      <td>0.391441</td>\n",
       "      <td>0.0</td>\n",
       "      <td>0.000</td>\n",
       "      <td>0.000</td>\n",
       "      <td>0.000</td>\n",
       "      <td>7.270</td>\n",
       "    </tr>\n",
       "    <tr>\n",
       "      <th>word_freq_internet</th>\n",
       "      <td>4601.0</td>\n",
       "      <td>0.105295</td>\n",
       "      <td>0.401071</td>\n",
       "      <td>0.0</td>\n",
       "      <td>0.000</td>\n",
       "      <td>0.000</td>\n",
       "      <td>0.000</td>\n",
       "      <td>11.110</td>\n",
       "    </tr>\n",
       "    <tr>\n",
       "      <th>word_freq_order</th>\n",
       "      <td>4601.0</td>\n",
       "      <td>0.090067</td>\n",
       "      <td>0.278616</td>\n",
       "      <td>0.0</td>\n",
       "      <td>0.000</td>\n",
       "      <td>0.000</td>\n",
       "      <td>0.000</td>\n",
       "      <td>5.260</td>\n",
       "    </tr>\n",
       "    <tr>\n",
       "      <th>word_freq_mail</th>\n",
       "      <td>4601.0</td>\n",
       "      <td>0.239413</td>\n",
       "      <td>0.644755</td>\n",
       "      <td>0.0</td>\n",
       "      <td>0.000</td>\n",
       "      <td>0.000</td>\n",
       "      <td>0.160</td>\n",
       "      <td>18.180</td>\n",
       "    </tr>\n",
       "    <tr>\n",
       "      <th>word_freq_receive</th>\n",
       "      <td>4601.0</td>\n",
       "      <td>0.059824</td>\n",
       "      <td>0.201545</td>\n",
       "      <td>0.0</td>\n",
       "      <td>0.000</td>\n",
       "      <td>0.000</td>\n",
       "      <td>0.000</td>\n",
       "      <td>2.610</td>\n",
       "    </tr>\n",
       "    <tr>\n",
       "      <th>word_freq_will</th>\n",
       "      <td>4601.0</td>\n",
       "      <td>0.541702</td>\n",
       "      <td>0.861698</td>\n",
       "      <td>0.0</td>\n",
       "      <td>0.000</td>\n",
       "      <td>0.100</td>\n",
       "      <td>0.800</td>\n",
       "      <td>9.670</td>\n",
       "    </tr>\n",
       "    <tr>\n",
       "      <th>word_freq_people</th>\n",
       "      <td>4601.0</td>\n",
       "      <td>0.093930</td>\n",
       "      <td>0.301036</td>\n",
       "      <td>0.0</td>\n",
       "      <td>0.000</td>\n",
       "      <td>0.000</td>\n",
       "      <td>0.000</td>\n",
       "      <td>5.550</td>\n",
       "    </tr>\n",
       "    <tr>\n",
       "      <th>word_freq_report</th>\n",
       "      <td>4601.0</td>\n",
       "      <td>0.058626</td>\n",
       "      <td>0.335184</td>\n",
       "      <td>0.0</td>\n",
       "      <td>0.000</td>\n",
       "      <td>0.000</td>\n",
       "      <td>0.000</td>\n",
       "      <td>10.000</td>\n",
       "    </tr>\n",
       "    <tr>\n",
       "      <th>word_freq_addresses</th>\n",
       "      <td>4601.0</td>\n",
       "      <td>0.049205</td>\n",
       "      <td>0.258843</td>\n",
       "      <td>0.0</td>\n",
       "      <td>0.000</td>\n",
       "      <td>0.000</td>\n",
       "      <td>0.000</td>\n",
       "      <td>4.410</td>\n",
       "    </tr>\n",
       "    <tr>\n",
       "      <th>word_freq_free</th>\n",
       "      <td>4601.0</td>\n",
       "      <td>0.248848</td>\n",
       "      <td>0.825792</td>\n",
       "      <td>0.0</td>\n",
       "      <td>0.000</td>\n",
       "      <td>0.000</td>\n",
       "      <td>0.100</td>\n",
       "      <td>20.000</td>\n",
       "    </tr>\n",
       "    <tr>\n",
       "      <th>word_freq_business</th>\n",
       "      <td>4601.0</td>\n",
       "      <td>0.142586</td>\n",
       "      <td>0.444055</td>\n",
       "      <td>0.0</td>\n",
       "      <td>0.000</td>\n",
       "      <td>0.000</td>\n",
       "      <td>0.000</td>\n",
       "      <td>7.140</td>\n",
       "    </tr>\n",
       "    <tr>\n",
       "      <th>word_freq_email</th>\n",
       "      <td>4601.0</td>\n",
       "      <td>0.184745</td>\n",
       "      <td>0.531122</td>\n",
       "      <td>0.0</td>\n",
       "      <td>0.000</td>\n",
       "      <td>0.000</td>\n",
       "      <td>0.000</td>\n",
       "      <td>9.090</td>\n",
       "    </tr>\n",
       "    <tr>\n",
       "      <th>word_freq_you</th>\n",
       "      <td>4601.0</td>\n",
       "      <td>1.662100</td>\n",
       "      <td>1.775481</td>\n",
       "      <td>0.0</td>\n",
       "      <td>0.000</td>\n",
       "      <td>1.310</td>\n",
       "      <td>2.640</td>\n",
       "      <td>18.750</td>\n",
       "    </tr>\n",
       "    <tr>\n",
       "      <th>word_freq_credit</th>\n",
       "      <td>4601.0</td>\n",
       "      <td>0.085577</td>\n",
       "      <td>0.509767</td>\n",
       "      <td>0.0</td>\n",
       "      <td>0.000</td>\n",
       "      <td>0.000</td>\n",
       "      <td>0.000</td>\n",
       "      <td>18.180</td>\n",
       "    </tr>\n",
       "    <tr>\n",
       "      <th>word_freq_your</th>\n",
       "      <td>4601.0</td>\n",
       "      <td>0.809761</td>\n",
       "      <td>1.200810</td>\n",
       "      <td>0.0</td>\n",
       "      <td>0.000</td>\n",
       "      <td>0.220</td>\n",
       "      <td>1.270</td>\n",
       "      <td>11.110</td>\n",
       "    </tr>\n",
       "    <tr>\n",
       "      <th>word_freq_font</th>\n",
       "      <td>4601.0</td>\n",
       "      <td>0.121202</td>\n",
       "      <td>1.025756</td>\n",
       "      <td>0.0</td>\n",
       "      <td>0.000</td>\n",
       "      <td>0.000</td>\n",
       "      <td>0.000</td>\n",
       "      <td>17.100</td>\n",
       "    </tr>\n",
       "    <tr>\n",
       "      <th>word_freq_000</th>\n",
       "      <td>4601.0</td>\n",
       "      <td>0.101645</td>\n",
       "      <td>0.350286</td>\n",
       "      <td>0.0</td>\n",
       "      <td>0.000</td>\n",
       "      <td>0.000</td>\n",
       "      <td>0.000</td>\n",
       "      <td>5.450</td>\n",
       "    </tr>\n",
       "    <tr>\n",
       "      <th>word_freq_money</th>\n",
       "      <td>4601.0</td>\n",
       "      <td>0.094269</td>\n",
       "      <td>0.442636</td>\n",
       "      <td>0.0</td>\n",
       "      <td>0.000</td>\n",
       "      <td>0.000</td>\n",
       "      <td>0.000</td>\n",
       "      <td>12.500</td>\n",
       "    </tr>\n",
       "    <tr>\n",
       "      <th>word_freq_hp</th>\n",
       "      <td>4601.0</td>\n",
       "      <td>0.549504</td>\n",
       "      <td>1.671349</td>\n",
       "      <td>0.0</td>\n",
       "      <td>0.000</td>\n",
       "      <td>0.000</td>\n",
       "      <td>0.000</td>\n",
       "      <td>20.830</td>\n",
       "    </tr>\n",
       "    <tr>\n",
       "      <th>word_freq_hpl</th>\n",
       "      <td>4601.0</td>\n",
       "      <td>0.265384</td>\n",
       "      <td>0.886955</td>\n",
       "      <td>0.0</td>\n",
       "      <td>0.000</td>\n",
       "      <td>0.000</td>\n",
       "      <td>0.000</td>\n",
       "      <td>16.660</td>\n",
       "    </tr>\n",
       "    <tr>\n",
       "      <th>word_freq_george</th>\n",
       "      <td>4601.0</td>\n",
       "      <td>0.767305</td>\n",
       "      <td>3.367292</td>\n",
       "      <td>0.0</td>\n",
       "      <td>0.000</td>\n",
       "      <td>0.000</td>\n",
       "      <td>0.000</td>\n",
       "      <td>33.330</td>\n",
       "    </tr>\n",
       "    <tr>\n",
       "      <th>word_freq_650</th>\n",
       "      <td>4601.0</td>\n",
       "      <td>0.124845</td>\n",
       "      <td>0.538576</td>\n",
       "      <td>0.0</td>\n",
       "      <td>0.000</td>\n",
       "      <td>0.000</td>\n",
       "      <td>0.000</td>\n",
       "      <td>9.090</td>\n",
       "    </tr>\n",
       "    <tr>\n",
       "      <th>word_freq_lab</th>\n",
       "      <td>4601.0</td>\n",
       "      <td>0.098915</td>\n",
       "      <td>0.593327</td>\n",
       "      <td>0.0</td>\n",
       "      <td>0.000</td>\n",
       "      <td>0.000</td>\n",
       "      <td>0.000</td>\n",
       "      <td>14.280</td>\n",
       "    </tr>\n",
       "    <tr>\n",
       "      <th>word_freq_labs</th>\n",
       "      <td>4601.0</td>\n",
       "      <td>0.102852</td>\n",
       "      <td>0.456682</td>\n",
       "      <td>0.0</td>\n",
       "      <td>0.000</td>\n",
       "      <td>0.000</td>\n",
       "      <td>0.000</td>\n",
       "      <td>5.880</td>\n",
       "    </tr>\n",
       "    <tr>\n",
       "      <th>word_freq_telnet</th>\n",
       "      <td>4601.0</td>\n",
       "      <td>0.064753</td>\n",
       "      <td>0.403393</td>\n",
       "      <td>0.0</td>\n",
       "      <td>0.000</td>\n",
       "      <td>0.000</td>\n",
       "      <td>0.000</td>\n",
       "      <td>12.500</td>\n",
       "    </tr>\n",
       "    <tr>\n",
       "      <th>word_freq_857</th>\n",
       "      <td>4601.0</td>\n",
       "      <td>0.047048</td>\n",
       "      <td>0.328559</td>\n",
       "      <td>0.0</td>\n",
       "      <td>0.000</td>\n",
       "      <td>0.000</td>\n",
       "      <td>0.000</td>\n",
       "      <td>4.760</td>\n",
       "    </tr>\n",
       "    <tr>\n",
       "      <th>word_freq_data</th>\n",
       "      <td>4601.0</td>\n",
       "      <td>0.097229</td>\n",
       "      <td>0.555907</td>\n",
       "      <td>0.0</td>\n",
       "      <td>0.000</td>\n",
       "      <td>0.000</td>\n",
       "      <td>0.000</td>\n",
       "      <td>18.180</td>\n",
       "    </tr>\n",
       "    <tr>\n",
       "      <th>word_freq_415</th>\n",
       "      <td>4601.0</td>\n",
       "      <td>0.047835</td>\n",
       "      <td>0.329445</td>\n",
       "      <td>0.0</td>\n",
       "      <td>0.000</td>\n",
       "      <td>0.000</td>\n",
       "      <td>0.000</td>\n",
       "      <td>4.760</td>\n",
       "    </tr>\n",
       "    <tr>\n",
       "      <th>word_freq_85</th>\n",
       "      <td>4601.0</td>\n",
       "      <td>0.105412</td>\n",
       "      <td>0.532260</td>\n",
       "      <td>0.0</td>\n",
       "      <td>0.000</td>\n",
       "      <td>0.000</td>\n",
       "      <td>0.000</td>\n",
       "      <td>20.000</td>\n",
       "    </tr>\n",
       "    <tr>\n",
       "      <th>word_freq_technology</th>\n",
       "      <td>4601.0</td>\n",
       "      <td>0.097477</td>\n",
       "      <td>0.402623</td>\n",
       "      <td>0.0</td>\n",
       "      <td>0.000</td>\n",
       "      <td>0.000</td>\n",
       "      <td>0.000</td>\n",
       "      <td>7.690</td>\n",
       "    </tr>\n",
       "    <tr>\n",
       "      <th>word_freq_1999</th>\n",
       "      <td>4601.0</td>\n",
       "      <td>0.136953</td>\n",
       "      <td>0.423451</td>\n",
       "      <td>0.0</td>\n",
       "      <td>0.000</td>\n",
       "      <td>0.000</td>\n",
       "      <td>0.000</td>\n",
       "      <td>6.890</td>\n",
       "    </tr>\n",
       "    <tr>\n",
       "      <th>word_freq_parts</th>\n",
       "      <td>4601.0</td>\n",
       "      <td>0.013201</td>\n",
       "      <td>0.220651</td>\n",
       "      <td>0.0</td>\n",
       "      <td>0.000</td>\n",
       "      <td>0.000</td>\n",
       "      <td>0.000</td>\n",
       "      <td>8.330</td>\n",
       "    </tr>\n",
       "    <tr>\n",
       "      <th>word_freq_pm</th>\n",
       "      <td>4601.0</td>\n",
       "      <td>0.078629</td>\n",
       "      <td>0.434672</td>\n",
       "      <td>0.0</td>\n",
       "      <td>0.000</td>\n",
       "      <td>0.000</td>\n",
       "      <td>0.000</td>\n",
       "      <td>11.110</td>\n",
       "    </tr>\n",
       "    <tr>\n",
       "      <th>word_freq_direct</th>\n",
       "      <td>4601.0</td>\n",
       "      <td>0.064834</td>\n",
       "      <td>0.349916</td>\n",
       "      <td>0.0</td>\n",
       "      <td>0.000</td>\n",
       "      <td>0.000</td>\n",
       "      <td>0.000</td>\n",
       "      <td>4.760</td>\n",
       "    </tr>\n",
       "    <tr>\n",
       "      <th>word_freq_cs</th>\n",
       "      <td>4601.0</td>\n",
       "      <td>0.043667</td>\n",
       "      <td>0.361205</td>\n",
       "      <td>0.0</td>\n",
       "      <td>0.000</td>\n",
       "      <td>0.000</td>\n",
       "      <td>0.000</td>\n",
       "      <td>7.140</td>\n",
       "    </tr>\n",
       "    <tr>\n",
       "      <th>word_freq_meeting</th>\n",
       "      <td>4601.0</td>\n",
       "      <td>0.132339</td>\n",
       "      <td>0.766819</td>\n",
       "      <td>0.0</td>\n",
       "      <td>0.000</td>\n",
       "      <td>0.000</td>\n",
       "      <td>0.000</td>\n",
       "      <td>14.280</td>\n",
       "    </tr>\n",
       "    <tr>\n",
       "      <th>word_freq_original</th>\n",
       "      <td>4601.0</td>\n",
       "      <td>0.046099</td>\n",
       "      <td>0.223812</td>\n",
       "      <td>0.0</td>\n",
       "      <td>0.000</td>\n",
       "      <td>0.000</td>\n",
       "      <td>0.000</td>\n",
       "      <td>3.570</td>\n",
       "    </tr>\n",
       "    <tr>\n",
       "      <th>word_freq_project</th>\n",
       "      <td>4601.0</td>\n",
       "      <td>0.079196</td>\n",
       "      <td>0.621976</td>\n",
       "      <td>0.0</td>\n",
       "      <td>0.000</td>\n",
       "      <td>0.000</td>\n",
       "      <td>0.000</td>\n",
       "      <td>20.000</td>\n",
       "    </tr>\n",
       "    <tr>\n",
       "      <th>word_freq_re</th>\n",
       "      <td>4601.0</td>\n",
       "      <td>0.301224</td>\n",
       "      <td>1.011687</td>\n",
       "      <td>0.0</td>\n",
       "      <td>0.000</td>\n",
       "      <td>0.000</td>\n",
       "      <td>0.110</td>\n",
       "      <td>21.420</td>\n",
       "    </tr>\n",
       "    <tr>\n",
       "      <th>word_freq_edu</th>\n",
       "      <td>4601.0</td>\n",
       "      <td>0.179824</td>\n",
       "      <td>0.911119</td>\n",
       "      <td>0.0</td>\n",
       "      <td>0.000</td>\n",
       "      <td>0.000</td>\n",
       "      <td>0.000</td>\n",
       "      <td>22.050</td>\n",
       "    </tr>\n",
       "    <tr>\n",
       "      <th>word_freq_table</th>\n",
       "      <td>4601.0</td>\n",
       "      <td>0.005444</td>\n",
       "      <td>0.076274</td>\n",
       "      <td>0.0</td>\n",
       "      <td>0.000</td>\n",
       "      <td>0.000</td>\n",
       "      <td>0.000</td>\n",
       "      <td>2.170</td>\n",
       "    </tr>\n",
       "    <tr>\n",
       "      <th>word_freq_conference</th>\n",
       "      <td>4601.0</td>\n",
       "      <td>0.031869</td>\n",
       "      <td>0.285735</td>\n",
       "      <td>0.0</td>\n",
       "      <td>0.000</td>\n",
       "      <td>0.000</td>\n",
       "      <td>0.000</td>\n",
       "      <td>10.000</td>\n",
       "    </tr>\n",
       "    <tr>\n",
       "      <th>char_freq_;</th>\n",
       "      <td>4601.0</td>\n",
       "      <td>0.038575</td>\n",
       "      <td>0.243471</td>\n",
       "      <td>0.0</td>\n",
       "      <td>0.000</td>\n",
       "      <td>0.000</td>\n",
       "      <td>0.000</td>\n",
       "      <td>4.385</td>\n",
       "    </tr>\n",
       "    <tr>\n",
       "      <th>char_freq_(</th>\n",
       "      <td>4601.0</td>\n",
       "      <td>0.139030</td>\n",
       "      <td>0.270355</td>\n",
       "      <td>0.0</td>\n",
       "      <td>0.000</td>\n",
       "      <td>0.065</td>\n",
       "      <td>0.188</td>\n",
       "      <td>9.752</td>\n",
       "    </tr>\n",
       "    <tr>\n",
       "      <th>char_freq_[</th>\n",
       "      <td>4601.0</td>\n",
       "      <td>0.016976</td>\n",
       "      <td>0.109394</td>\n",
       "      <td>0.0</td>\n",
       "      <td>0.000</td>\n",
       "      <td>0.000</td>\n",
       "      <td>0.000</td>\n",
       "      <td>4.081</td>\n",
       "    </tr>\n",
       "    <tr>\n",
       "      <th>char_freq_!</th>\n",
       "      <td>4601.0</td>\n",
       "      <td>0.269071</td>\n",
       "      <td>0.815672</td>\n",
       "      <td>0.0</td>\n",
       "      <td>0.000</td>\n",
       "      <td>0.000</td>\n",
       "      <td>0.315</td>\n",
       "      <td>32.478</td>\n",
       "    </tr>\n",
       "    <tr>\n",
       "      <th>char_freq_$</th>\n",
       "      <td>4601.0</td>\n",
       "      <td>0.075811</td>\n",
       "      <td>0.245882</td>\n",
       "      <td>0.0</td>\n",
       "      <td>0.000</td>\n",
       "      <td>0.000</td>\n",
       "      <td>0.052</td>\n",
       "      <td>6.003</td>\n",
       "    </tr>\n",
       "    <tr>\n",
       "      <th>char_freq_#</th>\n",
       "      <td>4601.0</td>\n",
       "      <td>0.044238</td>\n",
       "      <td>0.429342</td>\n",
       "      <td>0.0</td>\n",
       "      <td>0.000</td>\n",
       "      <td>0.000</td>\n",
       "      <td>0.000</td>\n",
       "      <td>19.829</td>\n",
       "    </tr>\n",
       "    <tr>\n",
       "      <th>capital_run_length_average</th>\n",
       "      <td>4601.0</td>\n",
       "      <td>5.191515</td>\n",
       "      <td>31.729449</td>\n",
       "      <td>1.0</td>\n",
       "      <td>1.588</td>\n",
       "      <td>2.276</td>\n",
       "      <td>3.706</td>\n",
       "      <td>1102.500</td>\n",
       "    </tr>\n",
       "    <tr>\n",
       "      <th>capital_run_length_longest</th>\n",
       "      <td>4601.0</td>\n",
       "      <td>52.172789</td>\n",
       "      <td>194.891310</td>\n",
       "      <td>1.0</td>\n",
       "      <td>6.000</td>\n",
       "      <td>15.000</td>\n",
       "      <td>43.000</td>\n",
       "      <td>9989.000</td>\n",
       "    </tr>\n",
       "    <tr>\n",
       "      <th>capital_run_length_total</th>\n",
       "      <td>4601.0</td>\n",
       "      <td>283.289285</td>\n",
       "      <td>606.347851</td>\n",
       "      <td>1.0</td>\n",
       "      <td>35.000</td>\n",
       "      <td>95.000</td>\n",
       "      <td>266.000</td>\n",
       "      <td>15841.000</td>\n",
       "    </tr>\n",
       "    <tr>\n",
       "      <th>spam</th>\n",
       "      <td>4601.0</td>\n",
       "      <td>0.394045</td>\n",
       "      <td>0.488698</td>\n",
       "      <td>0.0</td>\n",
       "      <td>0.000</td>\n",
       "      <td>0.000</td>\n",
       "      <td>1.000</td>\n",
       "      <td>1.000</td>\n",
       "    </tr>\n",
       "  </tbody>\n",
       "</table>\n",
       "</div>"
      ],
      "text/plain": [
       "                             count        mean         std  min     25%  \\\n",
       "word_freq_make              4601.0    0.104553    0.305358  0.0   0.000   \n",
       "word_freq_address           4601.0    0.213015    1.290575  0.0   0.000   \n",
       "word_freq_all               4601.0    0.280656    0.504143  0.0   0.000   \n",
       "word_freq_3d                4601.0    0.065425    1.395151  0.0   0.000   \n",
       "word_freq_our               4601.0    0.312223    0.672513  0.0   0.000   \n",
       "word_freq_over              4601.0    0.095901    0.273824  0.0   0.000   \n",
       "word_freq_remove            4601.0    0.114208    0.391441  0.0   0.000   \n",
       "word_freq_internet          4601.0    0.105295    0.401071  0.0   0.000   \n",
       "word_freq_order             4601.0    0.090067    0.278616  0.0   0.000   \n",
       "word_freq_mail              4601.0    0.239413    0.644755  0.0   0.000   \n",
       "word_freq_receive           4601.0    0.059824    0.201545  0.0   0.000   \n",
       "word_freq_will              4601.0    0.541702    0.861698  0.0   0.000   \n",
       "word_freq_people            4601.0    0.093930    0.301036  0.0   0.000   \n",
       "word_freq_report            4601.0    0.058626    0.335184  0.0   0.000   \n",
       "word_freq_addresses         4601.0    0.049205    0.258843  0.0   0.000   \n",
       "word_freq_free              4601.0    0.248848    0.825792  0.0   0.000   \n",
       "word_freq_business          4601.0    0.142586    0.444055  0.0   0.000   \n",
       "word_freq_email             4601.0    0.184745    0.531122  0.0   0.000   \n",
       "word_freq_you               4601.0    1.662100    1.775481  0.0   0.000   \n",
       "word_freq_credit            4601.0    0.085577    0.509767  0.0   0.000   \n",
       "word_freq_your              4601.0    0.809761    1.200810  0.0   0.000   \n",
       "word_freq_font              4601.0    0.121202    1.025756  0.0   0.000   \n",
       "word_freq_000               4601.0    0.101645    0.350286  0.0   0.000   \n",
       "word_freq_money             4601.0    0.094269    0.442636  0.0   0.000   \n",
       "word_freq_hp                4601.0    0.549504    1.671349  0.0   0.000   \n",
       "word_freq_hpl               4601.0    0.265384    0.886955  0.0   0.000   \n",
       "word_freq_george            4601.0    0.767305    3.367292  0.0   0.000   \n",
       "word_freq_650               4601.0    0.124845    0.538576  0.0   0.000   \n",
       "word_freq_lab               4601.0    0.098915    0.593327  0.0   0.000   \n",
       "word_freq_labs              4601.0    0.102852    0.456682  0.0   0.000   \n",
       "word_freq_telnet            4601.0    0.064753    0.403393  0.0   0.000   \n",
       "word_freq_857               4601.0    0.047048    0.328559  0.0   0.000   \n",
       "word_freq_data              4601.0    0.097229    0.555907  0.0   0.000   \n",
       "word_freq_415               4601.0    0.047835    0.329445  0.0   0.000   \n",
       "word_freq_85                4601.0    0.105412    0.532260  0.0   0.000   \n",
       "word_freq_technology        4601.0    0.097477    0.402623  0.0   0.000   \n",
       "word_freq_1999              4601.0    0.136953    0.423451  0.0   0.000   \n",
       "word_freq_parts             4601.0    0.013201    0.220651  0.0   0.000   \n",
       "word_freq_pm                4601.0    0.078629    0.434672  0.0   0.000   \n",
       "word_freq_direct            4601.0    0.064834    0.349916  0.0   0.000   \n",
       "word_freq_cs                4601.0    0.043667    0.361205  0.0   0.000   \n",
       "word_freq_meeting           4601.0    0.132339    0.766819  0.0   0.000   \n",
       "word_freq_original          4601.0    0.046099    0.223812  0.0   0.000   \n",
       "word_freq_project           4601.0    0.079196    0.621976  0.0   0.000   \n",
       "word_freq_re                4601.0    0.301224    1.011687  0.0   0.000   \n",
       "word_freq_edu               4601.0    0.179824    0.911119  0.0   0.000   \n",
       "word_freq_table             4601.0    0.005444    0.076274  0.0   0.000   \n",
       "word_freq_conference        4601.0    0.031869    0.285735  0.0   0.000   \n",
       "char_freq_;                 4601.0    0.038575    0.243471  0.0   0.000   \n",
       "char_freq_(                 4601.0    0.139030    0.270355  0.0   0.000   \n",
       "char_freq_[                 4601.0    0.016976    0.109394  0.0   0.000   \n",
       "char_freq_!                 4601.0    0.269071    0.815672  0.0   0.000   \n",
       "char_freq_$                 4601.0    0.075811    0.245882  0.0   0.000   \n",
       "char_freq_#                 4601.0    0.044238    0.429342  0.0   0.000   \n",
       "capital_run_length_average  4601.0    5.191515   31.729449  1.0   1.588   \n",
       "capital_run_length_longest  4601.0   52.172789  194.891310  1.0   6.000   \n",
       "capital_run_length_total    4601.0  283.289285  606.347851  1.0  35.000   \n",
       "spam                        4601.0    0.394045    0.488698  0.0   0.000   \n",
       "\n",
       "                               50%      75%        max  \n",
       "word_freq_make               0.000    0.000      4.540  \n",
       "word_freq_address            0.000    0.000     14.280  \n",
       "word_freq_all                0.000    0.420      5.100  \n",
       "word_freq_3d                 0.000    0.000     42.810  \n",
       "word_freq_our                0.000    0.380     10.000  \n",
       "word_freq_over               0.000    0.000      5.880  \n",
       "word_freq_remove             0.000    0.000      7.270  \n",
       "word_freq_internet           0.000    0.000     11.110  \n",
       "word_freq_order              0.000    0.000      5.260  \n",
       "word_freq_mail               0.000    0.160     18.180  \n",
       "word_freq_receive            0.000    0.000      2.610  \n",
       "word_freq_will               0.100    0.800      9.670  \n",
       "word_freq_people             0.000    0.000      5.550  \n",
       "word_freq_report             0.000    0.000     10.000  \n",
       "word_freq_addresses          0.000    0.000      4.410  \n",
       "word_freq_free               0.000    0.100     20.000  \n",
       "word_freq_business           0.000    0.000      7.140  \n",
       "word_freq_email              0.000    0.000      9.090  \n",
       "word_freq_you                1.310    2.640     18.750  \n",
       "word_freq_credit             0.000    0.000     18.180  \n",
       "word_freq_your               0.220    1.270     11.110  \n",
       "word_freq_font               0.000    0.000     17.100  \n",
       "word_freq_000                0.000    0.000      5.450  \n",
       "word_freq_money              0.000    0.000     12.500  \n",
       "word_freq_hp                 0.000    0.000     20.830  \n",
       "word_freq_hpl                0.000    0.000     16.660  \n",
       "word_freq_george             0.000    0.000     33.330  \n",
       "word_freq_650                0.000    0.000      9.090  \n",
       "word_freq_lab                0.000    0.000     14.280  \n",
       "word_freq_labs               0.000    0.000      5.880  \n",
       "word_freq_telnet             0.000    0.000     12.500  \n",
       "word_freq_857                0.000    0.000      4.760  \n",
       "word_freq_data               0.000    0.000     18.180  \n",
       "word_freq_415                0.000    0.000      4.760  \n",
       "word_freq_85                 0.000    0.000     20.000  \n",
       "word_freq_technology         0.000    0.000      7.690  \n",
       "word_freq_1999               0.000    0.000      6.890  \n",
       "word_freq_parts              0.000    0.000      8.330  \n",
       "word_freq_pm                 0.000    0.000     11.110  \n",
       "word_freq_direct             0.000    0.000      4.760  \n",
       "word_freq_cs                 0.000    0.000      7.140  \n",
       "word_freq_meeting            0.000    0.000     14.280  \n",
       "word_freq_original           0.000    0.000      3.570  \n",
       "word_freq_project            0.000    0.000     20.000  \n",
       "word_freq_re                 0.000    0.110     21.420  \n",
       "word_freq_edu                0.000    0.000     22.050  \n",
       "word_freq_table              0.000    0.000      2.170  \n",
       "word_freq_conference         0.000    0.000     10.000  \n",
       "char_freq_;                  0.000    0.000      4.385  \n",
       "char_freq_(                  0.065    0.188      9.752  \n",
       "char_freq_[                  0.000    0.000      4.081  \n",
       "char_freq_!                  0.000    0.315     32.478  \n",
       "char_freq_$                  0.000    0.052      6.003  \n",
       "char_freq_#                  0.000    0.000     19.829  \n",
       "capital_run_length_average   2.276    3.706   1102.500  \n",
       "capital_run_length_longest  15.000   43.000   9989.000  \n",
       "capital_run_length_total    95.000  266.000  15841.000  \n",
       "spam                         0.000    1.000      1.000  "
      ]
     },
     "execution_count": 6,
     "metadata": {},
     "output_type": "execute_result"
    }
   ],
   "source": [
    "spam.describe().T"
   ]
  },
  {
   "cell_type": "markdown",
   "metadata": {},
   "source": [
    "Visualización de los datos (3)\n",
    "---\n",
    "Analizaré word_freq_3d, word_freq_george y capital_run_length_total."
   ]
  },
  {
   "cell_type": "markdown",
   "metadata": {},
   "source": [
    "### word_freq_3d\n",
    "Ambos máximo y mínimo para ambos casos son iguales puesto que la mayoría de los documentos analizados no contienen esta palabra. Lo importarte aqué son los _outliers_ que puedan puedan presentarse, pues a diferencia de la mayoría de los casos, aquí nos dan fuerte evidencia para sospechar si un correo es spam o no. Es claro que el los correos __NO SPAM__ esta palabra tiene una frecuencia muy baja en comparación con los valores tan extremos que toma en los correos __SPAM__. Como conclusión, es indudable que los correos que contienen esta palabra, con frecuencia, se tratan de correos __SPAM__."
   ]
  },
  {
   "cell_type": "code",
   "execution_count": 7,
   "metadata": {},
   "outputs": [
    {
     "data": {
      "text/plain": [
       "Text(0.5, 1.0, 'Frecuencia de 3d')"
      ]
     },
     "execution_count": 7,
     "metadata": {},
     "output_type": "execute_result"
    },
    {
     "data": {
      "image/png": "[encoded data removed]",
      "text/plain": [
       "<Figure size 720x720 with 1 Axes>"
      ]
     },
     "metadata": {
      "needs_background": "light"
     },
     "output_type": "display_data"
    }
   ],
   "source": [
    "sns.boxplot(y = spam.word_freq_3d, x = spam.spam)\n",
    "plt.xticks(list(range(0,2)),[\"NO SPAM\",\"SPAM\"], size = 15)\n",
    "plt.yticks(size = 15)\n",
    "plt.ylabel(\"Frecuencia\", size = 15)\n",
    "plt.xlabel(\"\")\n",
    "plt.title(\"Frecuencia de 3d\", size = 20)"
   ]
  },
  {
   "cell_type": "markdown",
   "metadata": {},
   "source": [
    "### word_freq_george\n",
    "Este es al caso totalmente a la inversa del caso anterior, pues la palabra _george_ que bien se puede tratar de un nombre propio, con frecuencia se encuentra en correos que son __NO SPAM__. Se concluye que muy frecuentemente, los correos que contienen la palabra _george_ son __NO SPAM__."
   ]
  },
  {
   "cell_type": "code",
   "execution_count": 8,
   "metadata": {},
   "outputs": [
    {
     "data": {
      "text/plain": [
       "Text(0.5, 1.0, 'Frecuencia de george')"
      ]
     },
     "execution_count": 8,
     "metadata": {},
     "output_type": "execute_result"
    },
    {
     "data": {
      "image/png": "[encoded data removed]",
      "text/plain": [
       "<Figure size 720x720 with 1 Axes>"
      ]
     },
     "metadata": {
      "needs_background": "light"
     },
     "output_type": "display_data"
    }
   ],
   "source": [
    "sns.boxplot(y = spam.word_freq_george, x = spam.spam)\n",
    "plt.xticks(list(range(0,2)),[\"NO SPAM\",\"SPAM\"], size = 15)\n",
    "plt.yticks(size = 15)\n",
    "plt.ylabel(\"Frecuencia\", size = 15)\n",
    "plt.xlabel(\"\")\n",
    "plt.title(\"Frecuencia de george\", size = 20)"
   ]
  },
  {
   "cell_type": "markdown",
   "metadata": {},
   "source": [
    "### capital_run_length_total\n",
    "En este caso no se miden frecuencias de palabras, si no de longitudes de documentos enteros. Se nota una clara tendencia a tener más textos largos cuando se tratan de correos __SPAM__. Tan solo comparando los valores más extremos de ambas boxplots, existe una diferencia de 10,000 palabras, siendo el mayor un correo spam. Suponiendo que se retiran los 2 valores más extremos de los correo __NO SPAM__ y los 3 de __SPAM__, entonces se logra ver que aún con esto, los valores tienden a ser más grandes en la distribución de la derecha. Más del 750% de los correos __SPAM__ son mayores que el 50% de los __NO SPAM__, un contraste bastante importante.\n",
    "\n",
    "En conclusión, los correos __SPAM__ con frencuencia son más largos que los __NO SPAM__."
   ]
  },
  {
   "cell_type": "code",
   "execution_count": 9,
   "metadata": {},
   "outputs": [
    {
     "data": {
      "text/plain": [
       "Text(0.5, 1.0, 'Longitud del documento')"
      ]
     },
     "execution_count": 9,
     "metadata": {},
     "output_type": "execute_result"
    },
    {
     "data": {
      "image/png": "[encoded data removed]",
      "text/plain": [
       "<Figure size 720x720 with 1 Axes>"
      ]
     },
     "metadata": {
      "needs_background": "light"
     },
     "output_type": "display_data"
    }
   ],
   "source": [
    "sns.boxplot(y = spam.capital_run_length_total, x = spam.spam)\n",
    "plt.xticks(list(range(0,2)),[\"NO SPAM\",\"SPAM\"], size = 15)\n",
    "plt.yticks(size = 15)\n",
    "plt.ylabel(\"Frecuencia\", size = 15)\n",
    "plt.xlabel(\"\")\n",
    "plt.title(\"Longitud del documento\", size = 20)"
   ]
  },
  {
   "cell_type": "markdown",
   "metadata": {},
   "source": [
    "Separar los datos\n",
    "---"
   ]
  },
  {
   "cell_type": "code",
   "execution_count": 10,
   "metadata": {},
   "outputs": [],
   "source": [
    "X = spam.drop(columns = \"spam\")\n",
    "Y = spam.spam\n",
    "\n",
    "X_train, X_test, Y_train, Y_test = train_test_split(X,Y, random_state = 0, test_size = .4)"
   ]
  },
  {
   "cell_type": "markdown",
   "metadata": {},
   "source": [
    "Modelado\n",
    "---"
   ]
  },
  {
   "cell_type": "markdown",
   "metadata": {},
   "source": [
    "### Sin regularización"
   ]
  },
  {
   "cell_type": "code",
   "execution_count": 11,
   "metadata": {},
   "outputs": [
    {
     "name": "stderr",
     "output_type": "stream",
     "text": [
      "C:\\Users\\actda\\anaconda3\\lib\\site-packages\\sklearn\\linear_model\\_logistic.py:762: ConvergenceWarning: lbfgs failed to converge (status=1):\n",
      "STOP: TOTAL NO. of ITERATIONS REACHED LIMIT.\n",
      "\n",
      "Increase the number of iterations (max_iter) or scale the data as shown in:\n",
      "    https://scikit-learn.org/stable/modules/preprocessing.html\n",
      "Please also refer to the documentation for alternative solver options:\n",
      "    https://scikit-learn.org/stable/modules/linear_model.html#logistic-regression\n",
      "  n_iter_i = _check_optimize_result(\n"
     ]
    },
    {
     "data": {
      "text/plain": [
       "LogisticRegression(max_iter=400, penalty='none')"
      ]
     },
     "execution_count": 11,
     "metadata": {},
     "output_type": "execute_result"
    }
   ],
   "source": [
    "log_sin = LogisticRegression(penalty = \"none\", max_iter = 400)\n",
    "log_sin.fit(X_train, Y_train)"
   ]
  },
  {
   "cell_type": "markdown",
   "metadata": {},
   "source": [
    "#### Predicciones"
   ]
  },
  {
   "cell_type": "code",
   "execution_count": 12,
   "metadata": {},
   "outputs": [],
   "source": [
    "Y_pred = log_sin.predict(X_test)"
   ]
  },
  {
   "cell_type": "markdown",
   "metadata": {},
   "source": [
    "#### Score\n",
    "El 93% de los datos de entrenamiento fueron bien predichos por el modelo."
   ]
  },
  {
   "cell_type": "code",
   "execution_count": 13,
   "metadata": {},
   "outputs": [
    {
     "data": {
      "text/plain": [
       "93.37"
      ]
     },
     "execution_count": 13,
     "metadata": {},
     "output_type": "execute_result"
    }
   ],
   "source": [
    "round(log_sin.score(X_train, Y_train) * 100, 2)"
   ]
  },
  {
   "cell_type": "markdown",
   "metadata": {},
   "source": [
    "#### Accuracy\n",
    "El 91% de los datos de prueba fueron bien predichos por el modelo, 2% menor que el Score."
   ]
  },
  {
   "cell_type": "code",
   "execution_count": 14,
   "metadata": {},
   "outputs": [
    {
     "data": {
      "text/plain": [
       "91.31"
      ]
     },
     "execution_count": 14,
     "metadata": {},
     "output_type": "execute_result"
    }
   ],
   "source": [
    "round(metrics.accuracy_score(Y_test, Y_pred) * 100, 2)"
   ]
  },
  {
   "cell_type": "markdown",
   "metadata": {},
   "source": [
    "#### Matriz de confusión.\n"
   ]
  },
  {
   "cell_type": "code",
   "execution_count": 15,
   "metadata": {},
   "outputs": [
    {
     "data": {
      "text/plain": [
       "(1032, 65, 95, 649)"
      ]
     },
     "execution_count": 15,
     "metadata": {},
     "output_type": "execute_result"
    }
   ],
   "source": [
    "tn,fp,fn,tp = confusion_matrix(Y_test,Y_pred).ravel()\n",
    "(tn,fp,fn,tp)"
   ]
  },
  {
   "cell_type": "code",
   "execution_count": 16,
   "metadata": {},
   "outputs": [
    {
     "data": {
      "image/png": "[encoded data removed]",
      "text/plain": [
       "<Figure size 720x720 with 2 Axes>"
      ]
     },
     "metadata": {
      "needs_background": "light"
     },
     "output_type": "display_data"
    },
    {
     "data": {
      "image/png": "[encoded data removed]",
      "text/plain": [
       "<Figure size 720x720 with 2 Axes>"
      ]
     },
     "metadata": {
      "needs_background": "light"
     },
     "output_type": "display_data"
    }
   ],
   "source": [
    "titles_options = [(\"Matriz de Confusión, sin normalizar\", None),\n",
    "                  (\"Matriz de confusión normalizada\", 'true')]\n",
    "\n",
    "for title, normalize in titles_options:\n",
    "    disp = plot_confusion_matrix(log_sin, X_test, Y_test,\n",
    "                                 #display_labels=[0,1],\n",
    "                                 cmap=plt.cm.Blues,\n",
    "                                 normalize=normalize)\n",
    "    disp.ax_.set_title(title)\n",
    "\n",
    "plt.show()"
   ]
  },
  {
   "cell_type": "markdown",
   "metadata": {},
   "source": [
    "#### Sensibilidad"
   ]
  },
  {
   "cell_type": "code",
   "execution_count": 17,
   "metadata": {},
   "outputs": [
    {
     "data": {
      "text/plain": [
       "87.23"
      ]
     },
     "execution_count": 17,
     "metadata": {},
     "output_type": "execute_result"
    }
   ],
   "source": [
    "m1 = round(100*(tp/(tp+fn)), 2);m1"
   ]
  },
  {
   "cell_type": "markdown",
   "metadata": {},
   "source": [
    "#### Especifidad"
   ]
  },
  {
   "cell_type": "code",
   "execution_count": 18,
   "metadata": {},
   "outputs": [
    {
     "data": {
      "text/plain": [
       "94.07"
      ]
     },
     "execution_count": 18,
     "metadata": {},
     "output_type": "execute_result"
    }
   ],
   "source": [
    "m2 = round(100*(tn/(tn+fp)), 2);m2"
   ]
  },
  {
   "cell_type": "markdown",
   "metadata": {},
   "source": [
    "#### Tasa de falsos positivos"
   ]
  },
  {
   "cell_type": "code",
   "execution_count": 19,
   "metadata": {},
   "outputs": [
    {
     "data": {
      "text/plain": [
       "5.93"
      ]
     },
     "execution_count": 19,
     "metadata": {},
     "output_type": "execute_result"
    }
   ],
   "source": [
    "m3 = round(100*(fp/(tn+fp)), 2);m3"
   ]
  },
  {
   "cell_type": "markdown",
   "metadata": {},
   "source": [
    "#### Precisión"
   ]
  },
  {
   "cell_type": "code",
   "execution_count": 20,
   "metadata": {},
   "outputs": [
    {
     "data": {
      "text/plain": [
       "90.9"
      ]
     },
     "execution_count": 20,
     "metadata": {},
     "output_type": "execute_result"
    }
   ],
   "source": [
    "m4 = round(100*(tp /(tp+fp)), 2);m4"
   ]
  },
  {
   "cell_type": "markdown",
   "metadata": {},
   "source": [
    "#### Tasa de respuestas incorrectas"
   ]
  },
  {
   "cell_type": "code",
   "execution_count": 21,
   "metadata": {},
   "outputs": [
    {
     "data": {
      "text/plain": [
       "8.69"
      ]
     },
     "execution_count": 21,
     "metadata": {},
     "output_type": "execute_result"
    }
   ],
   "source": [
    "m5 = round(100*((fn + fp)/(tn+fp+fn+tp)), 2);m5"
   ]
  },
  {
   "cell_type": "markdown",
   "metadata": {},
   "source": [
    "#### Prevalencia"
   ]
  },
  {
   "cell_type": "code",
   "execution_count": 22,
   "metadata": {},
   "outputs": [
    {
     "data": {
      "text/plain": [
       "40.0"
      ]
     },
     "execution_count": 22,
     "metadata": {},
     "output_type": "execute_result"
    }
   ],
   "source": [
    "m6 = round(100*((fn + tp)/(tn+fp+fn+tp))); m6"
   ]
  },
  {
   "cell_type": "markdown",
   "metadata": {},
   "source": [
    "### Con regularización"
   ]
  },
  {
   "cell_type": "code",
   "execution_count": 23,
   "metadata": {},
   "outputs": [
    {
     "name": "stderr",
     "output_type": "stream",
     "text": [
      "C:\\Users\\actda\\anaconda3\\lib\\site-packages\\sklearn\\linear_model\\_logistic.py:762: ConvergenceWarning: lbfgs failed to converge (status=1):\n",
      "STOP: TOTAL NO. of ITERATIONS REACHED LIMIT.\n",
      "\n",
      "Increase the number of iterations (max_iter) or scale the data as shown in:\n",
      "    https://scikit-learn.org/stable/modules/preprocessing.html\n",
      "Please also refer to the documentation for alternative solver options:\n",
      "    https://scikit-learn.org/stable/modules/linear_model.html#logistic-regression\n",
      "  n_iter_i = _check_optimize_result(\n"
     ]
    },
    {
     "data": {
      "text/plain": [
       "LogisticRegression(max_iter=400)"
      ]
     },
     "execution_count": 23,
     "metadata": {},
     "output_type": "execute_result"
    }
   ],
   "source": [
    "log_con = LogisticRegression(penalty = \"l2\", max_iter = 400)\n",
    "log_con.fit(X_train, Y_train)"
   ]
  },
  {
   "cell_type": "markdown",
   "metadata": {},
   "source": [
    "#### Predicciones"
   ]
  },
  {
   "cell_type": "code",
   "execution_count": 24,
   "metadata": {},
   "outputs": [],
   "source": [
    "Y_pred = log_con.predict(X_test)"
   ]
  },
  {
   "cell_type": "markdown",
   "metadata": {},
   "source": [
    "#### Score\n",
    "El 93% de los datos de entrenamiento fueron bien predichos por el modelo."
   ]
  },
  {
   "cell_type": "code",
   "execution_count": 25,
   "metadata": {},
   "outputs": [
    {
     "data": {
      "text/plain": [
       "93.15"
      ]
     },
     "execution_count": 25,
     "metadata": {},
     "output_type": "execute_result"
    }
   ],
   "source": [
    "round(log_con.score(X_train, Y_train) * 100, 2)"
   ]
  },
  {
   "cell_type": "markdown",
   "metadata": {},
   "source": [
    "#### Accuracy\n",
    "El 91% de los datos de prueba fueron bien predichos por el modelo, 2% menor que el Score. En comparación al modelo sin regularización, por decimas (16) este modelo clasifica mejor los valores de prueba."
   ]
  },
  {
   "cell_type": "code",
   "execution_count": 26,
   "metadata": {},
   "outputs": [
    {
     "data": {
      "text/plain": [
       "91.47"
      ]
     },
     "execution_count": 26,
     "metadata": {},
     "output_type": "execute_result"
    }
   ],
   "source": [
    "round(metrics.accuracy_score(Y_test, Y_pred) * 100, 2)"
   ]
  },
  {
   "cell_type": "markdown",
   "metadata": {},
   "source": [
    "#### Matriz de confusión.\n"
   ]
  },
  {
   "cell_type": "code",
   "execution_count": 27,
   "metadata": {},
   "outputs": [
    {
     "data": {
      "text/plain": [
       "(1039, 58, 99, 645)"
      ]
     },
     "execution_count": 27,
     "metadata": {},
     "output_type": "execute_result"
    }
   ],
   "source": [
    "tn,fp,fn,tp = confusion_matrix(Y_test,Y_pred).ravel()\n",
    "(tn,fp,fn,tp)"
   ]
  },
  {
   "cell_type": "code",
   "execution_count": 28,
   "metadata": {},
   "outputs": [
    {
     "data": {
      "image/png": "[encoded data removed]",
      "text/plain": [
       "<Figure size 720x720 with 2 Axes>"
      ]
     },
     "metadata": {
      "needs_background": "light"
     },
     "output_type": "display_data"
    },
    {
     "data": {
      "image/png": "[encoded data removed]",
      "text/plain": [
       "<Figure size 720x720 with 2 Axes>"
      ]
     },
     "metadata": {
      "needs_background": "light"
     },
     "output_type": "display_data"
    }
   ],
   "source": [
    "titles_options = [(\"Matriz de Confusión, sin normalizar\", None),\n",
    "                  (\"Matriz de confusión normalizada\", 'true')]\n",
    "\n",
    "for title, normalize in titles_options:\n",
    "    disp = plot_confusion_matrix(log_con, X_test, Y_test,\n",
    "                                 #display_labels=[0,1],\n",
    "                                 cmap=plt.cm.Blues,\n",
    "                                 normalize=normalize)\n",
    "    disp.ax_.set_title(title)\n",
    "\n",
    "plt.show()"
   ]
  },
  {
   "cell_type": "markdown",
   "metadata": {},
   "source": [
    "#### Sensibilidad"
   ]
  },
  {
   "cell_type": "code",
   "execution_count": 29,
   "metadata": {},
   "outputs": [
    {
     "data": {
      "text/plain": [
       "86.69"
      ]
     },
     "execution_count": 29,
     "metadata": {},
     "output_type": "execute_result"
    }
   ],
   "source": [
    "m7 =round(100*(tp/(tp+fn)), 2);m7"
   ]
  },
  {
   "cell_type": "markdown",
   "metadata": {},
   "source": [
    "#### Especifidad"
   ]
  },
  {
   "cell_type": "code",
   "execution_count": 30,
   "metadata": {},
   "outputs": [
    {
     "data": {
      "text/plain": [
       "94.71"
      ]
     },
     "execution_count": 30,
     "metadata": {},
     "output_type": "execute_result"
    }
   ],
   "source": [
    "m8 = round(100*(tn/(tn+fp)), 2);m8"
   ]
  },
  {
   "cell_type": "markdown",
   "metadata": {},
   "source": [
    "#### Tasa de falsos positivos\n",
    "Tasa de falsos positivos = 1 - Especifidad  "
   ]
  },
  {
   "cell_type": "code",
   "execution_count": 31,
   "metadata": {},
   "outputs": [
    {
     "data": {
      "text/plain": [
       "5.29"
      ]
     },
     "execution_count": 31,
     "metadata": {},
     "output_type": "execute_result"
    }
   ],
   "source": [
    "m9 = round(100*(fp/(tn+fp)), 2);m9"
   ]
  },
  {
   "cell_type": "markdown",
   "metadata": {},
   "source": [
    "#### Precisión"
   ]
  },
  {
   "cell_type": "code",
   "execution_count": 32,
   "metadata": {},
   "outputs": [
    {
     "data": {
      "text/plain": [
       "91.75"
      ]
     },
     "execution_count": 32,
     "metadata": {},
     "output_type": "execute_result"
    }
   ],
   "source": [
    "m10 = round(100*(tp /(tp+fp)), 2);m10"
   ]
  },
  {
   "cell_type": "markdown",
   "metadata": {},
   "source": [
    "#### Tasa de respuestas incorrectas"
   ]
  },
  {
   "cell_type": "code",
   "execution_count": 33,
   "metadata": {},
   "outputs": [
    {
     "data": {
      "text/plain": [
       "8.53"
      ]
     },
     "execution_count": 33,
     "metadata": {},
     "output_type": "execute_result"
    }
   ],
   "source": [
    "m11 = round(100*((fn + fp)/(tn+fp+fn+tp)), 2);m11"
   ]
  },
  {
   "cell_type": "markdown",
   "metadata": {},
   "source": [
    "#### Prevalencia"
   ]
  },
  {
   "cell_type": "code",
   "execution_count": 34,
   "metadata": {},
   "outputs": [
    {
     "data": {
      "text/plain": [
       "40.0"
      ]
     },
     "execution_count": 34,
     "metadata": {},
     "output_type": "execute_result"
    }
   ],
   "source": [
    "m12 = round(100*((fn + tp)/(tn+fp+fn+tp)));m12"
   ]
  },
  {
   "cell_type": "markdown",
   "metadata": {},
   "source": [
    "Conclusiones\n",
    "---\n",
    "\n",
    "Se trató de ajustar un modelo de clasificación para decidir si un correo electrínico era __SPAM__ o __NO SPAM__. Ante esta situación, debes tener claro que no lidiamos con un problema tipo \"enfermedad\", en los que particularmente se espera reducir un error tipo 1. Ahora, en este caso, importa tanto reducir el error tipo 1 como el tipo 2:\n",
    "1. Si suponemos que mi clasificador comete más errores clasificando correos __SMAP__ cuando realmente eran __NO SPAM__, esto significa que el usurio podría perder un correo importante a causa de esto. \n",
    "2. Si suponemos que mi clasificador comete más errores clasificando correos __NO ESPAM__ cuando realmente eran __SPAM__, esto significa que el usuario perderá mucho tiempo checando correos que son o promociones o estafas. \n",
    "\n",
    "Dicho lo anterior, se analizarán cada una de las métricas calculadas:\n",
    "\n",
    "1. __Sensibilidad__: La sensiblidad es mayor en el modelo __SIN REGULARIZACIÓN__. Esto quiere decir que de todos los casos reales de correos __SPAM__, el modelo detecto correctamente el 87.23%.\n",
    "2. __Especifidad__: La especifidad es mayor en el modelo __CON REGULARIZACIÓN__. Esto quiere decir que de todos los casos reales de correos __NO SPAM__, el modelo detecto correctamente el 94.71%.\n",
    "\n",
    "La diferencia entre la especifidad de ambos modelos no es tan significativa. Por lo tanto, hasta el momento, consideraría un mejor modelo el __SIN REGULARIZACIÓN__.\n",
    "\n",
    "3. __Tasa de Falsos Positivos__: La tasa de falsos positivos es menor en el modelo __CON REGULARIZACIÓN__. Esto quiere decir que de todos los casos reales de correos __NO SPAM__, el modelo detecto incorrectamente 5.29%.\n",
    "\n",
    "4. __Precisión__: La precisión es mayor en el modelo __CON REGULARIZACIÓN__. Esto quiere decir que de todos los casos predichos de correos  __SPAM__, en realidad el 91.75% de ellos eran __SPAM__.\n",
    "\n",
    "5. __Respuestas incorrectas__: La tasa de respuestas incorrectas es menor en el modelo __CON REGULARIZACIÓN__. Esto quiere decir que el modelo se equivocó en el 8.53% de todos los casos.\n",
    "\n",
    "6. __Prevalencia__: La prevalencia en ambos modelos es la misma porque se están ocupando las mismas proporciones (mismos splits).\n",
    "\n",
    "Con todo lo anterior, se puede llegar a la conclusión de que el modelo __CON REGULARIZACIÓN__ es mejor que el otro modelo, solo siendo superado en cuanto a la sensibilidad por un margen de .51%. Definitivamente uno debería optar por el modelo __CON REGULARIZACIÓN__, pero también es importante considerar qué es lo que se desea.\n",
    "\n"
   ]
  },
  {
   "cell_type": "code",
   "execution_count": 35,
   "metadata": {},
   "outputs": [
    {
     "data": {
      "text/html": [
       "<div>\n",
       "<style scoped>\n",
       "    .dataframe tbody tr th:only-of-type {\n",
       "        vertical-align: middle;\n",
       "    }\n",
       "\n",
       "    .dataframe tbody tr th {\n",
       "        vertical-align: top;\n",
       "    }\n",
       "\n",
       "    .dataframe thead th {\n",
       "        text-align: right;\n",
       "    }\n",
       "</style>\n",
       "<table border=\"1\" class=\"dataframe\">\n",
       "  <thead>\n",
       "    <tr style=\"text-align: right;\">\n",
       "      <th></th>\n",
       "      <th>Con</th>\n",
       "      <th>Sin</th>\n",
       "    </tr>\n",
       "  </thead>\n",
       "  <tbody>\n",
       "    <tr>\n",
       "      <th>Sensibilidad</th>\n",
       "      <td>86.69</td>\n",
       "      <td>87.23</td>\n",
       "    </tr>\n",
       "    <tr>\n",
       "      <th>Especifidad</th>\n",
       "      <td>94.71</td>\n",
       "      <td>94.07</td>\n",
       "    </tr>\n",
       "    <tr>\n",
       "      <th>Tasa Falsos Positivos</th>\n",
       "      <td>5.29</td>\n",
       "      <td>5.93</td>\n",
       "    </tr>\n",
       "    <tr>\n",
       "      <th>Precisión</th>\n",
       "      <td>91.75</td>\n",
       "      <td>90.90</td>\n",
       "    </tr>\n",
       "    <tr>\n",
       "      <th>Respuestas Incorrectas</th>\n",
       "      <td>8.53</td>\n",
       "      <td>8.69</td>\n",
       "    </tr>\n",
       "    <tr>\n",
       "      <th>Prevalencia</th>\n",
       "      <td>40.00</td>\n",
       "      <td>40.00</td>\n",
       "    </tr>\n",
       "  </tbody>\n",
       "</table>\n",
       "</div>"
      ],
      "text/plain": [
       "                          Con    Sin\n",
       "Sensibilidad            86.69  87.23\n",
       "Especifidad             94.71  94.07\n",
       "Tasa Falsos Positivos    5.29   5.93\n",
       "Precisión               91.75  90.90\n",
       "Respuestas Incorrectas   8.53   8.69\n",
       "Prevalencia             40.00  40.00"
      ]
     },
     "execution_count": 35,
     "metadata": {},
     "output_type": "execute_result"
    }
   ],
   "source": [
    "resumen = pd.DataFrame({\"Con\":[m7,m8,m9,m10,m11,m12],\"Sin\":[m1,m2,m3,m4,m5,m6]},\n",
    "                       index =[\"Sensibilidad\",\"Especifidad\",\"Tasa Falsos Positivos\",\"Precisión\", \n",
    "                              \"Respuestas Incorrectas\",\"Prevalencia\"] );resumen"
   ]
  }
 ],
 "metadata": {
  "kernelspec": {
   "display_name": "Python 3",
   "language": "python",
   "name": "python3"
  },
  "language_info": {
   "codemirror_mode": {
    "name": "ipython",
    "version": 3
   },
   "file_extension": ".py",
   "mimetype": "text/x-python",
   "name": "python",
   "nbconvert_exporter": "python",
   "pygments_lexer": "ipython3",
   "version": "3.8.3"
  }
 },
 "nbformat": 4,
 "nbformat_minor": 4
}
