{
 "cells": [
  {
   "cell_type": "markdown",
   "metadata": {},
   "source": [
    "<h1><center> TAREA 2 EJERCICIO 6</center></h1>\n",
    "\n",
    "__Autor__: David Montaño Castro"
   ]
  },
  {
   "cell_type": "markdown",
   "metadata": {},
   "source": [
    "# Librerías"
   ]
  },
  {
   "cell_type": "code",
   "execution_count": 1,
   "metadata": {},
   "outputs": [],
   "source": [
    "import pandas as pd\n",
    "import numpy as np\n",
    "import matplotlib.pyplot as plt\n",
    "import seaborn as sns\n",
    "\n",
    "from sklearn.tree import DecisionTreeRegressor\n",
    "from sklearn.ensemble import ExtraTreesRegressor\n",
    "from sklearn.metrics import r2_score, mean_absolute_error, explained_variance_score, mean_squared_error\n",
    "from sklearn.tree import plot_tree\n",
    "from sklearn.model_selection import KFold\n",
    "from sklearn.model_selection import GridSearchCV\n",
    "\n",
    "plt.rcParams[\"figure.figsize\"] = (15,10) \n",
    "pd.options.mode.chained_assignment = None"
   ]
  },
  {
   "cell_type": "markdown",
   "metadata": {},
   "source": [
    "# Importar datos"
   ]
  },
  {
   "cell_type": "code",
   "execution_count": 2,
   "metadata": {},
   "outputs": [
    {
     "data": {
      "text/html": [
       "<div>\n",
       "<style scoped>\n",
       "    .dataframe tbody tr th:only-of-type {\n",
       "        vertical-align: middle;\n",
       "    }\n",
       "\n",
       "    .dataframe tbody tr th {\n",
       "        vertical-align: top;\n",
       "    }\n",
       "\n",
       "    .dataframe thead th {\n",
       "        text-align: right;\n",
       "    }\n",
       "</style>\n",
       "<table border=\"1\" class=\"dataframe\">\n",
       "  <thead>\n",
       "    <tr style=\"text-align: right;\">\n",
       "      <th></th>\n",
       "      <th>Agricultura</th>\n",
       "      <th>Arquitectura</th>\n",
       "      <th>Artes</th>\n",
       "      <th>Biologia</th>\n",
       "      <th>Negocios</th>\n",
       "      <th>Periodismo</th>\n",
       "      <th>Computacion</th>\n",
       "      <th>Educacion</th>\n",
       "      <th>Ingenieria</th>\n",
       "      <th>LenguaInglesa</th>\n",
       "      <th>LenguasExtranjeras</th>\n",
       "      <th>Medicina</th>\n",
       "      <th>Matematicas</th>\n",
       "      <th>Fisica</th>\n",
       "      <th>Psicologia</th>\n",
       "      <th>Administracion</th>\n",
       "      <th>Sociales</th>\n",
       "    </tr>\n",
       "  </thead>\n",
       "  <tbody>\n",
       "    <tr>\n",
       "      <th>0</th>\n",
       "      <td>4.229798</td>\n",
       "      <td>11.921005</td>\n",
       "      <td>59.7</td>\n",
       "      <td>29.088363</td>\n",
       "      <td>9.064439</td>\n",
       "      <td>35.3</td>\n",
       "      <td>13.6</td>\n",
       "      <td>74.535328</td>\n",
       "      <td>0.8</td>\n",
       "      <td>65.570923</td>\n",
       "      <td>73.8</td>\n",
       "      <td>77.1</td>\n",
       "      <td>38.0</td>\n",
       "      <td>13.8</td>\n",
       "      <td>44.4</td>\n",
       "      <td>68.4</td>\n",
       "      <td>36.8</td>\n",
       "    </tr>\n",
       "    <tr>\n",
       "      <th>1</th>\n",
       "      <td>5.452797</td>\n",
       "      <td>12.003106</td>\n",
       "      <td>59.9</td>\n",
       "      <td>29.394403</td>\n",
       "      <td>9.503187</td>\n",
       "      <td>35.5</td>\n",
       "      <td>13.6</td>\n",
       "      <td>74.149204</td>\n",
       "      <td>1.0</td>\n",
       "      <td>64.556485</td>\n",
       "      <td>73.9</td>\n",
       "      <td>75.5</td>\n",
       "      <td>39.0</td>\n",
       "      <td>14.9</td>\n",
       "      <td>46.2</td>\n",
       "      <td>65.5</td>\n",
       "      <td>36.2</td>\n",
       "    </tr>\n",
       "    <tr>\n",
       "      <th>2</th>\n",
       "      <td>7.420710</td>\n",
       "      <td>13.214594</td>\n",
       "      <td>60.4</td>\n",
       "      <td>29.810221</td>\n",
       "      <td>10.558962</td>\n",
       "      <td>36.6</td>\n",
       "      <td>14.9</td>\n",
       "      <td>73.554520</td>\n",
       "      <td>1.2</td>\n",
       "      <td>63.664263</td>\n",
       "      <td>74.6</td>\n",
       "      <td>76.9</td>\n",
       "      <td>40.2</td>\n",
       "      <td>14.8</td>\n",
       "      <td>47.6</td>\n",
       "      <td>62.6</td>\n",
       "      <td>36.1</td>\n",
       "    </tr>\n",
       "  </tbody>\n",
       "</table>\n",
       "</div>"
      ],
      "text/plain": [
       "   Agricultura  Arquitectura  Artes   Biologia   Negocios  Periodismo  \\\n",
       "0     4.229798     11.921005   59.7  29.088363   9.064439        35.3   \n",
       "1     5.452797     12.003106   59.9  29.394403   9.503187        35.5   \n",
       "2     7.420710     13.214594   60.4  29.810221  10.558962        36.6   \n",
       "\n",
       "   Computacion  Educacion  Ingenieria  LenguaInglesa  LenguasExtranjeras  \\\n",
       "0         13.6  74.535328         0.8      65.570923                73.8   \n",
       "1         13.6  74.149204         1.0      64.556485                73.9   \n",
       "2         14.9  73.554520         1.2      63.664263                74.6   \n",
       "\n",
       "   Medicina  Matematicas  Fisica  Psicologia  Administracion  Sociales  \n",
       "0      77.1         38.0    13.8        44.4            68.4      36.8  \n",
       "1      75.5         39.0    14.9        46.2            65.5      36.2  \n",
       "2      76.9         40.2    14.8        47.6            62.6      36.1  "
      ]
     },
     "execution_count": 2,
     "metadata": {},
     "output_type": "execute_result"
    }
   ],
   "source": [
    "df = pd.read_csv(\"universitarios.csv\").drop(columns = \"Generacion\");df.head(3)"
   ]
  },
  {
   "cell_type": "markdown",
   "metadata": {},
   "source": [
    "# 5 Variables más importantes\n",
    "Arquitectura, Negocios, Ingeniería, Periodísmo y Computación son las varaibles más importantes a utilizar en el modelo."
   ]
  },
  {
   "cell_type": "code",
   "execution_count": 3,
   "metadata": {},
   "outputs": [
    {
     "data": {
      "text/plain": [
       "<matplotlib.axes._subplots.AxesSubplot at 0x151b01ba0a0>"
      ]
     },
     "execution_count": 3,
     "metadata": {},
     "output_type": "execute_result"
    },
    {
     "data": {
      "image/png": "[encoded data removed]",
      "text/plain": [
       "<Figure size 1080x720 with 1 Axes>"
      ]
     },
     "metadata": {
      "needs_background": "light"
     },
     "output_type": "display_data"
    }
   ],
   "source": [
    "X = df.drop(columns = \"Matematicas\")\n",
    "Y = df.Matematicas\n",
    "selectioner = ExtraTreesRegressor().fit(X,Y)\n",
    "selectioner.feature_importances_\n",
    "\n",
    "feat_importances = pd.Series(selectioner.feature_importances_, index=X.columns)\n",
    "feat_importances.nlargest(5).plot(kind='barh')"
   ]
  },
  {
   "cell_type": "code",
   "execution_count": 4,
   "metadata": {},
   "outputs": [],
   "source": [
    "df1 = df[[\"Computacion\", \"Periodismo\",\"Ingenieria\",\"Negocios\",\"Arquitectura\",\"Matematicas\"]]\n",
    "X1 = df1.drop(columns = \"Matematicas\")\n",
    "Y1 = df1.Matematicas"
   ]
  },
  {
   "cell_type": "markdown",
   "metadata": {},
   "source": [
    "# Ajustar el árbol por 10 folios"
   ]
  },
  {
   "cell_type": "code",
   "execution_count": 9,
   "metadata": {},
   "outputs": [
    {
     "name": "stdout",
     "output_type": "stream",
     "text": [
      "--------------------------------------------------\n",
      "Folio:  1\n",
      "LEN 5\n",
      "--------------------------------------------------\n",
      "Folds= 10\n",
      "R2= -1.9981002083932213\n",
      "MAE= 1.9057142857142864\n",
      "MSE= 5.449346938775511\n",
      "RMSE= 2.3343836314486768\n",
      "Varianza Explicada= -4.440892098500626e-16\n",
      "--------------------------------------------------\n",
      "--------------------------------------------------\n",
      "Folio:  2\n",
      "LEN 5\n",
      "--------------------------------------------------\n",
      "Folds= 10\n",
      "R2= -1.2450404742902905\n",
      "MAE= 0.6542857142857145\n",
      "MSE= 0.6429795918367349\n",
      "RMSE= 0.8018600824562443\n",
      "Varianza Explicada= 0.0\n",
      "--------------------------------------------------\n",
      "--------------------------------------------------\n",
      "Folio:  3\n",
      "LEN 4\n",
      "--------------------------------------------------\n",
      "Folds= 10\n",
      "R2= -9.652450585300384\n",
      "MAE= 1.9216666666666704\n",
      "MSE= 3.854855555555572\n",
      "RMSE= 1.9633786072878485\n",
      "Varianza Explicada= -9.290992132028455\n",
      "--------------------------------------------------\n",
      "--------------------------------------------------\n",
      "Folio:  4\n",
      "LEN 4\n",
      "--------------------------------------------------\n",
      "Folds= 10\n",
      "R2= -18.84313725490179\n",
      "MAE= 0.774999999999995\n",
      "MSE= 0.6324999999999932\n",
      "RMSE= 0.7952986860293391\n",
      "Varianza Explicada= -18.352941176470388\n",
      "--------------------------------------------------\n",
      "--------------------------------------------------\n",
      "Folio:  5\n",
      "LEN 4\n",
      "--------------------------------------------------\n",
      "Folds= 10\n",
      "R2= -1.756306068601559\n",
      "MAE= 0.6449999999999925\n",
      "MSE= 0.6528999999999882\n",
      "RMSE= 0.8080222769206231\n",
      "Varianza Explicada= 1.1102230246251565e-16\n",
      "--------------------------------------------------\n",
      "--------------------------------------------------\n",
      "Folio:  6\n",
      "LEN 4\n",
      "--------------------------------------------------\n",
      "Folds= 10\n",
      "R2= -1.9270569541685472\n",
      "MAE= 0.703571428571431\n",
      "MSE= 0.7518877551020435\n",
      "RMSE= 0.8671146147436586\n",
      "Varianza Explicada= 0.0\n",
      "--------------------------------------------------\n",
      "--------------------------------------------------\n",
      "Folio:  7\n",
      "LEN 4\n",
      "--------------------------------------------------\n",
      "Folds= 10\n",
      "R2= -0.18995659368329165\n",
      "MAE= 0.6749999999999989\n",
      "MSE= 0.6329081632652993\n",
      "RMSE= 0.7955552546902693\n",
      "Varianza Explicada= 0.0\n",
      "--------------------------------------------------\n",
      "--------------------------------------------------\n",
      "Folio:  8\n",
      "LEN 4\n",
      "--------------------------------------------------\n",
      "Folds= 10\n",
      "R2= -0.25606792945787515\n",
      "MAE= 0.985000000000003\n",
      "MSE= 1.201900000000005\n",
      "RMSE= 1.096311999387038\n",
      "Varianza Explicada= 0.0\n",
      "--------------------------------------------------\n",
      "--------------------------------------------------\n",
      "Folio:  9\n",
      "LEN 4\n",
      "--------------------------------------------------\n",
      "Folds= 10\n",
      "R2= -3.042222222222251\n",
      "MAE= 0.7400000000000038\n",
      "MSE= 0.7276000000000058\n",
      "RMSE= 0.8529947244854482\n",
      "Varianza Explicada= 1.1102230246251565e-16\n",
      "--------------------------------------------------\n",
      "--------------------------------------------------\n",
      "Folio:  10\n",
      "LEN 4\n",
      "--------------------------------------------------\n",
      "Folds= 10\n",
      "R2= -306.25000000001677\n",
      "MAE= 1.7500000000000107\n",
      "MSE= 3.072500000000037\n",
      "RMSE= 1.752854814295821\n",
      "Varianza Explicada= 2.220446049250313e-16\n",
      "--------------------------------------------------\n",
      "--------------------------------------------------\n",
      "Validacion Cruzada\n",
      "--------------------------------------------------\n",
      "FOLIOS = 10\n",
      "R2= 0.7333090172575184\n",
      "MAE= 1.0852607709750577\n",
      "MSE= 1.8230913940179285\n",
      "RMSE= 1.3502190170553547\n",
      "Varianza Explicada= 0.7620987756429638\n",
      "--------------------------------------------------\n"
     ]
    },
    {
     "data": {
      "image/png": "[encoded data removed]",
      "text/plain": [
       "<Figure size 792x792 with 1 Axes>"
      ]
     },
     "metadata": {
      "needs_background": "light"
     },
     "output_type": "display_data"
    }
   ],
   "source": [
    "splits = 10\n",
    "max_depth = 10\n",
    "min_samples_leaf=5\n",
    "\n",
    "X = X1\n",
    "Y = Y1\n",
    "Y_est = []\n",
    "i=1\n",
    "kfolds = KFold(n_splits=splits)\n",
    "for train_index, test_index in kfolds.split(X):\n",
    "    X_train, X_test = X.loc[train_index], X.loc[test_index]\n",
    "    Y_train, Y_test = Y.loc[train_index], Y.loc[test_index]\n",
    "    kfold_regressor = DecisionTreeRegressor(\n",
    "                            criterion='mse',\n",
    "                            max_depth=max_depth,\n",
    "                            min_samples_leaf=min_samples_leaf,\n",
    "                            max_features = \"log2\")\\\n",
    "                        .fit(X_train,Y_train)\n",
    "    Y_k_est = kfold_regressor.predict(X_test)\n",
    "    Y_est += list(Y_k_est)\n",
    "    print('-'*50)\n",
    "    print('Folio: ',i)\n",
    "    print('LEN',len(Y_test))\n",
    "    print('-'*50)\n",
    "    print('Folds=',splits)\n",
    "    print('R2=',r2_score(Y_test,Y_k_est))\n",
    "    print('MAE=',mean_absolute_error(Y_test,Y_k_est))\n",
    "    print('MSE=',mean_squared_error(Y_test,Y_k_est))\n",
    "    print('RMSE=',np.sqrt(mean_squared_error(Y_test,Y_k_est)))\n",
    "    print('Varianza Explicada=',explained_variance_score(Y_test,Y_k_est))\n",
    "    print('-'*50)\n",
    "    i += 1\n",
    "df1['y_est']=Y_est\n",
    "\n",
    "print('-'*50)\n",
    "print('Validacion Cruzada')\n",
    "print('-'*50)\n",
    "print('FOLIOS =',splits)\n",
    "print('R2=',r2_score(df1[\"Matematicas\"],df1['y_est']))\n",
    "print('MAE=',mean_absolute_error(df1[\"Matematicas\"],df1['y_est']))\n",
    "print('MSE=',mean_squared_error(df1[\"Matematicas\"],df1['y_est']))\n",
    "print('RMSE=',np.sqrt(mean_squared_error(df1[\"Matematicas\"],df1['y_est'])))\n",
    "print('Varianza Explicada=',explained_variance_score(df1[\"Matematicas\"],df1['y_est']))\n",
    "print('-'*50)\n",
    "plt.figure(figsize=(11,11))\n",
    "ax = sns.scatterplot(x=df1[\"Matematicas\"],y=df1['y_est'] ,color='Blue') "
   ]
  },
  {
   "cell_type": "markdown",
   "metadata": {},
   "source": [
    "# Conclusión"
   ]
  },
  {
   "cell_type": "markdown",
   "metadata": {},
   "source": [
    "Se obtiene de manera general una $R^2$ = 0.7333, lo cual cumple con el requerimiento de la tarea."
   ]
  }
 ],
 "metadata": {
  "kernelspec": {
   "display_name": "Python 3",
   "language": "python",
   "name": "python3"
  },
  "language_info": {
   "codemirror_mode": {
    "name": "ipython",
    "version": 3
   },
   "file_extension": ".py",
   "mimetype": "text/x-python",
   "name": "python",
   "nbconvert_exporter": "python",
   "pygments_lexer": "ipython3",
   "version": "3.8.3"
  }
 },
 "nbformat": 4,
 "nbformat_minor": 4
}
